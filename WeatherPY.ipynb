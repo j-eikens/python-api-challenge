{
 "cells": [
  {
   "cell_type": "markdown",
   "id": "a54aed1a",
   "metadata": {},
   "source": [
    "# WeatherPy\n",
    "----\n",
    "\n",
    "#### Note\n",
    "* Instructions have been included for each segment. You do not have to follow them exactly, but they are included to help you think through the steps."
   ]
  },
  {
   "cell_type": "code",
   "execution_count": 1,
   "id": "6c1becb2",
   "metadata": {
    "scrolled": true
   },
   "outputs": [],
   "source": [
    "# Dependencies and Setup\n",
    "import matplotlib.pyplot as plt\n",
    "import pandas as pd\n",
    "import numpy as np\n",
    "import requests\n",
    "import time\n",
    "from scipy.stats import linregress\n",
    "import time\n",
    "\n",
    "# Import API key\n",
    "from api_keys import api_key\n",
    "\n",
    "# Incorporated citipy to determine city based on latitude and longitude\n",
    "from citipy import citipy\n",
    "\n",
    "# Output File (CSV)\n",
    "output_data_file = \"output_data/cities.csv\"\n",
    "\n",
    "# Range of latitudes and longitudes\n",
    "lat_range = (-90, 90)\n",
    "lng_range = (-180, 180)"
   ]
  },
  {
   "cell_type": "markdown",
   "id": "7f0100ac",
   "metadata": {},
   "source": [
    "## Generate Cities List"
   ]
  },
  {
   "cell_type": "code",
   "execution_count": 2,
   "id": "60572b1b",
   "metadata": {},
   "outputs": [
    {
     "data": {
      "text/plain": [
       "632"
      ]
     },
     "execution_count": 2,
     "metadata": {},
     "output_type": "execute_result"
    }
   ],
   "source": [
    "# List for holding lat_lngs and cities\n",
    "lat_lngs = []\n",
    "cities = []\n",
    "\n",
    "# Create a set of random lat and lng combinations\n",
    "lats = np.random.uniform(lat_range[0], lat_range[1], size=1500)\n",
    "lngs = np.random.uniform(lng_range[0], lng_range[1], size=1500)\n",
    "lat_lngs = zip(lats, lngs)\n",
    "\n",
    "# Identify nearest city for each lat, lng combination\n",
    "for lat_lng in lat_lngs:\n",
    "    city = citipy.nearest_city(lat_lng[0], lat_lng[1]).city_name\n",
    "    \n",
    "    # If the city is unique, then add it to a our cities list\n",
    "    if city not in cities:\n",
    "        cities.append(city)\n",
    "        \n",
    "    # Print the city count to confirm sufficient count\n",
    "len(cities)"
   ]
  },
  {
   "cell_type": "markdown",
   "id": "91cae116",
   "metadata": {},
   "source": [
    "### Perform API Calls\n",
    "* Perform a weather check on each city using a series of successive API calls.\n",
    "* Include a print log of each city as it'sbeing processed (with the city number and city name).\n"
   ]
  },
  {
   "cell_type": "code",
   "execution_count": 3,
   "id": "365bc49e",
   "metadata": {},
   "outputs": [],
   "source": [
    "#building query url\n",
    "url = \"http://api.openweathermap.org/data/2.5/weather?\"\n",
    "units = \"metric\"\n",
    "query_url = f'{url}&appid={api_key}&units={units}&q='"
   ]
  },
  {
   "cell_type": "code",
   "execution_count": 4,
   "id": "f1de8958",
   "metadata": {
    "scrolled": true
   },
   "outputs": [
    {
     "name": "stdout",
     "output_type": "stream",
     "text": [
      "City number: 1. City name: cabo san lucas\n",
      "City number: 2. City name: airai\n",
      "City number: 3. City name: upernavik\n",
      "City number: 4. City name: marcona\n",
      "City not found.\n",
      "City number: 5. City name: punta arenas\n",
      "City number: 6. City name: qaanaaq\n",
      "City number: 7. City name: jamestown\n",
      "City number: 8. City name: bengkulu\n",
      "City number: 9. City name: albany\n",
      "City number: 10. City name: new norfolk\n",
      "City number: 11. City name: vaini\n",
      "City number: 12. City name: paamiut\n",
      "City number: 13. City name: nanortalik\n",
      "City number: 14. City name: fairbanks\n",
      "City number: 15. City name: taolanaro\n",
      "City not found.\n",
      "City number: 16. City name: madang\n",
      "City number: 17. City name: avarua\n",
      "City number: 18. City name: arraial do cabo\n",
      "City number: 19. City name: great falls\n",
      "City number: 20. City name: pucallpa\n",
      "City number: 21. City name: kodiak\n",
      "City number: 22. City name: chuy\n",
      "City number: 23. City name: atuona\n",
      "City number: 24. City name: bredasdorp\n",
      "City number: 25. City name: aklavik\n",
      "City number: 26. City name: mataura\n",
      "City number: 27. City name: zolotinka\n",
      "City not found.\n",
      "City number: 28. City name: pringsewu\n",
      "City number: 29. City name: constitucion\n",
      "City number: 30. City name: yellowknife\n",
      "City number: 31. City name: goudomp\n",
      "City not found.\n",
      "City number: 32. City name: marzuq\n",
      "City number: 33. City name: busselton\n",
      "City number: 34. City name: port blair\n",
      "City number: 35. City name: tabou\n",
      "City number: 36. City name: bintulu\n",
      "City number: 37. City name: huarmey\n",
      "City number: 38. City name: cape town\n",
      "City number: 39. City name: teya\n",
      "City number: 40. City name: nilopolis\n",
      "City number: 41. City name: lebu\n",
      "City number: 42. City name: kruisfontein\n",
      "City number: 43. City name: gorontalo\n",
      "City number: 44. City name: ushuaia\n",
      "City number: 45. City name: mahon\n",
      "City number: 46. City name: guangyuan\n",
      "City number: 47. City name: coihaique\n",
      "City number: 48. City name: skwierzyna\n",
      "City number: 49. City name: baruun-urt\n",
      "City number: 50. City name: naze\n",
      "City number: 51. City name: port alfred\n",
      "City number: 52. City name: dikson\n",
      "City number: 53. City name: kousseri\n",
      "City number: 54. City name: meulaboh\n",
      "City number: 55. City name: graaff-reinet\n",
      "City number: 56. City name: verkhnyaya sysert\n",
      "City number: 57. City name: saint-philippe\n",
      "City number: 58. City name: barahona\n",
      "City number: 59. City name: khatanga\n",
      "City number: 60. City name: longyearbyen\n",
      "City number: 61. City name: eureka\n",
      "City number: 62. City name: cherskiy\n",
      "City number: 63. City name: churapcha\n",
      "City number: 64. City name: cidreira\n",
      "City number: 65. City name: hobart\n",
      "City number: 66. City name: hermanus\n",
      "City number: 67. City name: yumen\n",
      "City number: 68. City name: barrow\n",
      "City number: 69. City name: nhulunbuy\n",
      "City number: 70. City name: la ronge\n",
      "City number: 71. City name: ubinskoye\n",
      "City number: 72. City name: kapaa\n",
      "City number: 73. City name: sao filipe\n",
      "City number: 74. City name: beringovskiy\n",
      "City number: 75. City name: provideniya\n",
      "City number: 76. City name: bluff\n",
      "City number: 77. City name: vincennes\n",
      "City number: 78. City name: lorengau\n",
      "City number: 79. City name: kamenskoye\n",
      "City not found.\n",
      "City number: 80. City name: bargal\n",
      "City not found.\n",
      "City number: 81. City name: bonavista\n",
      "City number: 82. City name: vila velha\n",
      "City number: 83. City name: tayshet\n",
      "City number: 84. City name: tumannyy\n",
      "City not found.\n",
      "City number: 85. City name: nikolskoye\n",
      "City number: 86. City name: hovd\n",
      "City number: 87. City name: belushya guba\n",
      "City not found.\n",
      "City number: 88. City name: nairobi\n",
      "City number: 89. City name: illoqqortoormiut\n",
      "City not found.\n",
      "City number: 90. City name: prince rupert\n",
      "City number: 91. City name: sioux lookout\n",
      "City number: 92. City name: mar del plata\n",
      "City number: 93. City name: clyde river\n",
      "City number: 94. City name: baghdad\n",
      "City number: 95. City name: vila franca do campo\n",
      "City number: 96. City name: rikitea\n",
      "City number: 97. City name: east london\n",
      "City number: 98. City name: moengo\n",
      "City number: 99. City name: kismayo\n",
      "City number: 100. City name: chimbote\n",
      "City number: 101. City name: torbay\n",
      "City number: 102. City name: akyab\n",
      "City number: 103. City name: marfino\n",
      "City number: 104. City name: honningsvag\n",
      "City number: 105. City name: saint george\n",
      "City number: 106. City name: cabedelo\n",
      "City number: 107. City name: west fargo\n",
      "City number: 108. City name: nizhneyansk\n",
      "City not found.\n",
      "City number: 109. City name: mpika\n",
      "City number: 110. City name: santa maria\n",
      "City number: 111. City name: souillac\n",
      "City number: 112. City name: mys shmidta\n",
      "City not found.\n",
      "City number: 113. City name: carnarvon\n",
      "City number: 114. City name: stromness\n",
      "City number: 115. City name: vieste\n",
      "City number: 116. City name: butaritari\n",
      "City number: 117. City name: lata\n",
      "City number: 118. City name: san rafael\n",
      "City number: 119. City name: chauk\n",
      "City number: 120. City name: fenoarivo\n",
      "City number: 121. City name: ostrovnoy\n",
      "City number: 122. City name: yialos\n",
      "City not found.\n",
      "City number: 123. City name: rey bouba\n",
      "City number: 124. City name: chokurdakh\n",
      "City number: 125. City name: metro\n",
      "City number: 126. City name: narsaq\n",
      "City number: 127. City name: attawapiskat\n",
      "City not found.\n",
      "City number: 128. City name: touba\n",
      "City number: 129. City name: cururupu\n",
      "City number: 130. City name: hithadhoo\n",
      "City number: 131. City name: namibe\n",
      "City number: 132. City name: lokoja\n",
      "City number: 133. City name: port hardy\n",
      "City number: 134. City name: jamnah\n",
      "City not found.\n",
      "City number: 135. City name: jalu\n",
      "City number: 136. City name: kavieng\n",
      "City number: 137. City name: sentyabrskiy\n",
      "City not found.\n",
      "City number: 138. City name: smidovich\n",
      "City number: 139. City name: mecca\n",
      "City number: 140. City name: hasaki\n",
      "City number: 141. City name: camopi\n",
      "City number: 142. City name: amazar\n",
      "City number: 143. City name: manadhoo\n",
      "City number: 144. City name: toliary\n",
      "City not found.\n",
      "City number: 145. City name: aden\n",
      "City number: 146. City name: mayo\n",
      "City number: 147. City name: tucuma\n",
      "City number: 148. City name: dijkot\n",
      "City number: 149. City name: puerto colombia\n",
      "City number: 150. City name: puerto ayora\n",
      "City number: 151. City name: willmar\n",
      "City number: 152. City name: mayor pablo lagerenza\n",
      "City number: 153. City name: henties bay\n",
      "City number: 154. City name: tungkang\n",
      "City not found.\n",
      "City number: 155. City name: coquimbo\n",
      "City number: 156. City name: ancud\n",
      "City number: 157. City name: buluang\n",
      "City number: 158. City name: tuktoyaktuk\n",
      "City number: 159. City name: bonthe\n",
      "City number: 160. City name: umzimvubu\n",
      "City not found.\n",
      "City number: 161. City name: kudahuvadhoo\n",
      "City number: 162. City name: riyadh\n",
      "City number: 163. City name: san patricio\n",
      "City number: 164. City name: hilo\n",
      "City number: 165. City name: tsihombe\n",
      "City not found.\n",
      "City number: 166. City name: oranjestad\n",
      "City number: 167. City name: ust-kulom\n",
      "City number: 168. City name: bathsheba\n",
      "City number: 169. City name: cap malheureux\n",
      "City number: 170. City name: balykshi\n",
      "City number: 171. City name: ribeira grande\n",
      "City number: 172. City name: tasiilaq\n",
      "City number: 173. City name: dudinka\n",
      "City number: 174. City name: matameye\n",
      "City not found.\n",
      "City number: 175. City name: sur\n",
      "City number: 176. City name: luderitz\n",
      "City number: 177. City name: marsa matruh\n",
      "City number: 178. City name: saldanha\n",
      "City number: 179. City name: borovichi\n",
      "City number: 180. City name: scottsbluff\n",
      "City number: 181. City name: taoudenni\n",
      "City number: 182. City name: hornepayne\n",
      "City number: 183. City name: ovalle\n",
      "City number: 184. City name: tyazhinskiy\n",
      "City number: 185. City name: manta\n",
      "City number: 186. City name: miragoane\n",
      "City number: 187. City name: iona\n",
      "City number: 188. City name: pevek\n",
      "City number: 189. City name: sulangan\n",
      "City number: 190. City name: flinders\n",
      "City number: 191. City name: lompoc\n",
      "City number: 192. City name: dwarka\n",
      "City number: 193. City name: pangnirtung\n",
      "City number: 194. City name: linqing\n",
      "City number: 195. City name: iberia\n",
      "City number: 196. City name: batagay\n",
      "City number: 197. City name: zhezkazgan\n",
      "City number: 198. City name: khanpur\n",
      "City number: 199. City name: ambodifototra\n",
      "City not found.\n",
      "City number: 200. City name: tual\n",
      "City number: 201. City name: funtua\n",
      "City number: 202. City name: itapirapua\n",
      "City number: 203. City name: bambous virieux\n",
      "City number: 204. City name: yulara\n",
      "City number: 205. City name: vardo\n",
      "City number: 206. City name: vaitupu\n",
      "City not found.\n",
      "City number: 207. City name: alta floresta\n"
     ]
    },
    {
     "name": "stdout",
     "output_type": "stream",
     "text": [
      "City number: 208. City name: caravelas\n",
      "City number: 209. City name: castro\n",
      "City number: 210. City name: buchanan\n",
      "City number: 211. City name: marienburg\n",
      "City number: 212. City name: tagab\n",
      "City number: 213. City name: dunmore town\n",
      "City number: 214. City name: phan rang\n",
      "City not found.\n",
      "City number: 215. City name: westport\n",
      "City number: 216. City name: sao jose da coroa grande\n",
      "City number: 217. City name: ponta do sol\n",
      "City number: 218. City name: forio\n",
      "City number: 219. City name: thompson\n",
      "City number: 220. City name: yaan\n",
      "City number: 221. City name: komsomolskiy\n",
      "City number: 222. City name: salalah\n",
      "City number: 223. City name: valley\n",
      "City number: 224. City name: ambulu\n",
      "City number: 225. City name: saint-francois\n",
      "City number: 226. City name: matara\n",
      "City number: 227. City name: sambava\n",
      "City number: 228. City name: catamarca\n",
      "City number: 229. City name: otoka\n",
      "City number: 230. City name: alugan\n",
      "City number: 231. City name: tiarei\n",
      "City number: 232. City name: norman wells\n",
      "City number: 233. City name: kaitangata\n",
      "City number: 234. City name: salaga\n",
      "City number: 235. City name: hambantota\n",
      "City number: 236. City name: santa isabel\n",
      "City number: 237. City name: ust-kamchatsk\n",
      "City not found.\n",
      "City number: 238. City name: saleaula\n",
      "City not found.\n",
      "City number: 239. City name: batken\n",
      "City number: 240. City name: san policarpo\n",
      "City number: 241. City name: tiksi\n",
      "City number: 242. City name: san remo\n",
      "City number: 243. City name: kahului\n",
      "City number: 244. City name: jumla\n",
      "City number: 245. City name: lakes entrance\n",
      "City number: 246. City name: matamoros\n",
      "City number: 247. City name: katsuura\n",
      "City number: 248. City name: marawi\n",
      "City number: 249. City name: lolua\n",
      "City not found.\n",
      "City number: 250. City name: vestmannaeyjar\n",
      "City number: 251. City name: hanna\n",
      "City number: 252. City name: great bend\n",
      "City number: 253. City name: port elizabeth\n",
      "City number: 254. City name: kikwit\n",
      "City number: 255. City name: viedma\n",
      "City number: 256. City name: husavik\n",
      "City number: 257. City name: kharp\n",
      "City number: 258. City name: severo-kurilsk\n",
      "City number: 259. City name: manokwari\n",
      "City number: 260. City name: khani\n",
      "City number: 261. City name: luganville\n",
      "City number: 262. City name: kihei\n",
      "City number: 263. City name: bilma\n",
      "City number: 264. City name: porto santo\n",
      "City number: 265. City name: leningradskiy\n",
      "City number: 266. City name: portland\n",
      "City number: 267. City name: nampula\n",
      "City number: 268. City name: pacific grove\n",
      "City number: 269. City name: victoria\n",
      "City number: 270. City name: samusu\n",
      "City not found.\n",
      "City number: 271. City name: verkhoyansk\n",
      "City number: 272. City name: oxapampa\n",
      "City number: 273. City name: putina\n",
      "City number: 274. City name: tartagal\n",
      "City number: 275. City name: avera\n",
      "City number: 276. City name: saskylakh\n",
      "City number: 277. City name: esperance\n",
      "City number: 278. City name: kuche\n",
      "City not found.\n",
      "City number: 279. City name: ilulissat\n",
      "City number: 280. City name: quatre cocos\n",
      "City number: 281. City name: acapulco\n",
      "City number: 282. City name: ahuimanu\n",
      "City number: 283. City name: arteaga\n",
      "City number: 284. City name: skiros\n",
      "City not found.\n",
      "City number: 285. City name: trairi\n",
      "City number: 286. City name: vrangel\n",
      "City number: 287. City name: shakiso\n",
      "City number: 288. City name: tarko-sale\n",
      "City number: 289. City name: grimshaw\n",
      "City number: 290. City name: dingle\n",
      "City number: 291. City name: saint anthony\n",
      "City number: 292. City name: hofn\n",
      "City number: 293. City name: godda\n",
      "City number: 294. City name: manggar\n",
      "City number: 295. City name: sandwick\n",
      "City number: 296. City name: rio grande\n",
      "City number: 297. City name: mareeba\n",
      "City number: 298. City name: mujiayingzi\n",
      "City number: 299. City name: launceston\n",
      "City number: 300. City name: turgenevo\n",
      "City number: 301. City name: tuatapere\n",
      "City number: 302. City name: bethel\n",
      "City number: 303. City name: puerto gaitan\n",
      "City number: 304. City name: sidi ali\n",
      "City number: 305. City name: ituni\n",
      "City not found.\n",
      "City number: 306. City name: mount gambier\n",
      "City number: 307. City name: masjed-e soleyman\n",
      "City not found.\n",
      "City number: 308. City name: murray bridge\n",
      "City number: 309. City name: hammerfest\n",
      "City number: 310. City name: varena\n",
      "City number: 311. City name: san cristobal\n",
      "City number: 312. City name: amderma\n",
      "City not found.\n",
      "City number: 313. City name: matinhos\n",
      "City number: 314. City name: belogorsk\n",
      "City number: 315. City name: tierralta\n",
      "City number: 316. City name: rodez\n",
      "City number: 317. City name: bozhou\n",
      "City number: 318. City name: kumluca\n",
      "City number: 319. City name: salinopolis\n",
      "City number: 320. City name: muli\n",
      "City number: 321. City name: balaceanu\n",
      "City number: 322. City name: georgetown\n",
      "City number: 323. City name: chegutu\n",
      "City number: 324. City name: honiara\n",
      "City number: 325. City name: shimoda\n",
      "City number: 326. City name: egvekinot\n",
      "City number: 327. City name: gamba\n",
      "City number: 328. City name: nishihara\n",
      "City number: 329. City name: mangla\n",
      "City number: 330. City name: ambon\n",
      "City number: 331. City name: sept-iles\n",
      "City number: 332. City name: tateyama\n",
      "City number: 333. City name: puerto escondido\n",
      "City number: 334. City name: luanda\n",
      "City number: 335. City name: vallenar\n",
      "City number: 336. City name: koslan\n",
      "City number: 337. City name: golden gate\n",
      "City number: 338. City name: harlingen\n",
      "City number: 339. City name: manama\n",
      "City number: 340. City name: tautira\n",
      "City number: 341. City name: shiraz\n",
      "City number: 342. City name: laguna\n",
      "City number: 343. City name: porto empedocle\n",
      "City number: 344. City name: ruian\n",
      "City not found.\n",
      "City number: 345. City name: russell\n",
      "City number: 346. City name: bandarbeyla\n",
      "City number: 347. City name: manaure\n",
      "City number: 348. City name: moerai\n",
      "City number: 349. City name: magnolia\n",
      "City number: 350. City name: kodinsk\n",
      "City number: 351. City name: etchoropo\n",
      "City number: 352. City name: barentsburg\n",
      "City not found.\n",
      "City number: 353. City name: port lincoln\n",
      "City number: 354. City name: graham\n",
      "City number: 355. City name: sattahip\n",
      "City number: 356. City name: gelemso\n",
      "City number: 357. City name: weinan\n",
      "City number: 358. City name: shingu\n",
      "City number: 359. City name: veraval\n",
      "City number: 360. City name: saint-gabriel\n",
      "City number: 361. City name: asmara\n",
      "City number: 362. City name: samarai\n",
      "City number: 363. City name: lambarene\n",
      "City number: 364. City name: dungarpur\n",
      "City number: 365. City name: rundu\n",
      "City number: 366. City name: auki\n",
      "City number: 367. City name: ocos\n",
      "City number: 368. City name: grindavik\n",
      "City number: 369. City name: mananara\n",
      "City number: 370. City name: mahebourg\n",
      "City number: 371. City name: iqaluit\n",
      "City number: 372. City name: isoka\n",
      "City number: 373. City name: tevaitoa\n",
      "City number: 374. City name: mbanza-ngungu\n",
      "City number: 375. City name: mumford\n",
      "City number: 376. City name: fukue\n",
      "City number: 377. City name: mexico\n",
      "City number: 378. City name: faanui\n",
      "City number: 379. City name: faridan\n",
      "City not found.\n",
      "City number: 380. City name: vladyslavivka\n",
      "City number: 381. City name: nioro\n",
      "City number: 382. City name: warqla\n",
      "City not found.\n",
      "City number: 383. City name: socorro\n",
      "City number: 384. City name: dukat\n",
      "City number: 385. City name: svetlaya\n",
      "City number: 386. City name: takoradi\n",
      "City number: 387. City name: sucua\n",
      "City number: 388. City name: roma\n",
      "City number: 389. City name: grand river south east\n",
      "City not found.\n",
      "City number: 390. City name: acajutla\n",
      "City number: 391. City name: francistown\n",
      "City number: 392. City name: alghero\n",
      "City number: 393. City name: ahipara\n",
      "City number: 394. City name: anadyr\n",
      "City number: 395. City name: san quintin\n",
      "City number: 396. City name: hihifo\n",
      "City not found.\n",
      "City number: 397. City name: gallup\n",
      "City number: 398. City name: tuy hoa\n",
      "City number: 399. City name: richards bay\n",
      "City number: 400. City name: shache\n",
      "City number: 401. City name: deputatskiy\n",
      "City number: 402. City name: devils lake\n",
      "City number: 403. City name: korla\n",
      "City number: 404. City name: kosovska mitrovica\n",
      "City number: 405. City name: asau\n",
      "City number: 406. City name: payo\n",
      "City number: 407. City name: crab hill\n",
      "City not found.\n",
      "City number: 408. City name: filingue\n",
      "City number: 409. City name: andenes\n",
      "City number: 410. City name: dubti\n",
      "City number: 411. City name: sitka\n",
      "City number: 412. City name: qaqortoq\n",
      "City number: 413. City name: belmonte\n",
      "City number: 414. City name: khonuu\n",
      "City not found.\n"
     ]
    },
    {
     "name": "stdout",
     "output_type": "stream",
     "text": [
      "City number: 415. City name: maniitsoq\n",
      "City number: 416. City name: bethanien\n",
      "City number: 417. City name: port-gentil\n",
      "City number: 418. City name: karratha\n",
      "City number: 419. City name: fortuna\n",
      "City number: 420. City name: nigel\n",
      "City number: 421. City name: lavrentiya\n",
      "City number: 422. City name: ailigandi\n",
      "City number: 423. City name: novyy urengoy\n",
      "City number: 424. City name: gourcy\n",
      "City number: 425. City name: flin flon\n",
      "City number: 426. City name: nelson bay\n",
      "City number: 427. City name: svetlyy\n",
      "City number: 428. City name: sorvag\n",
      "City not found.\n",
      "City number: 429. City name: umm kaddadah\n",
      "City number: 430. City name: vao\n",
      "City number: 431. City name: talnakh\n",
      "City number: 432. City name: sergeyevka\n",
      "City number: 433. City name: natchitoches\n",
      "City number: 434. City name: sorland\n",
      "City number: 435. City name: rorvik\n",
      "City number: 436. City name: poronaysk\n",
      "City number: 437. City name: meyungs\n",
      "City not found.\n",
      "City number: 438. City name: kilindoni\n",
      "City number: 439. City name: padang\n",
      "City number: 440. City name: porto novo\n",
      "City number: 441. City name: ankazoabo\n",
      "City number: 442. City name: magui\n",
      "City not found.\n",
      "City number: 443. City name: kailua\n",
      "City number: 444. City name: igrim\n",
      "City number: 445. City name: ponnani\n",
      "City number: 446. City name: visby\n",
      "City number: 447. City name: college\n",
      "City number: 448. City name: iralaya\n",
      "City number: 449. City name: tomatlan\n",
      "City number: 450. City name: bagdarin\n",
      "City number: 451. City name: ballina\n",
      "City number: 452. City name: sangar\n",
      "City number: 453. City name: preobrazheniye\n",
      "City number: 454. City name: dezful\n",
      "City number: 455. City name: son la\n",
      "City number: 456. City name: nome\n",
      "City number: 457. City name: geraldton\n",
      "City number: 458. City name: ginda\n",
      "City number: 459. City name: kichera\n",
      "City number: 460. City name: vostok\n",
      "City number: 461. City name: los aquijes\n",
      "City number: 462. City name: jining\n",
      "City number: 463. City name: evensk\n",
      "City number: 464. City name: cayenne\n",
      "City number: 465. City name: berlevag\n",
      "City number: 466. City name: paita\n",
      "City number: 467. City name: omboue\n",
      "City number: 468. City name: ulundi\n",
      "City number: 469. City name: broken hill\n",
      "City number: 470. City name: ulagan\n",
      "City number: 471. City name: tarnogskiy gorodok\n",
      "City number: 472. City name: sungairaya\n",
      "City number: 473. City name: araouane\n",
      "City number: 474. City name: nortelandia\n",
      "City number: 475. City name: manakara\n",
      "City number: 476. City name: yar-sale\n",
      "City number: 477. City name: boyolangu\n",
      "City number: 478. City name: mamallapuram\n",
      "City number: 479. City name: jovellar\n",
      "City number: 480. City name: guaymas\n",
      "City number: 481. City name: santiago del estero\n",
      "City number: 482. City name: colac\n",
      "City number: 483. City name: lincoln\n",
      "City number: 484. City name: ploemeur\n",
      "City number: 485. City name: bilibino\n",
      "City number: 486. City name: verkhnevilyuysk\n",
      "City number: 487. City name: kununurra\n",
      "City number: 488. City name: tessalit\n",
      "City number: 489. City name: klaksvik\n",
      "City number: 490. City name: okahandja\n",
      "City number: 491. City name: boca del monte\n",
      "City number: 492. City name: yeppoon\n",
      "City number: 493. City name: aksarka\n",
      "City number: 494. City name: buraydah\n",
      "City number: 495. City name: tanout\n",
      "City number: 496. City name: stoyba\n",
      "City not found.\n",
      "City number: 497. City name: bennington\n",
      "City number: 498. City name: gwadar\n",
      "City number: 499. City name: praia da vitoria\n",
      "City number: 500. City name: itoman\n",
      "City number: 501. City name: timbiqui\n",
      "City number: 502. City name: cosala\n",
      "City number: 503. City name: bahia honda\n",
      "City number: 504. City name: ramasukha\n",
      "City not found.\n",
      "City number: 505. City name: inirida\n",
      "City number: 506. City name: bayan\n",
      "City number: 507. City name: mulhouse\n",
      "City number: 508. City name: beira\n",
      "City number: 509. City name: porto torres\n",
      "City number: 510. City name: chapais\n",
      "City number: 511. City name: ntchisi\n",
      "City number: 512. City name: ornskoldsvik\n",
      "City number: 513. City name: eruwa\n",
      "City number: 514. City name: raga\n",
      "City number: 515. City name: salinas\n",
      "City number: 516. City name: batagay-alyta\n",
      "City number: 517. City name: monroe\n",
      "City number: 518. City name: olafsvik\n",
      "City number: 519. City name: touros\n",
      "City number: 520. City name: saurimo\n",
      "City number: 521. City name: mamit\n",
      "City number: 522. City name: halifax\n",
      "City number: 523. City name: changli\n",
      "City number: 524. City name: teahupoo\n",
      "City number: 525. City name: quelimane\n",
      "City number: 526. City name: necochea\n",
      "City number: 527. City name: sorbhog\n",
      "City number: 528. City name: riachao\n",
      "City number: 529. City name: canberra\n",
      "City number: 530. City name: lagoa\n",
      "City number: 531. City name: namatanai\n",
      "City number: 532. City name: novikovo\n",
      "City number: 533. City name: vredendal\n",
      "City number: 534. City name: gewane\n",
      "City number: 535. City name: hof\n",
      "City number: 536. City name: zielona gora\n",
      "City number: 537. City name: bowen\n",
      "City number: 538. City name: hamilton\n",
      "City number: 539. City name: cairns\n",
      "City number: 540. City name: isabela\n",
      "City number: 541. City name: cuencame\n",
      "City number: 542. City name: polovinnoye\n",
      "City number: 543. City name: puerto quijarro\n",
      "City number: 544. City name: wagar\n",
      "City number: 545. City name: jiaocheng\n",
      "City number: 546. City name: sandviken\n",
      "City number: 547. City name: sainte-rose\n",
      "City number: 548. City name: tawkar\n",
      "City not found.\n",
      "City number: 549. City name: guadalajara\n",
      "City number: 550. City name: dunedin\n",
      "City number: 551. City name: snasa\n",
      "City number: 552. City name: fort collins\n",
      "City number: 553. City name: sao simao\n",
      "City number: 554. City name: malwan\n",
      "City not found.\n",
      "City number: 555. City name: tripoli\n",
      "City number: 556. City name: palmer\n",
      "City number: 557. City name: qinhuangdao\n",
      "City number: 558. City name: rungata\n",
      "City not found.\n",
      "City number: 559. City name: gogrial\n",
      "City number: 560. City name: gravdal\n",
      "City number: 561. City name: ucluelet\n",
      "City number: 562. City name: lakatoro\n",
      "City number: 563. City name: trelew\n",
      "City number: 564. City name: paso de los toros\n",
      "City number: 565. City name: gunnedah\n",
      "City number: 566. City name: kulhudhuffushi\n",
      "City number: 567. City name: ribeira brava\n",
      "City number: 568. City name: verkhne-katunskoye\n",
      "City not found.\n",
      "City number: 569. City name: kobojango\n",
      "City not found.\n",
      "City number: 570. City name: fairlie\n",
      "City number: 571. City name: sobolevo\n",
      "City number: 572. City name: utiroa\n",
      "City not found.\n",
      "City number: 573. City name: palana\n",
      "City number: 574. City name: margate\n",
      "City number: 575. City name: gbongan\n",
      "City number: 576. City name: kavaratti\n",
      "City number: 577. City name: gidam\n",
      "City number: 578. City name: aripuana\n",
      "City number: 579. City name: santa cruz de la palma\n",
      "City number: 580. City name: marmashen\n",
      "City number: 581. City name: el espinal\n",
      "City number: 582. City name: pokhara\n",
      "City number: 583. City name: bichura\n",
      "City number: 584. City name: jiblah\n",
      "City number: 585. City name: alofi\n",
      "City number: 586. City name: barcelos\n",
      "City number: 587. City name: keshan\n",
      "City not found.\n",
      "City number: 588. City name: sonoita\n",
      "City number: 589. City name: mega\n",
      "City number: 590. City name: umm durman\n",
      "City not found.\n",
      "City number: 591. City name: labuhan\n",
      "City number: 592. City name: san diego\n",
      "City number: 593. City name: uray\n",
      "City number: 594. City name: kenora\n",
      "City number: 595. City name: nemuro\n",
      "City number: 596. City name: diffa\n",
      "City number: 597. City name: new amsterdam\n",
      "City number: 598. City name: olden\n",
      "City number: 599. City name: lovozero\n",
      "City number: 600. City name: kuytun\n",
      "City number: 601. City name: harper\n",
      "City number: 602. City name: machico\n",
      "City number: 603. City name: redhakhol\n",
      "City not found.\n",
      "City number: 604. City name: somerville\n",
      "City number: 605. City name: chumikan\n",
      "City number: 606. City name: nouadhibou\n",
      "City number: 607. City name: hebertville\n",
      "City not found.\n",
      "City number: 608. City name: daru\n",
      "City number: 609. City name: poum\n",
      "City number: 610. City name: novyy nekouz\n",
      "City number: 611. City name: comodoro rivadavia\n",
      "City number: 612. City name: tottori\n",
      "City number: 613. City name: sandovo\n",
      "City number: 614. City name: ondorhaan\n",
      "City not found.\n",
      "City number: 615. City name: skelleftea\n",
      "City number: 616. City name: finschhafen\n",
      "City number: 617. City name: wanaka\n",
      "City number: 618. City name: vallauris\n",
      "City number: 619. City name: porbandar\n",
      "City number: 620. City name: marabba\n",
      "City number: 621. City name: mkushi\n",
      "City number: 622. City name: hualmay\n",
      "City number: 623. City name: bataraza\n",
      "City not found.\n"
     ]
    },
    {
     "name": "stdout",
     "output_type": "stream",
     "text": [
      "City number: 624. City name: tilichiki\n",
      "City number: 625. City name: beeville\n",
      "City number: 626. City name: rabo de peixe\n",
      "City number: 627. City name: guerrero negro\n",
      "City number: 628. City name: eskil\n",
      "City number: 629. City name: lang son\n",
      "City number: 630. City name: laurel\n",
      "City number: 631. City name: forest lake\n",
      "City number: 632. City name: burica\n",
      "City not found.\n"
     ]
    }
   ],
   "source": [
    "#creating lists with city weather data\n",
    "temperature = []\n",
    "humidity = []\n",
    "cloudiness = []\n",
    "wind_speed = []\n",
    "city_list = []\n",
    "lat_list = []\n",
    "lng_list = []\n",
    "country_list = []\n",
    "count = 0\n",
    "\n",
    "for city in cities:\n",
    "    \n",
    "    count += 1\n",
    "    print(f'City number: {count}. City name: {city}')\n",
    "    \n",
    "    try:\n",
    "        response = requests.get(query_url + city).json()\n",
    "        temperature.append((response['main']['temp']))\n",
    "        humidity.append((response['main']['humidity']))\n",
    "        cloudiness.append((response['clouds']['all']))\n",
    "        wind_speed.append((response['wind']['speed']))\n",
    "        lat_list.append((response['coord']['lat']))\n",
    "        lng_list.append((response['coord']['lon']))\n",
    "        city_list.append(city)\n",
    "        country_list.append(response['sys']['country'])\n",
    "        \n",
    "    except:\n",
    "        print('City not found.')\n",
    "        \n",
    "    time.sleep(1)"
   ]
  },
  {
   "cell_type": "markdown",
   "id": "bdf508a5",
   "metadata": {},
   "source": [
    "### Convert Raw Data to DataFrame\n",
    "* Export the city data into a .csv.\n",
    "* Display the DataFrame"
   ]
  },
  {
   "cell_type": "code",
   "execution_count": 6,
   "id": "355e1e15",
   "metadata": {},
   "outputs": [
    {
     "data": {
      "text/html": [
       "<div>\n",
       "<style scoped>\n",
       "    .dataframe tbody tr th:only-of-type {\n",
       "        vertical-align: middle;\n",
       "    }\n",
       "\n",
       "    .dataframe tbody tr th {\n",
       "        vertical-align: top;\n",
       "    }\n",
       "\n",
       "    .dataframe thead th {\n",
       "        text-align: right;\n",
       "    }\n",
       "</style>\n",
       "<table border=\"1\" class=\"dataframe\">\n",
       "  <thead>\n",
       "    <tr style=\"text-align: right;\">\n",
       "      <th></th>\n",
       "      <th>City</th>\n",
       "      <th>Temperature</th>\n",
       "      <th>%Humidity</th>\n",
       "      <th>Cloudiness</th>\n",
       "      <th>Wind Speed</th>\n",
       "      <th>Latitude</th>\n",
       "      <th>Longitude</th>\n",
       "      <th>Country</th>\n",
       "    </tr>\n",
       "  </thead>\n",
       "  <tbody>\n",
       "    <tr>\n",
       "      <th>0</th>\n",
       "      <td>cabo san lucas</td>\n",
       "      <td>32.70</td>\n",
       "      <td>64</td>\n",
       "      <td>18</td>\n",
       "      <td>3.55</td>\n",
       "      <td>22.8909</td>\n",
       "      <td>-109.9124</td>\n",
       "      <td>MX</td>\n",
       "    </tr>\n",
       "    <tr>\n",
       "      <th>1</th>\n",
       "      <td>airai</td>\n",
       "      <td>10.65</td>\n",
       "      <td>80</td>\n",
       "      <td>76</td>\n",
       "      <td>1.72</td>\n",
       "      <td>-8.9266</td>\n",
       "      <td>125.4092</td>\n",
       "      <td>TL</td>\n",
       "    </tr>\n",
       "    <tr>\n",
       "      <th>2</th>\n",
       "      <td>upernavik</td>\n",
       "      <td>6.14</td>\n",
       "      <td>69</td>\n",
       "      <td>100</td>\n",
       "      <td>2.57</td>\n",
       "      <td>72.7868</td>\n",
       "      <td>-56.1549</td>\n",
       "      <td>GL</td>\n",
       "    </tr>\n",
       "    <tr>\n",
       "      <th>3</th>\n",
       "      <td>punta arenas</td>\n",
       "      <td>6.90</td>\n",
       "      <td>81</td>\n",
       "      <td>75</td>\n",
       "      <td>12.86</td>\n",
       "      <td>-53.1500</td>\n",
       "      <td>-70.9167</td>\n",
       "      <td>CL</td>\n",
       "    </tr>\n",
       "    <tr>\n",
       "      <th>4</th>\n",
       "      <td>qaanaaq</td>\n",
       "      <td>5.12</td>\n",
       "      <td>68</td>\n",
       "      <td>11</td>\n",
       "      <td>1.32</td>\n",
       "      <td>77.4840</td>\n",
       "      <td>-69.3632</td>\n",
       "      <td>GL</td>\n",
       "    </tr>\n",
       "    <tr>\n",
       "      <th>...</th>\n",
       "      <td>...</td>\n",
       "      <td>...</td>\n",
       "      <td>...</td>\n",
       "      <td>...</td>\n",
       "      <td>...</td>\n",
       "      <td>...</td>\n",
       "      <td>...</td>\n",
       "      <td>...</td>\n",
       "    </tr>\n",
       "    <tr>\n",
       "      <th>569</th>\n",
       "      <td>guerrero negro</td>\n",
       "      <td>26.23</td>\n",
       "      <td>55</td>\n",
       "      <td>21</td>\n",
       "      <td>6.23</td>\n",
       "      <td>27.9769</td>\n",
       "      <td>-114.0611</td>\n",
       "      <td>MX</td>\n",
       "    </tr>\n",
       "    <tr>\n",
       "      <th>570</th>\n",
       "      <td>eskil</td>\n",
       "      <td>24.19</td>\n",
       "      <td>22</td>\n",
       "      <td>0</td>\n",
       "      <td>4.44</td>\n",
       "      <td>38.4017</td>\n",
       "      <td>33.4131</td>\n",
       "      <td>TR</td>\n",
       "    </tr>\n",
       "    <tr>\n",
       "      <th>571</th>\n",
       "      <td>lang son</td>\n",
       "      <td>23.16</td>\n",
       "      <td>92</td>\n",
       "      <td>100</td>\n",
       "      <td>1.30</td>\n",
       "      <td>21.8333</td>\n",
       "      <td>106.7333</td>\n",
       "      <td>VN</td>\n",
       "    </tr>\n",
       "    <tr>\n",
       "      <th>572</th>\n",
       "      <td>laurel</td>\n",
       "      <td>32.47</td>\n",
       "      <td>63</td>\n",
       "      <td>75</td>\n",
       "      <td>3.60</td>\n",
       "      <td>39.0993</td>\n",
       "      <td>-76.8483</td>\n",
       "      <td>US</td>\n",
       "    </tr>\n",
       "    <tr>\n",
       "      <th>573</th>\n",
       "      <td>forest lake</td>\n",
       "      <td>22.99</td>\n",
       "      <td>57</td>\n",
       "      <td>99</td>\n",
       "      <td>2.24</td>\n",
       "      <td>45.2789</td>\n",
       "      <td>-92.9852</td>\n",
       "      <td>US</td>\n",
       "    </tr>\n",
       "  </tbody>\n",
       "</table>\n",
       "<p>574 rows × 8 columns</p>\n",
       "</div>"
      ],
      "text/plain": [
       "               City  Temperature  %Humidity  Cloudiness  Wind Speed  Latitude  \\\n",
       "0    cabo san lucas        32.70         64          18        3.55   22.8909   \n",
       "1             airai        10.65         80          76        1.72   -8.9266   \n",
       "2         upernavik         6.14         69         100        2.57   72.7868   \n",
       "3      punta arenas         6.90         81          75       12.86  -53.1500   \n",
       "4           qaanaaq         5.12         68          11        1.32   77.4840   \n",
       "..              ...          ...        ...         ...         ...       ...   \n",
       "569  guerrero negro        26.23         55          21        6.23   27.9769   \n",
       "570           eskil        24.19         22           0        4.44   38.4017   \n",
       "571        lang son        23.16         92         100        1.30   21.8333   \n",
       "572          laurel        32.47         63          75        3.60   39.0993   \n",
       "573     forest lake        22.99         57          99        2.24   45.2789   \n",
       "\n",
       "     Longitude Country  \n",
       "0    -109.9124      MX  \n",
       "1     125.4092      TL  \n",
       "2     -56.1549      GL  \n",
       "3     -70.9167      CL  \n",
       "4     -69.3632      GL  \n",
       "..         ...     ...  \n",
       "569  -114.0611      MX  \n",
       "570    33.4131      TR  \n",
       "571   106.7333      VN  \n",
       "572   -76.8483      US  \n",
       "573   -92.9852      US  \n",
       "\n",
       "[574 rows x 8 columns]"
      ]
     },
     "execution_count": 6,
     "metadata": {},
     "output_type": "execute_result"
    }
   ],
   "source": [
    "#create df from city weather query results\n",
    "weather_dict = {\"City\": city_list,\n",
    "               \"Temperature\": temperature,\n",
    "               \"%Humidity\": humidity,\n",
    "               \"Cloudiness\":cloudiness,\n",
    "               \"Wind Speed\": wind_speed,\n",
    "               \"Latitude\": lat_list,\n",
    "               \"Longitude\": lng_list,\n",
    "               \"Country\": country_list}\n",
    "\n",
    "weather_data = pd.DataFrame(weather_dict)\n",
    "weather_data"
   ]
  },
  {
   "cell_type": "code",
   "execution_count": 7,
   "id": "83f8e171",
   "metadata": {},
   "outputs": [],
   "source": [
    "#export city data to csv\n",
    "weather_data.to_csv('weather_data.csv')"
   ]
  },
  {
   "cell_type": "markdown",
   "id": "39cff247",
   "metadata": {},
   "source": [
    "## Inspect the data and remove the cities where the humidity > 100%.\n",
    "----\n",
    "Skip this step if there are no cities that have humidity > 100%. "
   ]
  },
  {
   "cell_type": "code",
   "execution_count": 8,
   "id": "27bb9a9e",
   "metadata": {},
   "outputs": [
    {
     "data": {
      "text/html": [
       "<div>\n",
       "<style scoped>\n",
       "    .dataframe tbody tr th:only-of-type {\n",
       "        vertical-align: middle;\n",
       "    }\n",
       "\n",
       "    .dataframe tbody tr th {\n",
       "        vertical-align: top;\n",
       "    }\n",
       "\n",
       "    .dataframe thead th {\n",
       "        text-align: right;\n",
       "    }\n",
       "</style>\n",
       "<table border=\"1\" class=\"dataframe\">\n",
       "  <thead>\n",
       "    <tr style=\"text-align: right;\">\n",
       "      <th></th>\n",
       "      <th>City</th>\n",
       "      <th>Temperature</th>\n",
       "      <th>%Humidity</th>\n",
       "      <th>Cloudiness</th>\n",
       "      <th>Wind Speed</th>\n",
       "      <th>Latitude</th>\n",
       "      <th>Longitude</th>\n",
       "      <th>Country</th>\n",
       "    </tr>\n",
       "  </thead>\n",
       "  <tbody>\n",
       "  </tbody>\n",
       "</table>\n",
       "</div>"
      ],
      "text/plain": [
       "Empty DataFrame\n",
       "Columns: [City, Temperature, %Humidity, Cloudiness, Wind Speed, Latitude, Longitude, Country]\n",
       "Index: []"
      ]
     },
     "execution_count": 8,
     "metadata": {},
     "output_type": "execute_result"
    }
   ],
   "source": [
    "#there are no cities in this df with humidity > 100%\n",
    "weather_data.loc[weather_data['%Humidity'] > 100]"
   ]
  },
  {
   "cell_type": "markdown",
   "id": "5bab994d",
   "metadata": {},
   "source": [
    "## Plotting the Data\n",
    "* Use proper labeling of the plots using plot titles (including date of analysis) and axes labels.\n",
    "* Save the plotted figures as .pngs."
   ]
  },
  {
   "cell_type": "markdown",
   "id": "3f4737ad",
   "metadata": {},
   "source": [
    "## Latitude vs. Temperature Plot"
   ]
  },
  {
   "cell_type": "code",
   "execution_count": 9,
   "id": "90da83c0",
   "metadata": {},
   "outputs": [
    {
     "data": {
      "text/html": [
       "<div>\n",
       "<style scoped>\n",
       "    .dataframe tbody tr th:only-of-type {\n",
       "        vertical-align: middle;\n",
       "    }\n",
       "\n",
       "    .dataframe tbody tr th {\n",
       "        vertical-align: top;\n",
       "    }\n",
       "\n",
       "    .dataframe thead th {\n",
       "        text-align: right;\n",
       "    }\n",
       "</style>\n",
       "<table border=\"1\" class=\"dataframe\">\n",
       "  <thead>\n",
       "    <tr style=\"text-align: right;\">\n",
       "      <th></th>\n",
       "      <th>City</th>\n",
       "      <th>Temperature</th>\n",
       "      <th>%Humidity</th>\n",
       "      <th>Cloudiness</th>\n",
       "      <th>Wind Speed</th>\n",
       "      <th>Latitude</th>\n",
       "      <th>Longitude</th>\n",
       "      <th>Country</th>\n",
       "    </tr>\n",
       "  </thead>\n",
       "  <tbody>\n",
       "    <tr>\n",
       "      <th>0</th>\n",
       "      <td>cabo san lucas</td>\n",
       "      <td>32.70</td>\n",
       "      <td>64</td>\n",
       "      <td>18</td>\n",
       "      <td>3.55</td>\n",
       "      <td>22.8909</td>\n",
       "      <td>-109.9124</td>\n",
       "      <td>MX</td>\n",
       "    </tr>\n",
       "    <tr>\n",
       "      <th>1</th>\n",
       "      <td>airai</td>\n",
       "      <td>10.65</td>\n",
       "      <td>80</td>\n",
       "      <td>76</td>\n",
       "      <td>1.72</td>\n",
       "      <td>-8.9266</td>\n",
       "      <td>125.4092</td>\n",
       "      <td>TL</td>\n",
       "    </tr>\n",
       "    <tr>\n",
       "      <th>2</th>\n",
       "      <td>upernavik</td>\n",
       "      <td>6.14</td>\n",
       "      <td>69</td>\n",
       "      <td>100</td>\n",
       "      <td>2.57</td>\n",
       "      <td>72.7868</td>\n",
       "      <td>-56.1549</td>\n",
       "      <td>GL</td>\n",
       "    </tr>\n",
       "    <tr>\n",
       "      <th>3</th>\n",
       "      <td>punta arenas</td>\n",
       "      <td>6.90</td>\n",
       "      <td>81</td>\n",
       "      <td>75</td>\n",
       "      <td>12.86</td>\n",
       "      <td>-53.1500</td>\n",
       "      <td>-70.9167</td>\n",
       "      <td>CL</td>\n",
       "    </tr>\n",
       "    <tr>\n",
       "      <th>4</th>\n",
       "      <td>qaanaaq</td>\n",
       "      <td>5.12</td>\n",
       "      <td>68</td>\n",
       "      <td>11</td>\n",
       "      <td>1.32</td>\n",
       "      <td>77.4840</td>\n",
       "      <td>-69.3632</td>\n",
       "      <td>GL</td>\n",
       "    </tr>\n",
       "  </tbody>\n",
       "</table>\n",
       "</div>"
      ],
      "text/plain": [
       "             City  Temperature  %Humidity  Cloudiness  Wind Speed  Latitude  \\\n",
       "0  cabo san lucas        32.70         64          18        3.55   22.8909   \n",
       "1           airai        10.65         80          76        1.72   -8.9266   \n",
       "2       upernavik         6.14         69         100        2.57   72.7868   \n",
       "3    punta arenas         6.90         81          75       12.86  -53.1500   \n",
       "4         qaanaaq         5.12         68          11        1.32   77.4840   \n",
       "\n",
       "   Longitude Country  \n",
       "0  -109.9124      MX  \n",
       "1   125.4092      TL  \n",
       "2   -56.1549      GL  \n",
       "3   -70.9167      CL  \n",
       "4   -69.3632      GL  "
      ]
     },
     "execution_count": 9,
     "metadata": {},
     "output_type": "execute_result"
    }
   ],
   "source": [
    "weather_data.head()"
   ]
  },
  {
   "cell_type": "code",
   "execution_count": 10,
   "id": "19d790e4",
   "metadata": {
    "scrolled": true
   },
   "outputs": [
    {
     "data": {
      "image/png": "[encoded data removed]",
      "text/plain": [
       "<Figure size 432x288 with 1 Axes>"
      ]
     },
     "metadata": {
      "needs_background": "light"
     },
     "output_type": "display_data"
    }
   ],
   "source": [
    "plt.scatter(weather_data['Latitude'], weather_data['Temperature'])\n",
    "plt.xlabel('Latitude')\n",
    "plt.ylabel('Temperature (C)')\n",
    "plt.title('City Temperature vs Latitude')\n",
    "\n",
    "plt.show()"
   ]
  },
  {
   "cell_type": "markdown",
   "id": "2bb3a8e9",
   "metadata": {},
   "source": [
    "Explanation: This code is analyzing the relationship between temperature and latitude for the queried cities."
   ]
  },
  {
   "cell_type": "markdown",
   "id": "d4c92852",
   "metadata": {},
   "source": [
    "## Latitude vs. Humidity Plot"
   ]
  },
  {
   "cell_type": "code",
   "execution_count": 11,
   "id": "eed966f9",
   "metadata": {},
   "outputs": [
    {
     "data": {
      "image/png": "[encoded data removed]",
      "text/plain": [
       "<Figure size 432x288 with 1 Axes>"
      ]
     },
     "metadata": {
      "needs_background": "light"
     },
     "output_type": "display_data"
    }
   ],
   "source": [
    "plt.scatter(weather_data['Latitude'], weather_data['%Humidity'])\n",
    "plt.xlabel('Latitude')\n",
    "plt.ylabel('Humidity (%)')\n",
    "plt.title('City Humidity vs Latitude')\n",
    "\n",
    "plt.show()"
   ]
  },
  {
   "cell_type": "markdown",
   "id": "7ac54486",
   "metadata": {},
   "source": [
    "Explanation: This code is analyzing the relationship between humidity and latitude for the queried cities."
   ]
  },
  {
   "cell_type": "markdown",
   "id": "407d1605",
   "metadata": {},
   "source": [
    "## Latitude vs. Cloudiness Plot"
   ]
  },
  {
   "cell_type": "code",
   "execution_count": 12,
   "id": "b6f64b85",
   "metadata": {},
   "outputs": [
    {
     "data": {
      "image/png": "[encoded data removed]",
      "text/plain": [
       "<Figure size 432x288 with 1 Axes>"
      ]
     },
     "metadata": {
      "needs_background": "light"
     },
     "output_type": "display_data"
    }
   ],
   "source": [
    "plt.scatter(weather_data['Latitude'], weather_data['Cloudiness'])\n",
    "plt.xlabel('Latitude')\n",
    "plt.ylabel('Cloudiness (%)')\n",
    "plt.title('City Cloudiness vs Latitude')\n",
    "\n",
    "plt.show()"
   ]
  },
  {
   "cell_type": "markdown",
   "id": "8cc51063",
   "metadata": {},
   "source": [
    "Explanation: This code is analyzing the relationship between cloudiness and latitude for the queried cities."
   ]
  },
  {
   "cell_type": "markdown",
   "id": "4aefe6a2",
   "metadata": {},
   "source": [
    "## Latitude vs. Wind Speed Plot"
   ]
  },
  {
   "cell_type": "code",
   "execution_count": 13,
   "id": "8c9f7254",
   "metadata": {},
   "outputs": [
    {
     "data": {
      "image/png": "[encoded data removed]",
      "text/plain": [
       "<Figure size 432x288 with 1 Axes>"
      ]
     },
     "metadata": {
      "needs_background": "light"
     },
     "output_type": "display_data"
    }
   ],
   "source": [
    "plt.scatter(weather_data['Latitude'], weather_data['Wind Speed'])\n",
    "plt.xlabel('Latitude')\n",
    "plt.ylabel('Wind Speed (mph)')\n",
    "plt.title('City Wind Speed vs Latitude')\n",
    "\n",
    "plt.show()"
   ]
  },
  {
   "cell_type": "markdown",
   "id": "c8445429",
   "metadata": {},
   "source": [
    "Explanation: This code is analyzing the relationship between wind speed and latitude for the queried cities."
   ]
  },
  {
   "cell_type": "markdown",
   "id": "0f95215d",
   "metadata": {},
   "source": [
    "## Linear Regression"
   ]
  },
  {
   "cell_type": "code",
   "execution_count": 14,
   "id": "e8704024",
   "metadata": {},
   "outputs": [],
   "source": [
    "#Creating dataframes for each hemisphere\n",
    "north_data = weather_data.loc[weather_data['Latitude'] > 0]\n",
    "south_data = weather_data.loc[weather_data['Latitude'] < 0]"
   ]
  },
  {
   "cell_type": "markdown",
   "id": "1a2e75fc",
   "metadata": {},
   "source": [
    "####  Northern Hemisphere - Max Temp vs. Latitude Linear Regression"
   ]
  },
  {
   "cell_type": "code",
   "execution_count": 15,
   "id": "e5e46e7d",
   "metadata": {},
   "outputs": [
    {
     "data": {
      "image/png": "[encoded data removed]",
      "text/plain": [
       "<Figure size 432x288 with 1 Axes>"
      ]
     },
     "metadata": {
      "needs_background": "light"
     },
     "output_type": "display_data"
    },
    {
     "name": "stdout",
     "output_type": "stream",
     "text": [
      " rsquared = 0.5\n"
     ]
    }
   ],
   "source": [
    "plt.scatter(north_data['Latitude'], north_data['Temperature'])\n",
    "plt.xlabel('Latitude')\n",
    "plt.ylabel('Temperature (C)')\n",
    "plt.title('Northern Hemisphere City Temperature vs Latitude')\n",
    "\n",
    "\n",
    "(slope, intercept, rvalue, pvalue, stderr) = linregress(north_data['Latitude'], north_data['Temperature'])\n",
    "regress_values = north_data['Latitude'] * slope + intercept\n",
    "line_eq = f'y = {round(slope,2)}x + {round(intercept, 2)}'\n",
    "\n",
    "plt.plot(north_data['Latitude'], regress_values, color='red')\n",
    "plt.annotate(line_eq,(1,5), color='red', fontsize=10)\n",
    "\n",
    "plt.xlim(0, 80)\n",
    "plt.ylim(0, 50)\n",
    "\n",
    "plt.show()\n",
    "print(f' rsquared = {round(rvalue * rvalue,2)}')"
   ]
  },
  {
   "cell_type": "markdown",
   "id": "2906c677",
   "metadata": {},
   "source": [
    "####  Southern Hemisphere - Max Temp vs. Latitude Linear Regression"
   ]
  },
  {
   "cell_type": "code",
   "execution_count": 16,
   "id": "73c3b80a",
   "metadata": {},
   "outputs": [
    {
     "data": {
      "image/png": "[encoded data removed]",
      "text/plain": [
       "<Figure size 432x288 with 1 Axes>"
      ]
     },
     "metadata": {
      "needs_background": "light"
     },
     "output_type": "display_data"
    },
    {
     "name": "stdout",
     "output_type": "stream",
     "text": [
      " rsquared = 0.54\n"
     ]
    }
   ],
   "source": [
    "plt.scatter(south_data['Latitude'], south_data['Temperature'])\n",
    "plt.xlabel('Latitude')\n",
    "plt.ylabel('Temperature (C)')\n",
    "plt.title('Southern Hemisphere City Temperature vs Latitude')\n",
    "\n",
    "\n",
    "(slope, intercept, rvalue, pvalue, stderr) = linregress(south_data['Latitude'], south_data['Temperature'])\n",
    "regress_values = south_data['Latitude'] * slope + intercept\n",
    "line_eq = f'y = {round(slope,2)}x + {round(intercept, 2)}'\n",
    "\n",
    "plt.plot(south_data['Latitude'], regress_values, color='red')\n",
    "plt.annotate(line_eq,(-45,35), color='red', fontsize=10)\n",
    "\n",
    "plt.xlim(-50, 0)\n",
    "plt.ylim(0, 40)\n",
    "\n",
    "plt.show()\n",
    "print(f' rsquared = {round(rvalue * rvalue,2)}')"
   ]
  },
  {
   "cell_type": "markdown",
   "id": "d4ec7387",
   "metadata": {},
   "source": [
    "The linear regressions are modeling the dependence of temperature on latitude for both the Northern and Southern Hemisphere. The plots show that in the North Hemisphere, temperature decreases as latitude increases. In the Southern Hemisphere, temperature increases as latitude increases."
   ]
  },
  {
   "cell_type": "markdown",
   "id": "3f5dd638",
   "metadata": {},
   "source": [
    "####  Northern Hemisphere - Humidity (%) vs. Latitude Linear Regression"
   ]
  },
  {
   "cell_type": "code",
   "execution_count": 17,
   "id": "3c95a3cc",
   "metadata": {},
   "outputs": [
    {
     "data": {
      "image/png": "[encoded data removed]",
      "text/plain": [
       "<Figure size 432x288 with 1 Axes>"
      ]
     },
     "metadata": {
      "needs_background": "light"
     },
     "output_type": "display_data"
    },
    {
     "name": "stdout",
     "output_type": "stream",
     "text": [
      " rsquared = 0.0\n"
     ]
    }
   ],
   "source": [
    "plt.scatter(north_data['Latitude'], north_data['%Humidity'])\n",
    "plt.xlabel('Latitude')\n",
    "plt.ylabel('Humidity (%)')\n",
    "plt.title('Northern Hemisphere City Humidity vs Latitude')\n",
    "\n",
    "\n",
    "(slope, intercept, rvalue, pvalue, stderr) = linregress(north_data['Latitude'], north_data['%Humidity'])\n",
    "regress_values = north_data['Latitude'] * slope + intercept\n",
    "line_eq = f'y = {round(slope,2)}x + {round(intercept, 2)}'\n",
    "\n",
    "plt.plot(north_data['Latitude'], regress_values, color='red')\n",
    "plt.annotate(line_eq,(55,5), color='red', fontsize=10)\n",
    "\n",
    "plt.show()\n",
    "print(f' rsquared = {round(rvalue * rvalue,2)}')"
   ]
  },
  {
   "cell_type": "markdown",
   "id": "15ea28a7",
   "metadata": {},
   "source": [
    "####  Southern Hemisphere - Humidity (%) vs. Latitude Linear Regression"
   ]
  },
  {
   "cell_type": "code",
   "execution_count": 18,
   "id": "256636cd",
   "metadata": {},
   "outputs": [
    {
     "data": {
      "image/png": "[encoded data removed]",
      "text/plain": [
       "<Figure size 432x288 with 1 Axes>"
      ]
     },
     "metadata": {
      "needs_background": "light"
     },
     "output_type": "display_data"
    },
    {
     "name": "stdout",
     "output_type": "stream",
     "text": [
      " rsquared = 0.0\n"
     ]
    }
   ],
   "source": [
    "plt.scatter(south_data['Latitude'], south_data['%Humidity'])\n",
    "plt.xlabel('Latitude')\n",
    "plt.ylabel('Humidity (%)')\n",
    "plt.title('Southern Hemisphere City Humidity vs Latitude')\n",
    "\n",
    "\n",
    "(slope, intercept, rvalue, pvalue, stderr) = linregress(south_data['Latitude'], south_data['%Humidity'])\n",
    "regress_values = south_data['Latitude'] * slope + intercept\n",
    "line_eq = f'y = {round(slope,2)}x + {round(intercept, 2)}'\n",
    "\n",
    "plt.plot(south_data['Latitude'], regress_values, color='red')\n",
    "plt.annotate(line_eq,(-45,35), color='red', fontsize=10)\n",
    "\n",
    "plt.show()\n",
    "print(f' rsquared = {round(rvalue * rvalue,2)}')"
   ]
  },
  {
   "cell_type": "markdown",
   "id": "9b51a0e7",
   "metadata": {},
   "source": [
    "The linear regressions are modeling the dependence of humidity on latitude for both the Northern and Southern Hemispheres. The low r squared values provide evidence supporting the claim that humidity is not dependent on latitude for either hemisphere."
   ]
  },
  {
   "cell_type": "markdown",
   "id": "3310d155",
   "metadata": {},
   "source": [
    "####  Northern Hemisphere - Cloudiness (%) vs. Latitude Linear Regression"
   ]
  },
  {
   "cell_type": "code",
   "execution_count": 19,
   "id": "7bdb0c87",
   "metadata": {},
   "outputs": [
    {
     "data": {
      "image/png": "[encoded data removed]",
      "text/plain": [
       "<Figure size 432x288 with 1 Axes>"
      ]
     },
     "metadata": {
      "needs_background": "light"
     },
     "output_type": "display_data"
    },
    {
     "name": "stdout",
     "output_type": "stream",
     "text": [
      " rsquared = 0.01\n"
     ]
    }
   ],
   "source": [
    "plt.scatter(north_data['Latitude'], north_data['Cloudiness'])\n",
    "plt.xlabel('Latitude')\n",
    "plt.ylabel('Cloudiness (%)')\n",
    "plt.title('Northern Hemisphere City Cloudiness vs Latitude')\n",
    "\n",
    "\n",
    "(slope, intercept, rvalue, pvalue, stderr) = linregress(north_data['Latitude'], north_data['Cloudiness'])\n",
    "regress_values = north_data['Latitude'] * slope + intercept\n",
    "line_eq = f'y = {round(slope,2)}x + {round(intercept, 2)}'\n",
    "\n",
    "plt.plot(north_data['Latitude'], regress_values, color='red')\n",
    "plt.annotate(line_eq,(55,41), color='red', fontsize=12)\n",
    "\n",
    "plt.show()\n",
    "print(f' rsquared = {round(rvalue * rvalue,2)}')"
   ]
  },
  {
   "cell_type": "markdown",
   "id": "c0c4689d",
   "metadata": {},
   "source": [
    "####  Southern Hemisphere - Cloudiness (%) vs. Latitude Linear Regression"
   ]
  },
  {
   "cell_type": "code",
   "execution_count": 20,
   "id": "d555b5cc",
   "metadata": {},
   "outputs": [
    {
     "data": {
      "image/png": "[encoded data removed]",
      "text/plain": [
       "<Figure size 432x288 with 1 Axes>"
      ]
     },
     "metadata": {
      "needs_background": "light"
     },
     "output_type": "display_data"
    },
    {
     "name": "stdout",
     "output_type": "stream",
     "text": [
      " rsquared = 0.01\n"
     ]
    }
   ],
   "source": [
    "plt.scatter(south_data['Latitude'], south_data['Cloudiness'])\n",
    "plt.xlabel('Latitude')\n",
    "plt.ylabel('Cloudiness (%)')\n",
    "plt.title('Southern Hemisphere City Cloudiness vs Latitude')\n",
    "\n",
    "\n",
    "(slope, intercept, rvalue, pvalue, stderr) = linregress(south_data['Latitude'], south_data['Cloudiness'])\n",
    "regress_values = south_data['Latitude'] * slope + intercept\n",
    "line_eq = f'y = {round(slope,2)}x + {round(intercept, 2)}'\n",
    "\n",
    "plt.plot(south_data['Latitude'], regress_values, color='red')\n",
    "plt.annotate(line_eq,(-45,25\n",
    "                     ), color='red', fontsize=10)\n",
    "\n",
    "plt.show()\n",
    "print(f' rsquared = {round(rvalue * rvalue,2)}')"
   ]
  },
  {
   "cell_type": "markdown",
   "id": "b80195f5",
   "metadata": {},
   "source": [
    "The linear regressions are modeling the dependence of cloudiness on latitude for both the Northern and Southern Hemispheres. The low r squared values provide evidence supporting the claim that cloudiness is not dependent on latitude for either hemisphere."
   ]
  },
  {
   "cell_type": "markdown",
   "id": "4291fad4",
   "metadata": {},
   "source": [
    "####  Northern Hemisphere - Wind Speed (mph) vs. Latitude Linear Regression"
   ]
  },
  {
   "cell_type": "code",
   "execution_count": 21,
   "id": "1ed4afe4",
   "metadata": {},
   "outputs": [
    {
     "data": {
      "image/png": "[encoded data removed]",
      "text/plain": [
       "<Figure size 432x288 with 1 Axes>"
      ]
     },
     "metadata": {
      "needs_background": "light"
     },
     "output_type": "display_data"
    },
    {
     "name": "stdout",
     "output_type": "stream",
     "text": [
      " rsquared = 0.01\n"
     ]
    }
   ],
   "source": [
    "plt.scatter(north_data['Latitude'], north_data['Wind Speed'])\n",
    "plt.xlabel('Latitude')\n",
    "plt.ylabel('Wind Speed (mph)')\n",
    "plt.title('Northern Hemisphere City Wind Speed vs Latitude')\n",
    "\n",
    "\n",
    "(slope, intercept, rvalue, pvalue, stderr) = linregress(north_data['Latitude'], north_data['Wind Speed'])\n",
    "regress_values = north_data['Latitude'] * slope + intercept\n",
    "line_eq = f'y = {round(slope,2)}x + {round(intercept, 2)}'\n",
    "\n",
    "plt.plot(north_data['Latitude'], regress_values, color='red')\n",
    "plt.annotate(line_eq,(55,12), color='red', fontsize=10)\n",
    "\n",
    "plt.show()\n",
    "print(f' rsquared = {round(rvalue * rvalue,2)}')"
   ]
  },
  {
   "cell_type": "markdown",
   "id": "c60ac2f4",
   "metadata": {},
   "source": [
    "####  Southern Hemisphere - Wind Speed (mph) vs. Latitude Linear Regression"
   ]
  },
  {
   "cell_type": "code",
   "execution_count": 22,
   "id": "fb9b9a39",
   "metadata": {},
   "outputs": [
    {
     "data": {
      "image/png": "[encoded data removed]",
      "text/plain": [
       "<Figure size 432x288 with 1 Axes>"
      ]
     },
     "metadata": {
      "needs_background": "light"
     },
     "output_type": "display_data"
    },
    {
     "name": "stdout",
     "output_type": "stream",
     "text": [
      " rsquared = 0.03\n"
     ]
    }
   ],
   "source": [
    "plt.scatter(south_data['Latitude'], south_data['Wind Speed'])\n",
    "plt.xlabel('Latitude')\n",
    "plt.ylabel('Wind Speed (mph)')\n",
    "plt.title('Southern Hemisphere City Wind Speed vs Latitude')\n",
    "\n",
    "\n",
    "(slope, intercept, rvalue, pvalue, stderr) = linregress(south_data['Latitude'], south_data['Wind Speed'])\n",
    "regress_values = south_data['Latitude'] * slope + intercept\n",
    "line_eq = f'y = {round(slope,2)}x + {round(intercept, 2)}'\n",
    "\n",
    "plt.plot(south_data['Latitude'], regress_values, color='red')\n",
    "plt.annotate(line_eq,(-50,8), color='red', fontsize=15)\n",
    "\n",
    "plt.show()\n",
    "print(f' rsquared = {round(rvalue * rvalue,2)}')"
   ]
  },
  {
   "cell_type": "markdown",
   "id": "9e2845af",
   "metadata": {},
   "source": [
    "The linear regressions are modeling the dependence of wind speed on latitude for both the Northern and Southern Hemispheres. The low r squared values provide evidence supporting the claim that wind speed is not dependent on latitude for either hemisphere."
   ]
  },
  {
   "cell_type": "code",
   "execution_count": null,
   "id": "c555e29f",
   "metadata": {},
   "outputs": [],
   "source": []
  }
 ],
 "metadata": {
  "kernelspec": {
   "display_name": "Python 3 (ipykernel)",
   "language": "python",
   "name": "python3"
  },
  "language_info": {
   "codemirror_mode": {
    "name": "ipython",
    "version": 3
   },
   "file_extension": ".py",
   "mimetype": "text/x-python",
   "name": "python",
   "nbconvert_exporter": "python",
   "pygments_lexer": "ipython3",
   "version": "3.8.13"
  }
 },
 "nbformat": 4,
 "nbformat_minor": 5
}
