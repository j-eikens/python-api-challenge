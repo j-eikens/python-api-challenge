{
 "cells": [
  {
   "cell_type": "markdown",
   "id": "a54aed1a",
   "metadata": {},
   "source": [
    "# WeatherPy\n",
    "----\n",
    "\n",
    "#### Note\n",
    "* Instructions have been included for each segment. You do not have to follow them exactly, but they are included to help you think through the steps."
   ]
  },
  {
   "cell_type": "code",
   "execution_count": 1,
   "id": "6c1becb2",
   "metadata": {
    "scrolled": true
   },
   "outputs": [],
   "source": [
    "# Dependencies and Setup\n",
    "import matplotlib.pyplot as plt\n",
    "import pandas as pd\n",
    "import numpy as np\n",
    "import requests\n",
    "import time\n",
    "from scipy.stats import linregress\n",
    "import time\n",
    "\n",
    "# Import API key\n",
    "from api_keys import api_key\n",
    "\n",
    "# Incorporated citipy to determine city based on latitude and longitude\n",
    "from citipy import citipy\n",
    "\n",
    "# Output File (CSV)\n",
    "output_data_file = \"output_data/cities.csv\"\n",
    "\n",
    "# Range of latitudes and longitudes\n",
    "lat_range = (-90, 90)\n",
    "lng_range = (-180, 180)"
   ]
  },
  {
   "cell_type": "markdown",
   "id": "7f0100ac",
   "metadata": {},
   "source": [
    "## Generate Cities List"
   ]
  },
  {
   "cell_type": "code",
   "execution_count": 2,
   "id": "60572b1b",
   "metadata": {},
   "outputs": [
    {
     "data": {
      "text/plain": [
       "593"
      ]
     },
     "execution_count": 2,
     "metadata": {},
     "output_type": "execute_result"
    }
   ],
   "source": [
    "# List for holding lat_lngs and cities\n",
    "lat_lngs = []\n",
    "cities = []\n",
    "\n",
    "# Create a set of random lat and lng combinations\n",
    "lats = np.random.uniform(lat_range[0], lat_range[1], size=1500)\n",
    "lngs = np.random.uniform(lng_range[0], lng_range[1], size=1500)\n",
    "lat_lngs = zip(lats, lngs)\n",
    "\n",
    "# Identify nearest city for each lat, lng combination\n",
    "for lat_lng in lat_lngs:\n",
    "    city = citipy.nearest_city(lat_lng[0], lat_lng[1]).city_name\n",
    "    \n",
    "    # If the city is unique, then add it to a our cities list\n",
    "    if city not in cities:\n",
    "        cities.append(city)\n",
    "        \n",
    "    # Print the city count to confirm sufficient count\n",
    "len(cities)"
   ]
  },
  {
   "cell_type": "markdown",
   "id": "91cae116",
   "metadata": {},
   "source": [
    "### Perform API Calls\n",
    "* Perform a weather check on each city using a series of successive API calls.\n",
    "* Include a print log of each city as it'sbeing processed (with the city number and city name).\n"
   ]
  },
  {
   "cell_type": "code",
   "execution_count": 3,
   "id": "365bc49e",
   "metadata": {},
   "outputs": [],
   "source": [
    "#building query url\n",
    "url = \"http://api.openweathermap.org/data/2.5/weather?\"\n",
    "units = \"metric\"\n",
    "query_url = f'{url}&appid={api_key}&units={units}&q='"
   ]
  },
  {
   "cell_type": "code",
   "execution_count": 4,
   "id": "f1de8958",
   "metadata": {
    "scrolled": true
   },
   "outputs": [
    {
     "name": "stdout",
     "output_type": "stream",
     "text": [
      "City number: 1. City name: souillac\n",
      "City number: 2. City name: sao filipe\n",
      "City number: 3. City name: jamestown\n",
      "City number: 4. City name: kapaa\n",
      "City number: 5. City name: vila velha\n",
      "City number: 6. City name: saint-augustin\n",
      "City number: 7. City name: lobau\n",
      "City number: 8. City name: mataura\n",
      "City number: 9. City name: codrington\n",
      "City number: 10. City name: butaritari\n",
      "City number: 11. City name: ayorou\n",
      "City number: 12. City name: haikou\n",
      "City number: 13. City name: paranhos\n",
      "City number: 14. City name: rikitea\n",
      "City number: 15. City name: luderitz\n",
      "City number: 16. City name: qaanaaq\n",
      "City number: 17. City name: atuona\n",
      "City number: 18. City name: port macquarie\n",
      "City number: 19. City name: bredasdorp\n",
      "City number: 20. City name: dikson\n",
      "City number: 21. City name: punta arenas\n",
      "City number: 22. City name: hamada\n",
      "City number: 23. City name: isangel\n",
      "City number: 24. City name: nyzhni sirohozy\n",
      "City number: 25. City name: benjamin hill\n",
      "City number: 26. City name: chanute\n",
      "City number: 27. City name: ushuaia\n",
      "City number: 28. City name: varzelandia\n",
      "City number: 29. City name: leningradskiy\n",
      "City number: 30. City name: sobolevo\n",
      "City number: 31. City name: zunyi\n",
      "City number: 32. City name: albany\n",
      "City number: 33. City name: sai buri\n",
      "City number: 34. City name: poum\n",
      "City number: 35. City name: deggendorf\n",
      "City number: 36. City name: aitape\n",
      "City number: 37. City name: arraial do cabo\n",
      "City number: 38. City name: taolanaro\n",
      "City not found.\n",
      "City number: 39. City name: barrow\n",
      "City number: 40. City name: anadyr\n",
      "City number: 41. City name: darnah\n",
      "City number: 42. City name: narsaq\n",
      "City number: 43. City name: yumen\n",
      "City number: 44. City name: avarua\n",
      "City number: 45. City name: yatou\n",
      "City number: 46. City name: comodoro rivadavia\n",
      "City number: 47. City name: richards bay\n",
      "City number: 48. City name: hermanus\n",
      "City number: 49. City name: odoyev\n",
      "City number: 50. City name: sentyabrskiy\n",
      "City not found.\n",
      "City number: 51. City name: nikolskoye\n",
      "City number: 52. City name: tuy hoa\n",
      "City number: 53. City name: nchelenge\n",
      "City number: 54. City name: attawapiskat\n",
      "City not found.\n",
      "City number: 55. City name: geraldton\n",
      "City number: 56. City name: cabo san lucas\n",
      "City number: 57. City name: puerto ayora\n",
      "City number: 58. City name: port alfred\n",
      "City number: 59. City name: quatre cocos\n",
      "City number: 60. City name: abeche\n",
      "City number: 61. City name: encinitas\n",
      "City number: 62. City name: puerto baquerizo moreno\n",
      "City number: 63. City name: aquin\n",
      "City number: 64. City name: saquarema\n",
      "City number: 65. City name: hobart\n",
      "City number: 66. City name: pacifica\n",
      "City number: 67. City name: hofn\n",
      "City number: 68. City name: lata\n",
      "City number: 69. City name: airai\n",
      "City number: 70. City name: hilo\n",
      "City number: 71. City name: general pico\n",
      "City number: 72. City name: khatanga\n",
      "City number: 73. City name: eyl\n",
      "City number: 74. City name: east london\n",
      "City number: 75. City name: ngukurr\n",
      "City not found.\n",
      "City number: 76. City name: castro\n",
      "City number: 77. City name: iqaluit\n",
      "City number: 78. City name: cherskiy\n",
      "City number: 79. City name: olinda\n",
      "City number: 80. City name: dingle\n",
      "City number: 81. City name: puerto carreno\n",
      "City number: 82. City name: hovd\n",
      "City number: 83. City name: bethel\n",
      "City number: 84. City name: huarmey\n",
      "City number: 85. City name: santa rosa\n",
      "City number: 86. City name: cairns\n",
      "City number: 87. City name: barentsburg\n",
      "City not found.\n",
      "City number: 88. City name: illoqqortoormiut\n",
      "City not found.\n",
      "City number: 89. City name: vardo\n",
      "City number: 90. City name: avera\n",
      "City number: 91. City name: pitea\n",
      "City number: 92. City name: georgetown\n",
      "City number: 93. City name: sitka\n",
      "City number: 94. City name: tuktoyaktuk\n",
      "City number: 95. City name: cidreira\n",
      "City number: 96. City name: mahebourg\n",
      "City number: 97. City name: melenki\n",
      "City number: 98. City name: oriximina\n",
      "City number: 99. City name: yar-sale\n",
      "City number: 100. City name: sfantu gheorghe\n",
      "City number: 101. City name: sojat\n",
      "City number: 102. City name: grand centre\n",
      "City not found.\n",
      "City number: 103. City name: port-cartier\n",
      "City number: 104. City name: edd\n",
      "City number: 105. City name: mys shmidta\n",
      "City not found.\n",
      "City number: 106. City name: azimur\n",
      "City not found.\n",
      "City number: 107. City name: abu samrah\n",
      "City number: 108. City name: linguere\n",
      "City number: 109. City name: nizhneyansk\n",
      "City not found.\n",
      "City number: 110. City name: kyshtovka\n",
      "City number: 111. City name: acarau\n",
      "City number: 112. City name: jackson\n",
      "City number: 113. City name: burnie\n",
      "City number: 114. City name: vestmanna\n",
      "City number: 115. City name: wanning\n",
      "City number: 116. City name: tautira\n",
      "City number: 117. City name: port elizabeth\n",
      "City number: 118. City name: trincomalee\n",
      "City number: 119. City name: portland\n",
      "City number: 120. City name: karasburg\n",
      "City number: 121. City name: new norfolk\n",
      "City number: 122. City name: nabire\n",
      "City number: 123. City name: sambava\n",
      "City number: 124. City name: altay\n",
      "City number: 125. City name: hay river\n",
      "City number: 126. City name: aklavik\n",
      "City number: 127. City name: kavieng\n",
      "City number: 128. City name: saint-philippe\n",
      "City number: 129. City name: fortuna\n",
      "City number: 130. City name: vaini\n",
      "City number: 131. City name: kodiak\n",
      "City number: 132. City name: bathsheba\n",
      "City number: 133. City name: shimoda\n",
      "City number: 134. City name: nizhnyaya tura\n",
      "City number: 135. City name: meulaboh\n",
      "City number: 136. City name: carnarvon\n",
      "City number: 137. City name: pevek\n",
      "City number: 138. City name: tymovskoye\n",
      "City number: 139. City name: ribeira grande\n",
      "City number: 140. City name: vangaindrano\n",
      "City number: 141. City name: la rioja\n",
      "City number: 142. City name: yellowknife\n",
      "City number: 143. City name: guane\n",
      "City number: 144. City name: brodina\n",
      "City number: 145. City name: belushya guba\n",
      "City not found.\n",
      "City number: 146. City name: victoria\n",
      "City number: 147. City name: busselton\n",
      "City number: 148. City name: alyangula\n",
      "City number: 149. City name: mount pleasant\n",
      "City number: 150. City name: kendari\n",
      "City number: 151. City name: lavrentiya\n",
      "City number: 152. City name: te anau\n",
      "City number: 153. City name: namibe\n",
      "City number: 154. City name: najran\n",
      "City number: 155. City name: antoniny\n",
      "City number: 156. City name: andenes\n",
      "City number: 157. City name: zaragoza\n",
      "City number: 158. City name: bluff\n",
      "City number: 159. City name: lorengau\n",
      "City number: 160. City name: chuy\n",
      "City number: 161. City name: tsihombe\n",
      "City not found.\n",
      "City number: 162. City name: dakar\n",
      "City number: 163. City name: isetskoye\n",
      "City number: 164. City name: torbay\n",
      "City number: 165. City name: ponta do sol\n",
      "City number: 166. City name: bani\n",
      "City number: 167. City name: barretos\n",
      "City number: 168. City name: yarada\n",
      "City number: 169. City name: oussouye\n",
      "City number: 170. City name: tasiilaq\n",
      "City number: 171. City name: alexandria\n",
      "City number: 172. City name: kahului\n",
      "City number: 173. City name: guerrero negro\n",
      "City number: 174. City name: ahipara\n",
      "City number: 175. City name: cerrito\n",
      "City number: 176. City name: esperance\n",
      "City number: 177. City name: seredka\n",
      "City number: 178. City name: laguna\n",
      "City number: 179. City name: nome\n",
      "City number: 180. City name: noyabrsk\n",
      "City number: 181. City name: stokmarknes\n",
      "City number: 182. City name: rexburg\n",
      "City number: 183. City name: bambous virieux\n",
      "City number: 184. City name: wahran\n",
      "City not found.\n",
      "City number: 185. City name: clyde river\n",
      "City number: 186. City name: nago\n",
      "City number: 187. City name: thompson\n",
      "City number: 188. City name: turukhansk\n",
      "City number: 189. City name: ankang\n",
      "City number: 190. City name: mvuma\n",
      "City number: 191. City name: sao felix do xingu\n",
      "City number: 192. City name: galesong\n",
      "City number: 193. City name: mount gambier\n",
      "City number: 194. City name: hithadhoo\n",
      "City number: 195. City name: mehamn\n",
      "City number: 196. City name: kutum\n",
      "City number: 197. City name: nemuro\n",
      "City number: 198. City name: malya\n",
      "City number: 199. City name: zeya\n",
      "City number: 200. City name: mokhsogollokh\n",
      "City number: 201. City name: lakes entrance\n",
      "City number: 202. City name: maungatapere\n",
      "City number: 203. City name: svetlogorsk\n",
      "City number: 204. City name: alibag\n",
      "City number: 205. City name: half moon bay\n",
      "City number: 206. City name: barbar\n",
      "City not found.\n",
      "City number: 207. City name: mailsi\n",
      "City number: 208. City name: cape town\n",
      "City number: 209. City name: hammerfest\n",
      "City number: 210. City name: san patricio\n",
      "City number: 211. City name: mount isa\n"
     ]
    },
    {
     "name": "stdout",
     "output_type": "stream",
     "text": [
      "City number: 212. City name: the valley\n",
      "City number: 213. City name: wangqing\n",
      "City number: 214. City name: ahuimanu\n",
      "City number: 215. City name: sakakah\n",
      "City number: 216. City name: salalah\n",
      "City number: 217. City name: paragominas\n",
      "City number: 218. City name: komsomolskiy\n",
      "City number: 219. City name: mayya\n",
      "City number: 220. City name: antequera\n",
      "City number: 221. City name: fairbanks\n",
      "City number: 222. City name: kermanshah\n",
      "City number: 223. City name: san cristobal\n",
      "City number: 224. City name: qianguo\n",
      "City number: 225. City name: solnechnyy\n",
      "City number: 226. City name: lebu\n",
      "City number: 227. City name: ilulissat\n",
      "City number: 228. City name: monrovia\n",
      "City number: 229. City name: kununurra\n",
      "City number: 230. City name: lev tolstoy\n",
      "City number: 231. City name: toucheng\n",
      "City number: 232. City name: paamiut\n",
      "City number: 233. City name: kirakira\n",
      "City number: 234. City name: znamenskoye\n",
      "City number: 235. City name: wigston\n",
      "City number: 236. City name: dawson creek\n",
      "City number: 237. City name: playa vicente\n",
      "City number: 238. City name: krivodanovka\n",
      "City number: 239. City name: banjar\n",
      "City number: 240. City name: baker city\n",
      "City number: 241. City name: kuytun\n",
      "City number: 242. City name: okhotsk\n",
      "City number: 243. City name: kenai\n",
      "City number: 244. City name: urfa\n",
      "City not found.\n",
      "City number: 245. City name: gat\n",
      "City number: 246. City name: ruidoso\n",
      "City number: 247. City name: bokspits\n",
      "City not found.\n",
      "City number: 248. City name: vila franca do campo\n",
      "City number: 249. City name: saint george\n",
      "City number: 250. City name: provideniya\n",
      "City number: 251. City name: talnakh\n",
      "City number: 252. City name: mar del plata\n",
      "City number: 253. City name: kimbe\n",
      "City number: 254. City name: san quintin\n",
      "City number: 255. City name: kaitangata\n",
      "City number: 256. City name: minnedosa\n",
      "City number: 257. City name: itoman\n",
      "City number: 258. City name: santa isabel do rio negro\n",
      "City number: 259. City name: klaksvik\n",
      "City number: 260. City name: satao\n",
      "City number: 261. City name: grindavik\n",
      "City number: 262. City name: dryden\n",
      "City number: 263. City name: vicuna\n",
      "City number: 264. City name: kaeo\n",
      "City number: 265. City name: constitucion\n",
      "City number: 266. City name: norman wells\n",
      "City number: 267. City name: upernavik\n",
      "City number: 268. City name: jumla\n",
      "City number: 269. City name: arlit\n",
      "City number: 270. City name: cholet\n",
      "City number: 271. City name: ust-barguzin\n",
      "City number: 272. City name: bermejo\n",
      "City number: 273. City name: chegdomyn\n",
      "City number: 274. City name: grand river south east\n",
      "City not found.\n",
      "City number: 275. City name: varhaug\n",
      "City number: 276. City name: akyab\n",
      "City number: 277. City name: labuhan\n",
      "City number: 278. City name: listvyagi\n",
      "City number: 279. City name: amderma\n",
      "City not found.\n",
      "City number: 280. City name: zlatoustovsk\n",
      "City not found.\n",
      "City number: 281. City name: lolua\n",
      "City not found.\n",
      "City number: 282. City name: silver city\n",
      "City number: 283. City name: vaitupu\n",
      "City not found.\n",
      "City number: 284. City name: hasaki\n",
      "City number: 285. City name: alice springs\n",
      "City number: 286. City name: ashland\n",
      "City number: 287. City name: samarai\n",
      "City number: 288. City name: aksarka\n",
      "City number: 289. City name: bengkulu\n",
      "City number: 290. City name: uyuni\n",
      "City number: 291. City name: samusu\n",
      "City not found.\n",
      "City number: 292. City name: pakxe\n",
      "City number: 293. City name: kalna\n",
      "City number: 294. City name: longyearbyen\n",
      "City number: 295. City name: chokurdakh\n",
      "City number: 296. City name: kunzell\n",
      "City number: 297. City name: jiazi\n",
      "City number: 298. City name: fort nelson\n",
      "City number: 299. City name: nesna\n",
      "City number: 300. City name: kaa-khem\n",
      "City number: 301. City name: sao joao da barra\n",
      "City number: 302. City name: ostrovnoy\n",
      "City number: 303. City name: severo-kurilsk\n",
      "City number: 304. City name: boa vista\n",
      "City number: 305. City name: winneba\n",
      "City number: 306. City name: mogadishu\n",
      "City number: 307. City name: puerto narino\n",
      "City number: 308. City name: nouadhibou\n",
      "City number: 309. City name: bijie\n",
      "City number: 310. City name: carballo\n",
      "City number: 311. City name: aswan\n",
      "City number: 312. City name: merauke\n",
      "City number: 313. City name: sovetskaya gavan\n",
      "City number: 314. City name: nagybajom\n",
      "City number: 315. City name: ponta delgada\n",
      "City number: 316. City name: haines junction\n",
      "City number: 317. City name: besancon\n",
      "City number: 318. City name: santiago del estero\n",
      "City number: 319. City name: mareeba\n",
      "City number: 320. City name: mecca\n",
      "City number: 321. City name: ust-maya\n",
      "City number: 322. City name: karkaralinsk\n",
      "City not found.\n",
      "City number: 323. City name: roald\n",
      "City number: 324. City name: hambantota\n",
      "City number: 325. City name: bolungarvik\n",
      "City not found.\n",
      "City number: 326. City name: nishihara\n",
      "City number: 327. City name: luanda\n",
      "City number: 328. City name: kalmunai\n",
      "City number: 329. City name: bom jesus da lapa\n",
      "City number: 330. City name: tura\n",
      "City number: 331. City name: bilma\n",
      "City number: 332. City name: bitlis\n",
      "City number: 333. City name: scarborough\n",
      "City number: 334. City name: walvis bay\n",
      "City number: 335. City name: sabang\n",
      "City number: 336. City name: honningsvag\n",
      "City number: 337. City name: padilla\n",
      "City number: 338. City name: gazojak\n",
      "City number: 339. City name: ruteng\n",
      "City number: 340. City name: atasu\n",
      "City number: 341. City name: skelleftea\n",
      "City number: 342. City name: kiama\n",
      "City number: 343. City name: kieta\n",
      "City number: 344. City name: zyryanka\n",
      "City number: 345. City name: bintulu\n",
      "City number: 346. City name: vestmannaeyjar\n",
      "City number: 347. City name: ochsenfurt\n",
      "City number: 348. City name: magadi\n",
      "City number: 349. City name: kisangani\n",
      "City number: 350. City name: lagoa\n",
      "City number: 351. City name: jieshi\n",
      "City number: 352. City name: vierzon\n",
      "City number: 353. City name: hokitika\n",
      "City number: 354. City name: winschoten\n",
      "City number: 355. City name: pathein\n",
      "City number: 356. City name: kroya\n",
      "City number: 357. City name: saskylakh\n",
      "City number: 358. City name: valreas\n",
      "City number: 359. City name: saleaula\n",
      "City not found.\n",
      "City number: 360. City name: umba\n",
      "City number: 361. City name: raga\n",
      "City number: 362. City name: novaya igirma\n",
      "City number: 363. City name: baruun-urt\n",
      "City number: 364. City name: shirgaon\n",
      "City number: 365. City name: saint-pierre\n",
      "City number: 366. City name: bumba\n",
      "City number: 367. City name: camacha\n",
      "City number: 368. City name: broome\n",
      "City number: 369. City name: seddon\n",
      "City number: 370. City name: patnagarh\n",
      "City number: 371. City name: san carlos de bariloche\n",
      "City number: 372. City name: dutlwe\n",
      "City number: 373. City name: bilibino\n",
      "City number: 374. City name: belaya gora\n",
      "City number: 375. City name: tuapse\n",
      "City number: 376. City name: monte cristi\n",
      "City not found.\n",
      "City number: 377. City name: gardan diwal\n",
      "City not found.\n",
      "City number: 378. City name: albury\n",
      "City number: 379. City name: batticaloa\n",
      "City number: 380. City name: boyolangu\n",
      "City number: 381. City name: maltahohe\n",
      "City number: 382. City name: ucluelet\n",
      "City number: 383. City name: hami\n",
      "City number: 384. City name: roebourne\n",
      "City number: 385. City name: ust-kamchatsk\n",
      "City not found.\n",
      "City number: 386. City name: canton\n",
      "City number: 387. City name: harstad\n",
      "City number: 388. City name: olafsvik\n",
      "City number: 389. City name: san luis de gaceno\n",
      "City number: 390. City name: vila\n",
      "City number: 391. City name: port lincoln\n",
      "City number: 392. City name: tiksi\n",
      "City number: 393. City name: marfino\n",
      "City number: 394. City name: panaba\n",
      "City number: 395. City name: chabahar\n",
      "City number: 396. City name: dire\n",
      "City number: 397. City name: tazovskiy\n",
      "City number: 398. City name: blora\n",
      "City number: 399. City name: puerto del rosario\n",
      "City number: 400. City name: kushima\n",
      "City number: 401. City name: nadym\n",
      "City number: 402. City name: laramie\n",
      "City number: 403. City name: rodrigues alves\n",
      "City number: 404. City name: mezen\n",
      "City number: 405. City name: lopik\n",
      "City number: 406. City name: byron bay\n",
      "City number: 407. City name: faanui\n",
      "City number: 408. City name: aborlan\n",
      "City number: 409. City name: tupik\n",
      "City number: 410. City name: kabare\n",
      "City number: 411. City name: terney\n",
      "City number: 412. City name: tongren\n",
      "City number: 413. City name: zhangye\n",
      "City number: 414. City name: marawi\n",
      "City number: 415. City name: katsuura\n",
      "City number: 416. City name: tawang\n",
      "City number: 417. City name: magdalena\n",
      "City number: 418. City name: sinop\n",
      "City number: 419. City name: saint-georges\n"
     ]
    },
    {
     "name": "stdout",
     "output_type": "stream",
     "text": [
      "City number: 420. City name: mananjary\n",
      "City number: 421. City name: chunoyar\n",
      "City number: 422. City name: bandarbeyla\n",
      "City number: 423. City name: rurrenabaque\n",
      "City number: 424. City name: sarkand\n",
      "City number: 425. City name: gararu\n",
      "City number: 426. City name: yerofey pavlovich\n",
      "City number: 427. City name: beringovskiy\n",
      "City number: 428. City name: praia da vitoria\n",
      "City number: 429. City name: lompoc\n",
      "City number: 430. City name: yerbogachen\n",
      "City number: 431. City name: port augusta\n",
      "City number: 432. City name: lazaro cardenas\n",
      "City number: 433. City name: ozgon\n",
      "City not found.\n",
      "City number: 434. City name: ancud\n",
      "City number: 435. City name: portobelo\n",
      "City number: 436. City name: kaduqli\n",
      "City number: 437. City name: saldanha\n",
      "City number: 438. City name: sao miguel do araguaia\n",
      "City number: 439. City name: tvoroyri\n",
      "City number: 440. City name: ewa beach\n",
      "City number: 441. City name: palabuhanratu\n",
      "City not found.\n",
      "City number: 442. City name: odessa\n",
      "City number: 443. City name: coquimbo\n",
      "City number: 444. City name: gwanda\n",
      "City number: 445. City name: pokhara\n",
      "City number: 446. City name: rzhanitsa\n",
      "City number: 447. City name: jibuti\n",
      "City number: 448. City name: launceston\n",
      "City number: 449. City name: dicabisagan\n",
      "City number: 450. City name: port blair\n",
      "City number: 451. City name: ayan\n",
      "City number: 452. City name: aginskoye\n",
      "City number: 453. City name: monster\n",
      "City number: 454. City name: marsa matruh\n",
      "City number: 455. City name: dinsor\n",
      "City not found.\n",
      "City number: 456. City name: bonavista\n",
      "City number: 457. City name: gornyy\n",
      "City number: 458. City name: atar\n",
      "City number: 459. City name: saryagash\n",
      "City number: 460. City name: sebeta\n",
      "City number: 461. City name: visnes\n",
      "City number: 462. City name: thiruvananthapuram\n",
      "City number: 463. City name: kloulklubed\n",
      "City number: 464. City name: mutis\n",
      "City number: 465. City name: zhitikara\n",
      "City not found.\n",
      "City number: 466. City name: biak\n",
      "City number: 467. City name: nakusp\n",
      "City number: 468. City name: bakel\n",
      "City number: 469. City name: mathathane\n",
      "City number: 470. City name: lubango\n",
      "City number: 471. City name: padang\n",
      "City number: 472. City name: shirakawa\n",
      "City number: 473. City name: bontang\n",
      "City number: 474. City name: pundaguitan\n",
      "City number: 475. City name: palmas\n",
      "City number: 476. City name: cockburn town\n",
      "City number: 477. City name: pacific grove\n",
      "City number: 478. City name: indiana\n",
      "City number: 479. City name: kirksville\n",
      "City number: 480. City name: sabibah\n",
      "City not found.\n",
      "City number: 481. City name: ostersund\n",
      "City number: 482. City name: duiwelskloof\n",
      "City number: 483. City name: wad madani\n",
      "City number: 484. City name: pisco\n",
      "City number: 485. City name: carutapera\n",
      "City number: 486. City name: vostok\n",
      "City number: 487. City name: sosnogorsk\n",
      "City number: 488. City name: sangar\n",
      "City number: 489. City name: buraydah\n",
      "City number: 490. City name: lukulu\n",
      "City number: 491. City name: nanortalik\n",
      "City number: 492. City name: ambilobe\n",
      "City number: 493. City name: puebloviejo\n",
      "City number: 494. City name: jalu\n",
      "City number: 495. City name: belmonte\n",
      "City number: 496. City name: carmagnola\n",
      "City number: 497. City name: lagos\n",
      "City number: 498. City name: elizabeth city\n",
      "City number: 499. City name: egvekinot\n",
      "City number: 500. City name: ushirombo\n",
      "City number: 501. City name: tessalit\n",
      "City number: 502. City name: tommot\n",
      "City number: 503. City name: morondava\n",
      "City number: 504. City name: flinders\n",
      "City number: 505. City name: goderich\n",
      "City number: 506. City name: lampa\n",
      "City number: 507. City name: johnston\n",
      "City number: 508. City name: camocim\n",
      "City number: 509. City name: bauchi\n",
      "City number: 510. City name: groa\n",
      "City number: 511. City name: yeppoon\n",
      "City number: 512. City name: rio grande\n",
      "City number: 513. City name: nagato\n",
      "City number: 514. City name: khani\n",
      "City number: 515. City name: osmena\n",
      "City number: 516. City name: bayan\n",
      "City number: 517. City name: planeta rica\n",
      "City number: 518. City name: moroni\n",
      "City number: 519. City name: hamilton\n",
      "City number: 520. City name: taltal\n",
      "City number: 521. City name: bella union\n",
      "City number: 522. City name: kholtoson\n",
      "City number: 523. City name: yeletskiy\n",
      "City not found.\n",
      "City number: 524. City name: road town\n",
      "City number: 525. City name: guarabira\n",
      "City number: 526. City name: nicoya\n",
      "City number: 527. City name: mali\n",
      "City number: 528. City name: riyadh\n",
      "City number: 529. City name: mayo\n",
      "City number: 530. City name: pokrovsk\n",
      "City number: 531. City name: otradnaya\n",
      "City number: 532. City name: surt\n",
      "City number: 533. City name: brigantine\n",
      "City number: 534. City name: funtua\n",
      "City number: 535. City name: eirunepe\n",
      "City number: 536. City name: lodja\n",
      "City number: 537. City name: kant\n",
      "City number: 538. City name: jonesboro\n",
      "City number: 539. City name: tromso\n",
      "City number: 540. City name: whitehorse\n",
      "City number: 541. City name: prince rupert\n",
      "City number: 542. City name: sunrise manor\n",
      "City number: 543. City name: yulara\n",
      "City number: 544. City name: subacius\n",
      "City not found.\n",
      "City number: 545. City name: kamenskoye\n",
      "City not found.\n",
      "City number: 546. City name: canar\n",
      "City number: 547. City name: luganville\n",
      "City number: 548. City name: hurghada\n",
      "City number: 549. City name: port hedland\n",
      "City number: 550. City name: urbano santos\n",
      "City number: 551. City name: inzhavino\n",
      "City number: 552. City name: kadoma\n",
      "City number: 553. City name: formoso do araguaia\n",
      "City not found.\n",
      "City number: 554. City name: itarare\n",
      "City number: 555. City name: wilmington\n",
      "City number: 556. City name: baykit\n",
      "City number: 557. City name: rabak\n",
      "City number: 558. City name: kostomuksha\n",
      "City number: 559. City name: itarema\n",
      "City number: 560. City name: taiyuan\n",
      "City number: 561. City name: peniche\n",
      "City number: 562. City name: manoel urbano\n",
      "City number: 563. City name: necochea\n",
      "City number: 564. City name: vargem grande\n",
      "City number: 565. City name: adrar\n",
      "City number: 566. City name: kruisfontein\n",
      "City number: 567. City name: tiarei\n",
      "City number: 568. City name: slatina\n",
      "City number: 569. City name: bacolod\n",
      "City number: 570. City name: serebryansk\n",
      "City number: 571. City name: taoudenni\n",
      "City number: 572. City name: salisbury\n",
      "City number: 573. City name: annau\n",
      "City number: 574. City name: tuatapere\n",
      "City number: 575. City name: salitral\n",
      "City number: 576. City name: caravelas\n",
      "City number: 577. City name: priargunsk\n",
      "City number: 578. City name: mondeville\n",
      "City number: 579. City name: bairiki\n",
      "City number: 580. City name: poronaysk\n",
      "City number: 581. City name: leua\n",
      "City number: 582. City name: marathon\n",
      "City number: 583. City name: groningen\n",
      "City number: 584. City name: sandpoint\n",
      "City number: 585. City name: flin flon\n",
      "City number: 586. City name: serebryanyy bor\n",
      "City number: 587. City name: copiapo\n",
      "City number: 588. City name: vryheid\n",
      "City number: 589. City name: palmer\n",
      "City number: 590. City name: kawana waters\n",
      "City not found.\n",
      "City number: 591. City name: sembe\n",
      "City number: 592. City name: koumac\n",
      "City number: 593. City name: dolbeau\n",
      "City not found.\n"
     ]
    }
   ],
   "source": [
    "#creating lists with city weather data\n",
    "temperature = []\n",
    "humidity = []\n",
    "cloudiness = []\n",
    "wind_speed = []\n",
    "city_list = []\n",
    "lat_list = []\n",
    "lng_list = []\n",
    "country_list = []\n",
    "date_time_list = []\n",
    "count = 0\n",
    "\n",
    "for city in cities:\n",
    "    \n",
    "    count += 1\n",
    "    print(f'City number: {count}. City name: {city}')\n",
    "    \n",
    "    try:\n",
    "        response = requests.get(query_url + city).json()\n",
    "        temperature.append((response['main']['temp']))\n",
    "        humidity.append((response['main']['humidity']))\n",
    "        cloudiness.append((response['clouds']['all']))\n",
    "        wind_speed.append((response['wind']['speed']))\n",
    "        lat_list.append((response['coord']['lat']))\n",
    "        lng_list.append((response['coord']['lon']))\n",
    "        city_list.append(city)\n",
    "        country_list.append(response['sys']['country'])\n",
    "        date_time_list.append(response['dt'])\n",
    "        \n",
    "    except:\n",
    "        print('City not found.')\n",
    "        \n",
    "    time.sleep(1)"
   ]
  },
  {
   "cell_type": "markdown",
   "id": "bdf508a5",
   "metadata": {},
   "source": [
    "### Convert Raw Data to DataFrame\n",
    "* Export the city data into a .csv.\n",
    "* Display the DataFrame"
   ]
  },
  {
   "cell_type": "code",
   "execution_count": 84,
   "id": "447ba0fa",
   "metadata": {},
   "outputs": [],
   "source": [
    "#converting UTC time to date\n",
    "import datetime\n",
    "\n",
    "time_list = []\n",
    "\n",
    "for row in range(0, len(weather_data)):\n",
    "    time = weather_data['Date Time UTC'][row]\n",
    "    time = datetime.date.fromtimestamp(time)\n",
    "    \n",
    "    time_list.append(time)\n",
    "    "
   ]
  },
  {
   "cell_type": "code",
   "execution_count": 87,
   "id": "355e1e15",
   "metadata": {},
   "outputs": [
    {
     "data": {
      "text/html": [
       "<div>\n",
       "<style scoped>\n",
       "    .dataframe tbody tr th:only-of-type {\n",
       "        vertical-align: middle;\n",
       "    }\n",
       "\n",
       "    .dataframe tbody tr th {\n",
       "        vertical-align: top;\n",
       "    }\n",
       "\n",
       "    .dataframe thead th {\n",
       "        text-align: right;\n",
       "    }\n",
       "</style>\n",
       "<table border=\"1\" class=\"dataframe\">\n",
       "  <thead>\n",
       "    <tr style=\"text-align: right;\">\n",
       "      <th></th>\n",
       "      <th>City</th>\n",
       "      <th>Temperature</th>\n",
       "      <th>%Humidity</th>\n",
       "      <th>Cloudiness</th>\n",
       "      <th>Wind Speed</th>\n",
       "      <th>Latitude</th>\n",
       "      <th>Longitude</th>\n",
       "      <th>Country</th>\n",
       "      <th>Date Time UTC</th>\n",
       "      <th>Date</th>\n",
       "    </tr>\n",
       "  </thead>\n",
       "  <tbody>\n",
       "    <tr>\n",
       "      <th>0</th>\n",
       "      <td>souillac</td>\n",
       "      <td>20.21</td>\n",
       "      <td>64</td>\n",
       "      <td>40</td>\n",
       "      <td>8.23</td>\n",
       "      <td>-20.5167</td>\n",
       "      <td>57.5167</td>\n",
       "      <td>MU</td>\n",
       "      <td>1660243000</td>\n",
       "      <td>2022-08-11</td>\n",
       "    </tr>\n",
       "    <tr>\n",
       "      <th>1</th>\n",
       "      <td>sao filipe</td>\n",
       "      <td>26.43</td>\n",
       "      <td>72</td>\n",
       "      <td>5</td>\n",
       "      <td>5.16</td>\n",
       "      <td>14.8961</td>\n",
       "      <td>-24.4956</td>\n",
       "      <td>CV</td>\n",
       "      <td>1660243001</td>\n",
       "      <td>2022-08-11</td>\n",
       "    </tr>\n",
       "    <tr>\n",
       "      <th>2</th>\n",
       "      <td>jamestown</td>\n",
       "      <td>23.67</td>\n",
       "      <td>47</td>\n",
       "      <td>40</td>\n",
       "      <td>5.66</td>\n",
       "      <td>42.0970</td>\n",
       "      <td>-79.2353</td>\n",
       "      <td>US</td>\n",
       "      <td>1660242879</td>\n",
       "      <td>2022-08-11</td>\n",
       "    </tr>\n",
       "    <tr>\n",
       "      <th>3</th>\n",
       "      <td>kapaa</td>\n",
       "      <td>26.19</td>\n",
       "      <td>76</td>\n",
       "      <td>40</td>\n",
       "      <td>7.72</td>\n",
       "      <td>22.0752</td>\n",
       "      <td>-159.3190</td>\n",
       "      <td>US</td>\n",
       "      <td>1660243004</td>\n",
       "      <td>2022-08-11</td>\n",
       "    </tr>\n",
       "    <tr>\n",
       "      <th>4</th>\n",
       "      <td>vila velha</td>\n",
       "      <td>23.86</td>\n",
       "      <td>60</td>\n",
       "      <td>0</td>\n",
       "      <td>7.72</td>\n",
       "      <td>-20.3297</td>\n",
       "      <td>-40.2925</td>\n",
       "      <td>BR</td>\n",
       "      <td>1660243005</td>\n",
       "      <td>2022-08-11</td>\n",
       "    </tr>\n",
       "  </tbody>\n",
       "</table>\n",
       "</div>"
      ],
      "text/plain": [
       "         City  Temperature  %Humidity  Cloudiness  Wind Speed  Latitude  \\\n",
       "0    souillac        20.21         64          40        8.23  -20.5167   \n",
       "1  sao filipe        26.43         72           5        5.16   14.8961   \n",
       "2   jamestown        23.67         47          40        5.66   42.0970   \n",
       "3       kapaa        26.19         76          40        7.72   22.0752   \n",
       "4  vila velha        23.86         60           0        7.72  -20.3297   \n",
       "\n",
       "   Longitude Country  Date Time UTC        Date  \n",
       "0    57.5167      MU     1660243000  2022-08-11  \n",
       "1   -24.4956      CV     1660243001  2022-08-11  \n",
       "2   -79.2353      US     1660242879  2022-08-11  \n",
       "3  -159.3190      US     1660243004  2022-08-11  \n",
       "4   -40.2925      BR     1660243005  2022-08-11  "
      ]
     },
     "execution_count": 87,
     "metadata": {},
     "output_type": "execute_result"
    }
   ],
   "source": [
    "#create df from city weather query results\n",
    "weather_dict = {\"City\": city_list,\n",
    "               \"Temperature\": temperature,\n",
    "               \"%Humidity\": humidity,\n",
    "               \"Cloudiness\":cloudiness,\n",
    "               \"Wind Speed\": wind_speed,\n",
    "               \"Latitude\": lat_list,\n",
    "               \"Longitude\": lng_list,\n",
    "               \"Country\": country_list,\n",
    "               \"Date Time UTC\": date_time_list,\n",
    "               \"Date\": time}\n",
    "\n",
    "weather_data = pd.DataFrame(weather_dict)\n",
    "weather_data.head()"
   ]
  },
  {
   "cell_type": "code",
   "execution_count": 88,
   "id": "83f8e171",
   "metadata": {},
   "outputs": [],
   "source": [
    "#export city data to csv\n",
    "weather_data.to_csv('weather_data.csv')"
   ]
  },
  {
   "cell_type": "markdown",
   "id": "39cff247",
   "metadata": {},
   "source": [
    "## Inspect the data and remove the cities where the humidity > 100%.\n",
    "----\n",
    "Skip this step if there are no cities that have humidity > 100%. "
   ]
  },
  {
   "cell_type": "code",
   "execution_count": 89,
   "id": "27bb9a9e",
   "metadata": {},
   "outputs": [
    {
     "data": {
      "text/html": [
       "<div>\n",
       "<style scoped>\n",
       "    .dataframe tbody tr th:only-of-type {\n",
       "        vertical-align: middle;\n",
       "    }\n",
       "\n",
       "    .dataframe tbody tr th {\n",
       "        vertical-align: top;\n",
       "    }\n",
       "\n",
       "    .dataframe thead th {\n",
       "        text-align: right;\n",
       "    }\n",
       "</style>\n",
       "<table border=\"1\" class=\"dataframe\">\n",
       "  <thead>\n",
       "    <tr style=\"text-align: right;\">\n",
       "      <th></th>\n",
       "      <th>City</th>\n",
       "      <th>Temperature</th>\n",
       "      <th>%Humidity</th>\n",
       "      <th>Cloudiness</th>\n",
       "      <th>Wind Speed</th>\n",
       "      <th>Latitude</th>\n",
       "      <th>Longitude</th>\n",
       "      <th>Country</th>\n",
       "      <th>Date Time UTC</th>\n",
       "      <th>Date</th>\n",
       "    </tr>\n",
       "  </thead>\n",
       "  <tbody>\n",
       "  </tbody>\n",
       "</table>\n",
       "</div>"
      ],
      "text/plain": [
       "Empty DataFrame\n",
       "Columns: [City, Temperature, %Humidity, Cloudiness, Wind Speed, Latitude, Longitude, Country, Date Time UTC, Date]\n",
       "Index: []"
      ]
     },
     "execution_count": 89,
     "metadata": {},
     "output_type": "execute_result"
    }
   ],
   "source": [
    "#there are no cities in this df with humidity > 100%\n",
    "weather_data.loc[weather_data['%Humidity'] > 100]"
   ]
  },
  {
   "cell_type": "markdown",
   "id": "5bab994d",
   "metadata": {},
   "source": [
    "## Plotting the Data\n",
    "* Use proper labeling of the plots using plot titles (including date of analysis) and axes labels.\n",
    "* Save the plotted figures as .pngs."
   ]
  },
  {
   "cell_type": "markdown",
   "id": "3f4737ad",
   "metadata": {},
   "source": [
    "## Latitude vs. Temperature Plot"
   ]
  },
  {
   "cell_type": "code",
   "execution_count": 90,
   "id": "90da83c0",
   "metadata": {},
   "outputs": [
    {
     "data": {
      "text/html": [
       "<div>\n",
       "<style scoped>\n",
       "    .dataframe tbody tr th:only-of-type {\n",
       "        vertical-align: middle;\n",
       "    }\n",
       "\n",
       "    .dataframe tbody tr th {\n",
       "        vertical-align: top;\n",
       "    }\n",
       "\n",
       "    .dataframe thead th {\n",
       "        text-align: right;\n",
       "    }\n",
       "</style>\n",
       "<table border=\"1\" class=\"dataframe\">\n",
       "  <thead>\n",
       "    <tr style=\"text-align: right;\">\n",
       "      <th></th>\n",
       "      <th>City</th>\n",
       "      <th>Temperature</th>\n",
       "      <th>%Humidity</th>\n",
       "      <th>Cloudiness</th>\n",
       "      <th>Wind Speed</th>\n",
       "      <th>Latitude</th>\n",
       "      <th>Longitude</th>\n",
       "      <th>Country</th>\n",
       "      <th>Date Time UTC</th>\n",
       "      <th>Date</th>\n",
       "    </tr>\n",
       "  </thead>\n",
       "  <tbody>\n",
       "    <tr>\n",
       "      <th>0</th>\n",
       "      <td>souillac</td>\n",
       "      <td>20.21</td>\n",
       "      <td>64</td>\n",
       "      <td>40</td>\n",
       "      <td>8.23</td>\n",
       "      <td>-20.5167</td>\n",
       "      <td>57.5167</td>\n",
       "      <td>MU</td>\n",
       "      <td>1660243000</td>\n",
       "      <td>2022-08-11</td>\n",
       "    </tr>\n",
       "    <tr>\n",
       "      <th>1</th>\n",
       "      <td>sao filipe</td>\n",
       "      <td>26.43</td>\n",
       "      <td>72</td>\n",
       "      <td>5</td>\n",
       "      <td>5.16</td>\n",
       "      <td>14.8961</td>\n",
       "      <td>-24.4956</td>\n",
       "      <td>CV</td>\n",
       "      <td>1660243001</td>\n",
       "      <td>2022-08-11</td>\n",
       "    </tr>\n",
       "    <tr>\n",
       "      <th>2</th>\n",
       "      <td>jamestown</td>\n",
       "      <td>23.67</td>\n",
       "      <td>47</td>\n",
       "      <td>40</td>\n",
       "      <td>5.66</td>\n",
       "      <td>42.0970</td>\n",
       "      <td>-79.2353</td>\n",
       "      <td>US</td>\n",
       "      <td>1660242879</td>\n",
       "      <td>2022-08-11</td>\n",
       "    </tr>\n",
       "    <tr>\n",
       "      <th>3</th>\n",
       "      <td>kapaa</td>\n",
       "      <td>26.19</td>\n",
       "      <td>76</td>\n",
       "      <td>40</td>\n",
       "      <td>7.72</td>\n",
       "      <td>22.0752</td>\n",
       "      <td>-159.3190</td>\n",
       "      <td>US</td>\n",
       "      <td>1660243004</td>\n",
       "      <td>2022-08-11</td>\n",
       "    </tr>\n",
       "    <tr>\n",
       "      <th>4</th>\n",
       "      <td>vila velha</td>\n",
       "      <td>23.86</td>\n",
       "      <td>60</td>\n",
       "      <td>0</td>\n",
       "      <td>7.72</td>\n",
       "      <td>-20.3297</td>\n",
       "      <td>-40.2925</td>\n",
       "      <td>BR</td>\n",
       "      <td>1660243005</td>\n",
       "      <td>2022-08-11</td>\n",
       "    </tr>\n",
       "  </tbody>\n",
       "</table>\n",
       "</div>"
      ],
      "text/plain": [
       "         City  Temperature  %Humidity  Cloudiness  Wind Speed  Latitude  \\\n",
       "0    souillac        20.21         64          40        8.23  -20.5167   \n",
       "1  sao filipe        26.43         72           5        5.16   14.8961   \n",
       "2   jamestown        23.67         47          40        5.66   42.0970   \n",
       "3       kapaa        26.19         76          40        7.72   22.0752   \n",
       "4  vila velha        23.86         60           0        7.72  -20.3297   \n",
       "\n",
       "   Longitude Country  Date Time UTC        Date  \n",
       "0    57.5167      MU     1660243000  2022-08-11  \n",
       "1   -24.4956      CV     1660243001  2022-08-11  \n",
       "2   -79.2353      US     1660242879  2022-08-11  \n",
       "3  -159.3190      US     1660243004  2022-08-11  \n",
       "4   -40.2925      BR     1660243005  2022-08-11  "
      ]
     },
     "execution_count": 90,
     "metadata": {},
     "output_type": "execute_result"
    }
   ],
   "source": [
    "weather_data.head()"
   ]
  },
  {
   "cell_type": "code",
   "execution_count": 112,
   "id": "3b4016b6",
   "metadata": {},
   "outputs": [],
   "source": [
    "chart_date =str(weather_data['Date'][0])"
   ]
  },
  {
   "cell_type": "code",
   "execution_count": 115,
   "id": "19d790e4",
   "metadata": {
    "scrolled": true
   },
   "outputs": [
    {
     "data": {
      "image/png": "[encoded data removed]",
      "text/plain": [
       "<Figure size 432x288 with 1 Axes>"
      ]
     },
     "metadata": {
      "needs_background": "light"
     },
     "output_type": "display_data"
    }
   ],
   "source": [
    "plt.scatter(weather_data['Latitude'], weather_data['Temperature'])\n",
    "plt.xlabel('Latitude')\n",
    "plt.ylabel('Temperature (C)')\n",
    "plt.title(f'City Temperature vs Latitude ({chart_date})')\n",
    "\n",
    "plt.show()"
   ]
  },
  {
   "cell_type": "markdown",
   "id": "2bb3a8e9",
   "metadata": {},
   "source": [
    "Explanation: This plot analyzes the relationship between temperature and latitude for the queried cities. It shows that maximum temperature occurs slighly north of the equator."
   ]
  },
  {
   "cell_type": "markdown",
   "id": "d4c92852",
   "metadata": {},
   "source": [
    "## Latitude vs. Humidity Plot"
   ]
  },
  {
   "cell_type": "code",
   "execution_count": 116,
   "id": "eed966f9",
   "metadata": {},
   "outputs": [
    {
     "data": {
      "image/png": "[encoded data removed]",
      "text/plain": [
       "<Figure size 432x288 with 1 Axes>"
      ]
     },
     "metadata": {
      "needs_background": "light"
     },
     "output_type": "display_data"
    }
   ],
   "source": [
    "plt.scatter(weather_data['Latitude'], weather_data['%Humidity'])\n",
    "plt.xlabel('Latitude')\n",
    "plt.ylabel('Humidity (%)')\n",
    "plt.title(f'City Humidity vs Latitude ({chart_date})')\n",
    "\n",
    "plt.show()"
   ]
  },
  {
   "cell_type": "markdown",
   "id": "7ac54486",
   "metadata": {},
   "source": [
    "Explanation: This plot analyzes the relationship between humidity and latitude for the queried cities. Percent humidity does not appear to be dependent on latitude."
   ]
  },
  {
   "cell_type": "markdown",
   "id": "407d1605",
   "metadata": {},
   "source": [
    "## Latitude vs. Cloudiness Plot"
   ]
  },
  {
   "cell_type": "code",
   "execution_count": 117,
   "id": "b6f64b85",
   "metadata": {},
   "outputs": [
    {
     "data": {
      "image/png": "[encoded data removed]",
      "text/plain": [
       "<Figure size 432x288 with 1 Axes>"
      ]
     },
     "metadata": {
      "needs_background": "light"
     },
     "output_type": "display_data"
    }
   ],
   "source": [
    "plt.scatter(weather_data['Latitude'], weather_data['Cloudiness'])\n",
    "plt.xlabel('Latitude')\n",
    "plt.ylabel('Cloudiness (%)')\n",
    "plt.title(f'City Cloudiness vs Latitude ({chart_date})')\n",
    "\n",
    "plt.show()"
   ]
  },
  {
   "cell_type": "markdown",
   "id": "8cc51063",
   "metadata": {},
   "source": [
    "Explanation: This plot analyzes the relationship between cloudiness and latitude for the queried cities. Cloudiness does not appear to be dependent on latitude."
   ]
  },
  {
   "cell_type": "markdown",
   "id": "4aefe6a2",
   "metadata": {},
   "source": [
    "## Latitude vs. Wind Speed Plot"
   ]
  },
  {
   "cell_type": "code",
   "execution_count": 118,
   "id": "8c9f7254",
   "metadata": {},
   "outputs": [
    {
     "data": {
      "image/png": "[encoded data removed]",
      "text/plain": [
       "<Figure size 432x288 with 1 Axes>"
      ]
     },
     "metadata": {
      "needs_background": "light"
     },
     "output_type": "display_data"
    }
   ],
   "source": [
    "plt.scatter(weather_data['Latitude'], weather_data['Wind Speed'])\n",
    "plt.xlabel('Latitude')\n",
    "plt.ylabel('Wind Speed (mph)')\n",
    "plt.title(f'City Wind Speed vs Latitude ({chart_date})')\n",
    "\n",
    "plt.show()"
   ]
  },
  {
   "cell_type": "markdown",
   "id": "c8445429",
   "metadata": {},
   "source": [
    "Explanation: This plot analyzes the relationship between wind speed and latitude for the queried cities. Wind speed does not appear to be dependent on latitude."
   ]
  },
  {
   "cell_type": "markdown",
   "id": "0f95215d",
   "metadata": {},
   "source": [
    "## Linear Regression"
   ]
  },
  {
   "cell_type": "code",
   "execution_count": 119,
   "id": "e8704024",
   "metadata": {},
   "outputs": [],
   "source": [
    "#Creating dataframes for each hemisphere\n",
    "north_data = weather_data.loc[weather_data['Latitude'] > 0]\n",
    "south_data = weather_data.loc[weather_data['Latitude'] < 0]"
   ]
  },
  {
   "cell_type": "markdown",
   "id": "1a2e75fc",
   "metadata": {},
   "source": [
    "####  Northern Hemisphere - Max Temp vs. Latitude Linear Regression"
   ]
  },
  {
   "cell_type": "code",
   "execution_count": 121,
   "id": "e5e46e7d",
   "metadata": {},
   "outputs": [
    {
     "data": {
      "image/png": "[encoded data removed]",
      "text/plain": [
       "<Figure size 432x288 with 1 Axes>"
      ]
     },
     "metadata": {
      "needs_background": "light"
     },
     "output_type": "display_data"
    },
    {
     "name": "stdout",
     "output_type": "stream",
     "text": [
      " rsquared = 0.53\n"
     ]
    }
   ],
   "source": [
    "plt.scatter(north_data['Latitude'], north_data['Temperature'])\n",
    "plt.xlabel('Latitude')\n",
    "plt.ylabel('Temperature (C)')\n",
    "plt.title(f'Northern Hemisphere City Temperature vs Latitude ({chart_date})')\n",
    "\n",
    "\n",
    "(slope, intercept, rvalue, pvalue, stderr) = linregress(north_data['Latitude'], north_data['Temperature'])\n",
    "regress_values = north_data['Latitude'] * slope + intercept\n",
    "line_eq = f'y = {round(slope,2)}x + {round(intercept, 2)}'\n",
    "\n",
    "plt.plot(north_data['Latitude'], regress_values, color='red')\n",
    "plt.annotate(line_eq,(1,5), color='red', fontsize=10)\n",
    "\n",
    "plt.xlim(0, 80)\n",
    "plt.ylim(0, 50)\n",
    "\n",
    "plt.show()\n",
    "print(f' rsquared = {round(rvalue * rvalue,2)}')"
   ]
  },
  {
   "cell_type": "markdown",
   "id": "2906c677",
   "metadata": {},
   "source": [
    "####  Southern Hemisphere - Max Temp vs. Latitude Linear Regression"
   ]
  },
  {
   "cell_type": "code",
   "execution_count": 122,
   "id": "73c3b80a",
   "metadata": {},
   "outputs": [
    {
     "data": {
      "image/png": "[encoded data removed]",
      "text/plain": [
       "<Figure size 432x288 with 1 Axes>"
      ]
     },
     "metadata": {
      "needs_background": "light"
     },
     "output_type": "display_data"
    },
    {
     "name": "stdout",
     "output_type": "stream",
     "text": [
      " rsquared = 0.67\n"
     ]
    }
   ],
   "source": [
    "plt.scatter(south_data['Latitude'], south_data['Temperature'])\n",
    "plt.xlabel('Latitude')\n",
    "plt.ylabel('Temperature (C)')\n",
    "plt.title(f'Southern Hemisphere City Temperature vs Latitude ({chart_date})')\n",
    "\n",
    "\n",
    "(slope, intercept, rvalue, pvalue, stderr) = linregress(south_data['Latitude'], south_data['Temperature'])\n",
    "regress_values = south_data['Latitude'] * slope + intercept\n",
    "line_eq = f'y = {round(slope,2)}x + {round(intercept, 2)}'\n",
    "\n",
    "plt.plot(south_data['Latitude'], regress_values, color='red')\n",
    "plt.annotate(line_eq,(-45,35), color='red', fontsize=10)\n",
    "\n",
    "plt.xlim(-50, 0)\n",
    "plt.ylim(0, 40)\n",
    "\n",
    "plt.show()\n",
    "print(f' rsquared = {round(rvalue * rvalue,2)}')"
   ]
  },
  {
   "cell_type": "markdown",
   "id": "d4ec7387",
   "metadata": {},
   "source": [
    "The linear regressions are modeling the dependence of temperature on latitude for both the Northern and Southern Hemisphere. The plots show that in the North Hemisphere, temperature decreases as latitude increases. In the Southern Hemisphere, temperature increases as latitude increases."
   ]
  },
  {
   "cell_type": "markdown",
   "id": "3f5dd638",
   "metadata": {},
   "source": [
    "####  Northern Hemisphere - Humidity (%) vs. Latitude Linear Regression"
   ]
  },
  {
   "cell_type": "code",
   "execution_count": 123,
   "id": "3c95a3cc",
   "metadata": {},
   "outputs": [
    {
     "data": {
      "image/png": "[encoded data removed]",
      "text/plain": [
       "<Figure size 432x288 with 1 Axes>"
      ]
     },
     "metadata": {
      "needs_background": "light"
     },
     "output_type": "display_data"
    },
    {
     "name": "stdout",
     "output_type": "stream",
     "text": [
      " rsquared = 0.01\n"
     ]
    }
   ],
   "source": [
    "plt.scatter(north_data['Latitude'], north_data['%Humidity'])\n",
    "plt.xlabel('Latitude')\n",
    "plt.ylabel('Humidity (%)')\n",
    "plt.title(f'Northern Hemisphere City Humidity vs Latitude ({chart_date})')\n",
    "\n",
    "\n",
    "(slope, intercept, rvalue, pvalue, stderr) = linregress(north_data['Latitude'], north_data['%Humidity'])\n",
    "regress_values = north_data['Latitude'] * slope + intercept\n",
    "line_eq = f'y = {round(slope,2)}x + {round(intercept, 2)}'\n",
    "\n",
    "plt.plot(north_data['Latitude'], regress_values, color='red')\n",
    "plt.annotate(line_eq,(55,5), color='red', fontsize=10)\n",
    "\n",
    "plt.show()\n",
    "print(f' rsquared = {round(rvalue * rvalue,2)}')"
   ]
  },
  {
   "cell_type": "markdown",
   "id": "15ea28a7",
   "metadata": {},
   "source": [
    "####  Southern Hemisphere - Humidity (%) vs. Latitude Linear Regression"
   ]
  },
  {
   "cell_type": "code",
   "execution_count": 131,
   "id": "256636cd",
   "metadata": {},
   "outputs": [
    {
     "data": {
      "image/png": "[encoded data removed]",
      "text/plain": [
       "<Figure size 432x288 with 1 Axes>"
      ]
     },
     "metadata": {
      "needs_background": "light"
     },
     "output_type": "display_data"
    },
    {
     "name": "stdout",
     "output_type": "stream",
     "text": [
      " rsquared = 0.02\n"
     ]
    }
   ],
   "source": [
    "plt.scatter(south_data['Latitude'], south_data['%Humidity'])\n",
    "plt.xlabel('Latitude')\n",
    "plt.ylabel('Humidity (%)')\n",
    "plt.title(f'Southern Hemisphere City Humidity vs Latitude ({chart_date})')\n",
    "\n",
    "\n",
    "(slope, intercept, rvalue, pvalue, stderr) = linregress(south_data['Latitude'], south_data['%Humidity'])\n",
    "regress_values = south_data['Latitude'] * slope + intercept\n",
    "line_eq = f'y = {round(slope,2)}x + {round(intercept, 2)}'\n",
    "\n",
    "plt.plot(south_data['Latitude'], regress_values, color='red')\n",
    "plt.annotate(line_eq,(-47,42), color='red', fontsize=10)\n",
    "\n",
    "plt.show()\n",
    "print(f' rsquared = {round(rvalue * rvalue,2)}')"
   ]
  },
  {
   "cell_type": "markdown",
   "id": "9b51a0e7",
   "metadata": {},
   "source": [
    "The linear regressions are modeling the dependence of humidity on latitude for both the Northern and Southern Hemispheres. The low r squared values provide evidence supporting the claim that humidity is not dependent on latitude for either hemisphere."
   ]
  },
  {
   "cell_type": "markdown",
   "id": "3310d155",
   "metadata": {},
   "source": [
    "####  Northern Hemisphere - Cloudiness (%) vs. Latitude Linear Regression"
   ]
  },
  {
   "cell_type": "code",
   "execution_count": 128,
   "id": "7bdb0c87",
   "metadata": {},
   "outputs": [
    {
     "data": {
      "image/png": "[encoded data removed]",
      "text/plain": [
       "<Figure size 432x288 with 1 Axes>"
      ]
     },
     "metadata": {
      "needs_background": "light"
     },
     "output_type": "display_data"
    },
    {
     "name": "stdout",
     "output_type": "stream",
     "text": [
      " rsquared = 0.0\n"
     ]
    }
   ],
   "source": [
    "plt.scatter(north_data['Latitude'], north_data['Cloudiness'])\n",
    "plt.xlabel('Latitude')\n",
    "plt.ylabel('Cloudiness (%)')\n",
    "plt.title(f'Northern Hemisphere City Cloudiness vs Latitude ({chart_date})')\n",
    "\n",
    "\n",
    "(slope, intercept, rvalue, pvalue, stderr) = linregress(north_data['Latitude'], north_data['Cloudiness'])\n",
    "regress_values = north_data['Latitude'] * slope + intercept\n",
    "line_eq = f'y = {round(slope,2)}x + {round(intercept, 2)}'\n",
    "\n",
    "plt.plot(north_data['Latitude'], regress_values, color='red')\n",
    "plt.annotate(line_eq,(53,43), color='red', fontsize=12)\n",
    "\n",
    "plt.show()\n",
    "print(f' rsquared = {round(rvalue * rvalue,2)}')"
   ]
  },
  {
   "cell_type": "markdown",
   "id": "c0c4689d",
   "metadata": {},
   "source": [
    "####  Southern Hemisphere - Cloudiness (%) vs. Latitude Linear Regression"
   ]
  },
  {
   "cell_type": "code",
   "execution_count": 132,
   "id": "d555b5cc",
   "metadata": {},
   "outputs": [
    {
     "data": {
      "image/png": "[encoded data removed]",
      "text/plain": [
       "<Figure size 432x288 with 1 Axes>"
      ]
     },
     "metadata": {
      "needs_background": "light"
     },
     "output_type": "display_data"
    },
    {
     "name": "stdout",
     "output_type": "stream",
     "text": [
      " rsquared = 0.03\n"
     ]
    }
   ],
   "source": [
    "plt.scatter(south_data['Latitude'], south_data['Cloudiness'])\n",
    "plt.xlabel('Latitude')\n",
    "plt.ylabel('Cloudiness (%)')\n",
    "plt.title(f'Southern Hemisphere City Cloudiness vs Latitude ({chart_date})')\n",
    "\n",
    "\n",
    "(slope, intercept, rvalue, pvalue, stderr) = linregress(south_data['Latitude'], south_data['Cloudiness'])\n",
    "regress_values = south_data['Latitude'] * slope + intercept\n",
    "line_eq = f'y = {round(slope,2)}x + {round(intercept, 2)}'\n",
    "\n",
    "plt.plot(south_data['Latitude'], regress_values, color='red')\n",
    "plt.annotate(line_eq,(-45,25\n",
    "                     ), color='red', fontsize=10)\n",
    "\n",
    "plt.show()\n",
    "print(f' rsquared = {round(rvalue * rvalue,2)}')"
   ]
  },
  {
   "cell_type": "markdown",
   "id": "b80195f5",
   "metadata": {},
   "source": [
    "The linear regressions are modeling the dependence of cloudiness on latitude for both the Northern and Southern Hemispheres. The low r squared values provide evidence supporting the claim that cloudiness is not dependent on latitude for either hemisphere."
   ]
  },
  {
   "cell_type": "markdown",
   "id": "4291fad4",
   "metadata": {},
   "source": [
    "####  Northern Hemisphere - Wind Speed (mph) vs. Latitude Linear Regression"
   ]
  },
  {
   "cell_type": "code",
   "execution_count": 134,
   "id": "1ed4afe4",
   "metadata": {},
   "outputs": [
    {
     "data": {
      "image/png": "[encoded data removed]",
      "text/plain": [
       "<Figure size 432x288 with 1 Axes>"
      ]
     },
     "metadata": {
      "needs_background": "light"
     },
     "output_type": "display_data"
    },
    {
     "name": "stdout",
     "output_type": "stream",
     "text": [
      " rsquared = 0.01\n"
     ]
    }
   ],
   "source": [
    "plt.scatter(north_data['Latitude'], north_data['Wind Speed'])\n",
    "plt.xlabel('Latitude')\n",
    "plt.ylabel('Wind Speed (mph)')\n",
    "plt.title(f'Northern Hemisphere City Wind Speed vs Latitude ({chart_date})')\n",
    "\n",
    "\n",
    "(slope, intercept, rvalue, pvalue, stderr) = linregress(north_data['Latitude'], north_data['Wind Speed'])\n",
    "regress_values = north_data['Latitude'] * slope + intercept\n",
    "line_eq = f'y = {round(slope,2)}x + {round(intercept, 2)}'\n",
    "\n",
    "plt.plot(north_data['Latitude'], regress_values, color='red')\n",
    "plt.annotate(line_eq,(55,11), color='red', fontsize=10)\n",
    "\n",
    "plt.show()\n",
    "print(f' rsquared = {round(rvalue * rvalue,2)}')"
   ]
  },
  {
   "cell_type": "markdown",
   "id": "c60ac2f4",
   "metadata": {},
   "source": [
    "####  Southern Hemisphere - Wind Speed (mph) vs. Latitude Linear Regression"
   ]
  },
  {
   "cell_type": "code",
   "execution_count": 137,
   "id": "fb9b9a39",
   "metadata": {},
   "outputs": [
    {
     "data": {
      "image/png": "[encoded data removed]",
      "text/plain": [
       "<Figure size 432x288 with 1 Axes>"
      ]
     },
     "metadata": {
      "needs_background": "light"
     },
     "output_type": "display_data"
    },
    {
     "name": "stdout",
     "output_type": "stream",
     "text": [
      " rsquared = 0.01\n"
     ]
    }
   ],
   "source": [
    "plt.scatter(south_data['Latitude'], south_data['Wind Speed'])\n",
    "plt.xlabel('Latitude')\n",
    "plt.ylabel('Wind Speed (mph)')\n",
    "plt.title(f'Southern Hemisphere City Wind Speed vs Latitude ({chart_date})')\n",
    "\n",
    "\n",
    "(slope, intercept, rvalue, pvalue, stderr) = linregress(south_data['Latitude'], south_data['Wind Speed'])\n",
    "regress_values = south_data['Latitude'] * slope + intercept\n",
    "line_eq = f'y = {round(slope,2)}x + {round(intercept, 2)}'\n",
    "\n",
    "plt.plot(south_data['Latitude'], regress_values, color='red')\n",
    "plt.annotate(line_eq,(-50,11), color='red', fontsize=15)\n",
    "\n",
    "plt.show()\n",
    "print(f' rsquared = {round(rvalue * rvalue,2)}')"
   ]
  },
  {
   "cell_type": "markdown",
   "id": "9e2845af",
   "metadata": {},
   "source": [
    "The linear regressions are modeling the dependence of wind speed on latitude for both the Northern and Southern Hemispheres. The low r squared values provide evidence supporting the claim that wind speed is not dependent on latitude for either hemisphere."
   ]
  },
  {
   "cell_type": "code",
   "execution_count": null,
   "id": "c555e29f",
   "metadata": {},
   "outputs": [],
   "source": []
  }
 ],
 "metadata": {
  "kernelspec": {
   "display_name": "Python 3 (ipykernel)",
   "language": "python",
   "name": "python3"
  },
  "language_info": {
   "codemirror_mode": {
    "name": "ipython",
    "version": 3
   },
   "file_extension": ".py",
   "mimetype": "text/x-python",
   "name": "python",
   "nbconvert_exporter": "python",
   "pygments_lexer": "ipython3",
   "version": "3.8.13"
  }
 },
 "nbformat": 4,
 "nbformat_minor": 5
}
