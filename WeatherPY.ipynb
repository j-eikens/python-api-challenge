{
 "cells": [
  {
   "cell_type": "markdown",
   "id": "a54aed1a",
   "metadata": {},
   "source": [
    "# WeatherPy\n",
    "----\n",
    "\n",
    "#### Note\n",
    "* Instructions have been included for each segment. You do not have to follow them exactly, but they are included to help you think through the steps."
   ]
  },
  {
   "cell_type": "code",
   "execution_count": 1,
   "id": "6c1becb2",
   "metadata": {
    "scrolled": true
   },
   "outputs": [],
   "source": [
    "# Dependencies and Setup\n",
    "import matplotlib.pyplot as plt\n",
    "import pandas as pd\n",
    "import numpy as np\n",
    "import requests\n",
    "import time\n",
    "from scipy.stats import linregress\n",
    "import time\n",
    "\n",
    "# Import API key\n",
    "from api_keys import api_key\n",
    "\n",
    "# Incorporated citipy to determine city based on latitude and longitude\n",
    "from citipy import citipy\n",
    "\n",
    "# Output File (CSV)\n",
    "output_data_file = \"output_data/cities.csv\"\n",
    "\n",
    "# Range of latitudes and longitudes\n",
    "lat_range = (-90, 90)\n",
    "lng_range = (-180, 180)"
   ]
  },
  {
   "cell_type": "markdown",
   "id": "7f0100ac",
   "metadata": {},
   "source": [
    "## Generate Cities List"
   ]
  },
  {
   "cell_type": "code",
   "execution_count": 2,
   "id": "60572b1b",
   "metadata": {},
   "outputs": [
    {
     "data": {
      "text/plain": [
       "624"
      ]
     },
     "execution_count": 2,
     "metadata": {},
     "output_type": "execute_result"
    }
   ],
   "source": [
    "# List for holding lat_lngs and cities\n",
    "lat_lngs = []\n",
    "cities = []\n",
    "\n",
    "# Create a set of random lat and lng combinations\n",
    "lats = np.random.uniform(lat_range[0], lat_range[1], size=1500)\n",
    "lngs = np.random.uniform(lng_range[0], lng_range[1], size=1500)\n",
    "lat_lngs = zip(lats, lngs)\n",
    "\n",
    "# Identify nearest city for each lat, lng combination\n",
    "for lat_lng in lat_lngs:\n",
    "    city = citipy.nearest_city(lat_lng[0], lat_lng[1]).city_name\n",
    "    \n",
    "    # If the city is unique, then add it to a our cities list\n",
    "    if city not in cities:\n",
    "        cities.append(city)\n",
    "        \n",
    "    # Print the city count to confirm sufficient count\n",
    "len(cities)"
   ]
  },
  {
   "cell_type": "markdown",
   "id": "91cae116",
   "metadata": {},
   "source": [
    "### Perform API Calls\n",
    "* Perform a weather check on each city using a series of successive API calls.\n",
    "* Include a print log of each city as it'sbeing processed (with the city number and city name).\n"
   ]
  },
  {
   "cell_type": "code",
   "execution_count": 3,
   "id": "365bc49e",
   "metadata": {},
   "outputs": [],
   "source": [
    "#building query url\n",
    "url = \"http://api.openweathermap.org/data/2.5/weather?\"\n",
    "units = \"metric\"\n",
    "query_url = f'{url}&appid={api_key}&units={units}&q='"
   ]
  },
  {
   "cell_type": "code",
   "execution_count": 7,
   "id": "f1de8958",
   "metadata": {
    "scrolled": true
   },
   "outputs": [
    {
     "name": "stdout",
     "output_type": "stream",
     "text": [
      "City number: 1. City name: cape town\n"
     ]
    }
   ],
   "source": [
    "#creating lists with city weather data\n",
    "temperature = []\n",
    "humidity = []\n",
    "cloudiness = []\n",
    "wind_speed = []\n",
    "city_list = []\n",
    "lat_list = []\n",
    "lng_list = []\n",
    "country_list = []\n",
    "date_time_list = []\n",
    "count = 0\n",
    "\n",
    "for city in cities:\n",
    "    \n",
    "    count += 1\n",
    "    print(f'City number: {count}. City name: {city}')\n",
    "    \n",
    "    try:\n",
    "        response = requests.get(query_url + city).json()\n",
    "        temperature.append((response['main']['temp']))\n",
    "        humidity.append((response['main']['humidity']))\n",
    "        cloudiness.append((response['clouds']['all']))\n",
    "        wind_speed.append((response['wind']['speed']))\n",
    "        lat_list.append((response['coord']['lat']))\n",
    "        lng_list.append((response['coord']['lon']))\n",
    "        city_list.append(city)\n",
    "        country_list.append(response['sys']['country'])\n",
    "        date_time_list.append(response['dt'])\n",
    "        \n",
    "    except:\n",
    "        print('City not found.')\n",
    "        \n",
    "    time.sleep(1)"
   ]
  },
  {
   "cell_type": "markdown",
   "id": "bdf508a5",
   "metadata": {},
   "source": [
    "### Convert Raw Data to DataFrame\n",
    "* Export the city data into a .csv.\n",
    "* Display the DataFrame"
   ]
  },
  {
   "cell_type": "code",
   "execution_count": 9,
   "id": "355e1e15",
   "metadata": {},
   "outputs": [
    {
     "data": {
      "text/html": [
       "<div>\n",
       "<style scoped>\n",
       "    .dataframe tbody tr th:only-of-type {\n",
       "        vertical-align: middle;\n",
       "    }\n",
       "\n",
       "    .dataframe tbody tr th {\n",
       "        vertical-align: top;\n",
       "    }\n",
       "\n",
       "    .dataframe thead th {\n",
       "        text-align: right;\n",
       "    }\n",
       "</style>\n",
       "<table border=\"1\" class=\"dataframe\">\n",
       "  <thead>\n",
       "    <tr style=\"text-align: right;\">\n",
       "      <th></th>\n",
       "      <th>City</th>\n",
       "      <th>Temperature</th>\n",
       "      <th>%Humidity</th>\n",
       "      <th>Cloudiness</th>\n",
       "      <th>Wind Speed</th>\n",
       "      <th>Latitude</th>\n",
       "      <th>Longitude</th>\n",
       "      <th>Country</th>\n",
       "      <th>Date Time UTC</th>\n",
       "    </tr>\n",
       "  </thead>\n",
       "  <tbody>\n",
       "    <tr>\n",
       "      <th>0</th>\n",
       "      <td>cape town</td>\n",
       "      <td>13.79</td>\n",
       "      <td>82</td>\n",
       "      <td>75</td>\n",
       "      <td>7.72</td>\n",
       "      <td>-33.9258</td>\n",
       "      <td>18.4232</td>\n",
       "      <td>ZA</td>\n",
       "      <td>1659050360</td>\n",
       "    </tr>\n",
       "  </tbody>\n",
       "</table>\n",
       "</div>"
      ],
      "text/plain": [
       "        City  Temperature  %Humidity  Cloudiness  Wind Speed  Latitude  \\\n",
       "0  cape town        13.79         82          75        7.72  -33.9258   \n",
       "\n",
       "   Longitude Country  Date Time UTC  \n",
       "0    18.4232      ZA     1659050360  "
      ]
     },
     "execution_count": 9,
     "metadata": {},
     "output_type": "execute_result"
    }
   ],
   "source": [
    "#create df from city weather query results\n",
    "weather_dict = {\"City\": city_list,\n",
    "               \"Temperature\": temperature,\n",
    "               \"%Humidity\": humidity,\n",
    "               \"Cloudiness\":cloudiness,\n",
    "               \"Wind Speed\": wind_speed,\n",
    "               \"Latitude\": lat_list,\n",
    "               \"Longitude\": lng_list,\n",
    "               \"Country\": country_list,\n",
    "               \"Date Time UTC\": date_time_list}\n",
    "\n",
    "weather_data = pd.DataFrame(weather_dict)\n",
    "weather_data"
   ]
  },
  {
   "cell_type": "code",
   "execution_count": null,
   "id": "83f8e171",
   "metadata": {},
   "outputs": [],
   "source": [
    "#export city data to csv\n",
    "weather_data.to_csv('weather_data.csv')"
   ]
  },
  {
   "cell_type": "markdown",
   "id": "39cff247",
   "metadata": {},
   "source": [
    "## Inspect the data and remove the cities where the humidity > 100%.\n",
    "----\n",
    "Skip this step if there are no cities that have humidity > 100%. "
   ]
  },
  {
   "cell_type": "code",
   "execution_count": null,
   "id": "27bb9a9e",
   "metadata": {},
   "outputs": [],
   "source": [
    "#there are no cities in this df with humidity > 100%\n",
    "weather_data.loc[weather_data['%Humidity'] > 100]"
   ]
  },
  {
   "cell_type": "markdown",
   "id": "5bab994d",
   "metadata": {},
   "source": [
    "## Plotting the Data\n",
    "* Use proper labeling of the plots using plot titles (including date of analysis) and axes labels.\n",
    "* Save the plotted figures as .pngs."
   ]
  },
  {
   "cell_type": "markdown",
   "id": "3f4737ad",
   "metadata": {},
   "source": [
    "## Latitude vs. Temperature Plot"
   ]
  },
  {
   "cell_type": "code",
   "execution_count": null,
   "id": "90da83c0",
   "metadata": {},
   "outputs": [],
   "source": [
    "weather_data.head()"
   ]
  },
  {
   "cell_type": "code",
   "execution_count": null,
   "id": "19d790e4",
   "metadata": {
    "scrolled": true
   },
   "outputs": [],
   "source": [
    "plt.scatter(weather_data['Latitude'], weather_data['Temperature'])\n",
    "plt.xlabel('Latitude')\n",
    "plt.ylabel('Temperature (C)')\n",
    "plt.title('City Temperature vs Latitude')\n",
    "\n",
    "plt.show()"
   ]
  },
  {
   "cell_type": "markdown",
   "id": "2bb3a8e9",
   "metadata": {},
   "source": [
    "Explanation: This code is analyzing the relationship between temperature and latitude for the queried cities."
   ]
  },
  {
   "cell_type": "markdown",
   "id": "d4c92852",
   "metadata": {},
   "source": [
    "## Latitude vs. Humidity Plot"
   ]
  },
  {
   "cell_type": "code",
   "execution_count": null,
   "id": "eed966f9",
   "metadata": {},
   "outputs": [],
   "source": [
    "plt.scatter(weather_data['Latitude'], weather_data['%Humidity'])\n",
    "plt.xlabel('Latitude')\n",
    "plt.ylabel('Humidity (%)')\n",
    "plt.title('City Humidity vs Latitude')\n",
    "\n",
    "plt.show()"
   ]
  },
  {
   "cell_type": "markdown",
   "id": "7ac54486",
   "metadata": {},
   "source": [
    "Explanation: This code is analyzing the relationship between humidity and latitude for the queried cities."
   ]
  },
  {
   "cell_type": "markdown",
   "id": "407d1605",
   "metadata": {},
   "source": [
    "## Latitude vs. Cloudiness Plot"
   ]
  },
  {
   "cell_type": "code",
   "execution_count": null,
   "id": "b6f64b85",
   "metadata": {},
   "outputs": [],
   "source": [
    "plt.scatter(weather_data['Latitude'], weather_data['Cloudiness'])\n",
    "plt.xlabel('Latitude')\n",
    "plt.ylabel('Cloudiness (%)')\n",
    "plt.title('City Cloudiness vs Latitude')\n",
    "\n",
    "plt.show()"
   ]
  },
  {
   "cell_type": "markdown",
   "id": "8cc51063",
   "metadata": {},
   "source": [
    "Explanation: This code is analyzing the relationship between cloudiness and latitude for the queried cities."
   ]
  },
  {
   "cell_type": "markdown",
   "id": "4aefe6a2",
   "metadata": {},
   "source": [
    "## Latitude vs. Wind Speed Plot"
   ]
  },
  {
   "cell_type": "code",
   "execution_count": null,
   "id": "8c9f7254",
   "metadata": {},
   "outputs": [],
   "source": [
    "plt.scatter(weather_data['Latitude'], weather_data['Wind Speed'])\n",
    "plt.xlabel('Latitude')\n",
    "plt.ylabel('Wind Speed (mph)')\n",
    "plt.title('City Wind Speed vs Latitude')\n",
    "\n",
    "plt.show()"
   ]
  },
  {
   "cell_type": "markdown",
   "id": "c8445429",
   "metadata": {},
   "source": [
    "Explanation: This code is analyzing the relationship between wind speed and latitude for the queried cities."
   ]
  },
  {
   "cell_type": "markdown",
   "id": "0f95215d",
   "metadata": {},
   "source": [
    "## Linear Regression"
   ]
  },
  {
   "cell_type": "code",
   "execution_count": null,
   "id": "e8704024",
   "metadata": {},
   "outputs": [],
   "source": [
    "#Creating dataframes for each hemisphere\n",
    "north_data = weather_data.loc[weather_data['Latitude'] > 0]\n",
    "south_data = weather_data.loc[weather_data['Latitude'] < 0]"
   ]
  },
  {
   "cell_type": "markdown",
   "id": "1a2e75fc",
   "metadata": {},
   "source": [
    "####  Northern Hemisphere - Max Temp vs. Latitude Linear Regression"
   ]
  },
  {
   "cell_type": "code",
   "execution_count": null,
   "id": "e5e46e7d",
   "metadata": {},
   "outputs": [],
   "source": [
    "plt.scatter(north_data['Latitude'], north_data['Temperature'])\n",
    "plt.xlabel('Latitude')\n",
    "plt.ylabel('Temperature (C)')\n",
    "plt.title('Northern Hemisphere City Temperature vs Latitude')\n",
    "\n",
    "\n",
    "(slope, intercept, rvalue, pvalue, stderr) = linregress(north_data['Latitude'], north_data['Temperature'])\n",
    "regress_values = north_data['Latitude'] * slope + intercept\n",
    "line_eq = f'y = {round(slope,2)}x + {round(intercept, 2)}'\n",
    "\n",
    "plt.plot(north_data['Latitude'], regress_values, color='red')\n",
    "plt.annotate(line_eq,(1,5), color='red', fontsize=10)\n",
    "\n",
    "plt.xlim(0, 80)\n",
    "plt.ylim(0, 50)\n",
    "\n",
    "plt.show()\n",
    "print(f' rsquared = {round(rvalue * rvalue,2)}')"
   ]
  },
  {
   "cell_type": "markdown",
   "id": "2906c677",
   "metadata": {},
   "source": [
    "####  Southern Hemisphere - Max Temp vs. Latitude Linear Regression"
   ]
  },
  {
   "cell_type": "code",
   "execution_count": null,
   "id": "73c3b80a",
   "metadata": {},
   "outputs": [],
   "source": [
    "plt.scatter(south_data['Latitude'], south_data['Temperature'])\n",
    "plt.xlabel('Latitude')\n",
    "plt.ylabel('Temperature (C)')\n",
    "plt.title('Southern Hemisphere City Temperature vs Latitude')\n",
    "\n",
    "\n",
    "(slope, intercept, rvalue, pvalue, stderr) = linregress(south_data['Latitude'], south_data['Temperature'])\n",
    "regress_values = south_data['Latitude'] * slope + intercept\n",
    "line_eq = f'y = {round(slope,2)}x + {round(intercept, 2)}'\n",
    "\n",
    "plt.plot(south_data['Latitude'], regress_values, color='red')\n",
    "plt.annotate(line_eq,(-45,35), color='red', fontsize=10)\n",
    "\n",
    "plt.xlim(-50, 0)\n",
    "plt.ylim(0, 40)\n",
    "\n",
    "plt.show()\n",
    "print(f' rsquared = {round(rvalue * rvalue,2)}')"
   ]
  },
  {
   "cell_type": "markdown",
   "id": "d4ec7387",
   "metadata": {},
   "source": [
    "The linear regressions are modeling the dependence of temperature on latitude for both the Northern and Southern Hemisphere. The plots show that in the North Hemisphere, temperature decreases as latitude increases. In the Southern Hemisphere, temperature increases as latitude increases."
   ]
  },
  {
   "cell_type": "markdown",
   "id": "3f5dd638",
   "metadata": {},
   "source": [
    "####  Northern Hemisphere - Humidity (%) vs. Latitude Linear Regression"
   ]
  },
  {
   "cell_type": "code",
   "execution_count": null,
   "id": "3c95a3cc",
   "metadata": {},
   "outputs": [],
   "source": [
    "plt.scatter(north_data['Latitude'], north_data['%Humidity'])\n",
    "plt.xlabel('Latitude')\n",
    "plt.ylabel('Humidity (%)')\n",
    "plt.title('Northern Hemisphere City Humidity vs Latitude')\n",
    "\n",
    "\n",
    "(slope, intercept, rvalue, pvalue, stderr) = linregress(north_data['Latitude'], north_data['%Humidity'])\n",
    "regress_values = north_data['Latitude'] * slope + intercept\n",
    "line_eq = f'y = {round(slope,2)}x + {round(intercept, 2)}'\n",
    "\n",
    "plt.plot(north_data['Latitude'], regress_values, color='red')\n",
    "plt.annotate(line_eq,(55,5), color='red', fontsize=10)\n",
    "\n",
    "plt.show()\n",
    "print(f' rsquared = {round(rvalue * rvalue,2)}')"
   ]
  },
  {
   "cell_type": "markdown",
   "id": "15ea28a7",
   "metadata": {},
   "source": [
    "####  Southern Hemisphere - Humidity (%) vs. Latitude Linear Regression"
   ]
  },
  {
   "cell_type": "code",
   "execution_count": null,
   "id": "256636cd",
   "metadata": {},
   "outputs": [],
   "source": [
    "plt.scatter(south_data['Latitude'], south_data['%Humidity'])\n",
    "plt.xlabel('Latitude')\n",
    "plt.ylabel('Humidity (%)')\n",
    "plt.title('Southern Hemisphere City Humidity vs Latitude')\n",
    "\n",
    "\n",
    "(slope, intercept, rvalue, pvalue, stderr) = linregress(south_data['Latitude'], south_data['%Humidity'])\n",
    "regress_values = south_data['Latitude'] * slope + intercept\n",
    "line_eq = f'y = {round(slope,2)}x + {round(intercept, 2)}'\n",
    "\n",
    "plt.plot(south_data['Latitude'], regress_values, color='red')\n",
    "plt.annotate(line_eq,(-45,35), color='red', fontsize=10)\n",
    "\n",
    "plt.show()\n",
    "print(f' rsquared = {round(rvalue * rvalue,2)}')"
   ]
  },
  {
   "cell_type": "markdown",
   "id": "9b51a0e7",
   "metadata": {},
   "source": [
    "The linear regressions are modeling the dependence of humidity on latitude for both the Northern and Southern Hemispheres. The low r squared values provide evidence supporting the claim that humidity is not dependent on latitude for either hemisphere."
   ]
  },
  {
   "cell_type": "markdown",
   "id": "3310d155",
   "metadata": {},
   "source": [
    "####  Northern Hemisphere - Cloudiness (%) vs. Latitude Linear Regression"
   ]
  },
  {
   "cell_type": "code",
   "execution_count": null,
   "id": "7bdb0c87",
   "metadata": {},
   "outputs": [],
   "source": [
    "plt.scatter(north_data['Latitude'], north_data['Cloudiness'])\n",
    "plt.xlabel('Latitude')\n",
    "plt.ylabel('Cloudiness (%)')\n",
    "plt.title('Northern Hemisphere City Cloudiness vs Latitude')\n",
    "\n",
    "\n",
    "(slope, intercept, rvalue, pvalue, stderr) = linregress(north_data['Latitude'], north_data['Cloudiness'])\n",
    "regress_values = north_data['Latitude'] * slope + intercept\n",
    "line_eq = f'y = {round(slope,2)}x + {round(intercept, 2)}'\n",
    "\n",
    "plt.plot(north_data['Latitude'], regress_values, color='red')\n",
    "plt.annotate(line_eq,(55,41), color='red', fontsize=12)\n",
    "\n",
    "plt.show()\n",
    "print(f' rsquared = {round(rvalue * rvalue,2)}')"
   ]
  },
  {
   "cell_type": "markdown",
   "id": "c0c4689d",
   "metadata": {},
   "source": [
    "####  Southern Hemisphere - Cloudiness (%) vs. Latitude Linear Regression"
   ]
  },
  {
   "cell_type": "code",
   "execution_count": null,
   "id": "d555b5cc",
   "metadata": {},
   "outputs": [],
   "source": [
    "plt.scatter(south_data['Latitude'], south_data['Cloudiness'])\n",
    "plt.xlabel('Latitude')\n",
    "plt.ylabel('Cloudiness (%)')\n",
    "plt.title('Southern Hemisphere City Cloudiness vs Latitude')\n",
    "\n",
    "\n",
    "(slope, intercept, rvalue, pvalue, stderr) = linregress(south_data['Latitude'], south_data['Cloudiness'])\n",
    "regress_values = south_data['Latitude'] * slope + intercept\n",
    "line_eq = f'y = {round(slope,2)}x + {round(intercept, 2)}'\n",
    "\n",
    "plt.plot(south_data['Latitude'], regress_values, color='red')\n",
    "plt.annotate(line_eq,(-45,25\n",
    "                     ), color='red', fontsize=10)\n",
    "\n",
    "plt.show()\n",
    "print(f' rsquared = {round(rvalue * rvalue,2)}')"
   ]
  },
  {
   "cell_type": "markdown",
   "id": "b80195f5",
   "metadata": {},
   "source": [
    "The linear regressions are modeling the dependence of cloudiness on latitude for both the Northern and Southern Hemispheres. The low r squared values provide evidence supporting the claim that cloudiness is not dependent on latitude for either hemisphere."
   ]
  },
  {
   "cell_type": "markdown",
   "id": "4291fad4",
   "metadata": {},
   "source": [
    "####  Northern Hemisphere - Wind Speed (mph) vs. Latitude Linear Regression"
   ]
  },
  {
   "cell_type": "code",
   "execution_count": null,
   "id": "1ed4afe4",
   "metadata": {},
   "outputs": [],
   "source": [
    "plt.scatter(north_data['Latitude'], north_data['Wind Speed'])\n",
    "plt.xlabel('Latitude')\n",
    "plt.ylabel('Wind Speed (mph)')\n",
    "plt.title('Northern Hemisphere City Wind Speed vs Latitude')\n",
    "\n",
    "\n",
    "(slope, intercept, rvalue, pvalue, stderr) = linregress(north_data['Latitude'], north_data['Wind Speed'])\n",
    "regress_values = north_data['Latitude'] * slope + intercept\n",
    "line_eq = f'y = {round(slope,2)}x + {round(intercept, 2)}'\n",
    "\n",
    "plt.plot(north_data['Latitude'], regress_values, color='red')\n",
    "plt.annotate(line_eq,(55,12), color='red', fontsize=10)\n",
    "\n",
    "plt.show()\n",
    "print(f' rsquared = {round(rvalue * rvalue,2)}')"
   ]
  },
  {
   "cell_type": "markdown",
   "id": "c60ac2f4",
   "metadata": {},
   "source": [
    "####  Southern Hemisphere - Wind Speed (mph) vs. Latitude Linear Regression"
   ]
  },
  {
   "cell_type": "code",
   "execution_count": null,
   "id": "fb9b9a39",
   "metadata": {},
   "outputs": [],
   "source": [
    "plt.scatter(south_data['Latitude'], south_data['Wind Speed'])\n",
    "plt.xlabel('Latitude')\n",
    "plt.ylabel('Wind Speed (mph)')\n",
    "plt.title('Southern Hemisphere City Wind Speed vs Latitude')\n",
    "\n",
    "\n",
    "(slope, intercept, rvalue, pvalue, stderr) = linregress(south_data['Latitude'], south_data['Wind Speed'])\n",
    "regress_values = south_data['Latitude'] * slope + intercept\n",
    "line_eq = f'y = {round(slope,2)}x + {round(intercept, 2)}'\n",
    "\n",
    "plt.plot(south_data['Latitude'], regress_values, color='red')\n",
    "plt.annotate(line_eq,(-50,8), color='red', fontsize=15)\n",
    "\n",
    "plt.show()\n",
    "print(f' rsquared = {round(rvalue * rvalue,2)}')"
   ]
  },
  {
   "cell_type": "markdown",
   "id": "9e2845af",
   "metadata": {},
   "source": [
    "The linear regressions are modeling the dependence of wind speed on latitude for both the Northern and Southern Hemispheres. The low r squared values provide evidence supporting the claim that wind speed is not dependent on latitude for either hemisphere."
   ]
  },
  {
   "cell_type": "code",
   "execution_count": null,
   "id": "c555e29f",
   "metadata": {},
   "outputs": [],
   "source": []
  }
 ],
 "metadata": {
  "kernelspec": {
   "display_name": "Python 3 (ipykernel)",
   "language": "python",
   "name": "python3"
  },
  "language_info": {
   "codemirror_mode": {
    "name": "ipython",
    "version": 3
   },
   "file_extension": ".py",
   "mimetype": "text/x-python",
   "name": "python",
   "nbconvert_exporter": "python",
   "pygments_lexer": "ipython3",
   "version": "3.8.13"
  }
 },
 "nbformat": 4,
 "nbformat_minor": 5
}
