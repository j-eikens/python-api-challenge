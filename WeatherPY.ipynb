{
 "cells": [
  {
   "cell_type": "markdown",
   "id": "a54aed1a",
   "metadata": {},
   "source": [
    "# WeatherPy\n",
    "----\n",
    "\n",
    "#### Note\n",
    "* Instructions have been included for each segment. You do not have to follow them exactly, but they are included to help you think through the steps."
   ]
  },
  {
   "cell_type": "code",
   "execution_count": 1,
   "id": "6c1becb2",
   "metadata": {
    "scrolled": true
   },
   "outputs": [],
   "source": [
    "# Dependencies and Setup\n",
    "import matplotlib.pyplot as plt\n",
    "import pandas as pd\n",
    "import numpy as np\n",
    "import requests\n",
    "import time\n",
    "from scipy.stats import linregress\n",
    "\n",
    "# Import API key\n",
    "from api_keys import api_key\n",
    "\n",
    "# Incorporated citipy to determine city based on latitude and longitude\n",
    "from citipy import citipy\n",
    "\n",
    "# Output File (CSV)\n",
    "output_data_file = \"output_data/cities.csv\"\n",
    "\n",
    "# Range of latitudes and longitudes\n",
    "lat_range = (-90, 90)\n",
    "lng_range = (-180, 180)"
   ]
  },
  {
   "cell_type": "markdown",
   "id": "7f0100ac",
   "metadata": {},
   "source": [
    "## Generate Cities List"
   ]
  },
  {
   "cell_type": "code",
   "execution_count": 2,
   "id": "60572b1b",
   "metadata": {},
   "outputs": [
    {
     "data": {
      "text/plain": [
       "623"
      ]
     },
     "execution_count": 2,
     "metadata": {},
     "output_type": "execute_result"
    }
   ],
   "source": [
    "# List for holding lat_lngs and cities\n",
    "lat_lngs = []\n",
    "cities = []\n",
    "\n",
    "# Create a set of random lat and lng combinations\n",
    "lats = np.random.uniform(lat_range[0], lat_range[1], size=1500)\n",
    "lngs = np.random.uniform(lng_range[0], lng_range[1], size=1500)\n",
    "lat_lngs = zip(lats, lngs)\n",
    "\n",
    "# Identify nearest city for each lat, lng combination\n",
    "for lat_lng in lat_lngs:\n",
    "    city = citipy.nearest_city(lat_lng[0], lat_lng[1]).city_name\n",
    "    \n",
    "    # If the city is unique, then add it to a our cities list\n",
    "    if city not in cities:\n",
    "        cities.append(city)\n",
    "\n",
    "# Print the city count to confirm sufficient count\n",
    "len(cities)"
   ]
  },
  {
   "cell_type": "markdown",
   "id": "91cae116",
   "metadata": {},
   "source": [
    "### Perform API Calls\n",
    "* Perform a weather check on each city using a series of successive API calls.\n",
    "* Include a print log of each city as it'sbeing processed (with the city number and city name).\n"
   ]
  },
  {
   "cell_type": "code",
   "execution_count": 3,
   "id": "c4f38b81",
   "metadata": {},
   "outputs": [],
   "source": [
    "#building query url\n",
    "url = \"http://api.openweathermap.org/data/2.5/weather?\"\n",
    "units = \"metric\"\n",
    "query_url = f'{url}&appid={api_key}&units={units}&q='"
   ]
  },
  {
   "cell_type": "code",
   "execution_count": 4,
   "id": "f1de8958",
   "metadata": {
    "scrolled": true
   },
   "outputs": [
    {
     "name": "stdout",
     "output_type": "stream",
     "text": [
      "City number: 1. City name: mar del plata\n",
      "City number: 2. City name: bluff\n",
      "City number: 3. City name: albany\n",
      "City number: 4. City name: provideniya\n",
      "City number: 5. City name: ilhabela\n",
      "City number: 6. City name: lata\n",
      "City number: 7. City name: arraial do cabo\n",
      "City number: 8. City name: rikitea\n",
      "City number: 9. City name: taburao\n",
      "You have an error.\n",
      "City number: 10. City name: mataura\n",
      "City number: 11. City name: port alfred\n",
      "City number: 12. City name: broome\n",
      "City number: 13. City name: tarauaca\n",
      "City number: 14. City name: uray\n",
      "City number: 15. City name: rudnichnyy\n",
      "City number: 16. City name: talcahuano\n",
      "City number: 17. City name: tuktoyaktuk\n",
      "City number: 18. City name: busselton\n",
      "City number: 19. City name: normandin\n",
      "City number: 20. City name: san lorenzo\n",
      "City number: 21. City name: taolanaro\n",
      "You have an error.\n",
      "City number: 22. City name: hermanus\n",
      "City number: 23. City name: umea\n",
      "City number: 24. City name: bathsheba\n",
      "City number: 25. City name: nikolskoye\n",
      "City number: 26. City name: cayenne\n",
      "City number: 27. City name: atuona\n",
      "City number: 28. City name: ucluelet\n",
      "City number: 29. City name: punta arenas\n",
      "City number: 30. City name: gamba\n",
      "City number: 31. City name: ushuaia\n",
      "City number: 32. City name: georgetown\n",
      "City number: 33. City name: kahului\n",
      "City number: 34. City name: belushya guba\n",
      "You have an error.\n",
      "City number: 35. City name: vila do maio\n",
      "City number: 36. City name: jamestown\n",
      "City number: 37. City name: kenora\n",
      "City number: 38. City name: qaanaaq\n",
      "City number: 39. City name: ulladulla\n",
      "City number: 40. City name: coihaique\n",
      "City number: 41. City name: praya\n",
      "City number: 42. City name: linguere\n",
      "City number: 43. City name: airai\n",
      "City number: 44. City name: new norfolk\n",
      "City number: 45. City name: tasiilaq\n",
      "City number: 46. City name: szendro\n",
      "City number: 47. City name: rio gallegos\n",
      "City number: 48. City name: pecos\n",
      "City number: 49. City name: castro\n",
      "City number: 50. City name: fairbanks\n",
      "City number: 51. City name: kapaa\n",
      "City number: 52. City name: praia da vitoria\n",
      "City number: 53. City name: sanandaj\n",
      "City number: 54. City name: orihuela\n",
      "City number: 55. City name: teknaf\n",
      "City number: 56. City name: gualaceo\n",
      "City number: 57. City name: avarua\n",
      "City number: 58. City name: port elizabeth\n",
      "City number: 59. City name: saint george\n",
      "City number: 60. City name: samalaeulu\n",
      "You have an error.\n",
      "City number: 61. City name: san patricio\n",
      "City number: 62. City name: riberalta\n",
      "City number: 63. City name: palmares do sul\n",
      "City number: 64. City name: pochutla\n",
      "City number: 65. City name: mahebourg\n",
      "City number: 66. City name: onokhoy\n",
      "City number: 67. City name: bargal\n",
      "You have an error.\n",
      "City number: 68. City name: vaitupu\n",
      "You have an error.\n",
      "City number: 69. City name: khatanga\n",
      "City number: 70. City name: yima\n",
      "City number: 71. City name: marawi\n",
      "City number: 72. City name: elat\n",
      "City number: 73. City name: carnarvon\n",
      "City number: 74. City name: saryshagan\n",
      "You have an error.\n",
      "City number: 75. City name: kuching\n",
      "City number: 76. City name: cabo san lucas\n",
      "City number: 77. City name: yermakovskoye\n",
      "City number: 78. City name: escarcega\n",
      "City number: 79. City name: chuy\n",
      "City number: 80. City name: arman\n",
      "City number: 81. City name: tromso\n",
      "City number: 82. City name: bredasdorp\n",
      "City number: 83. City name: ponta do sol\n",
      "City number: 84. City name: coquimbo\n",
      "City number: 85. City name: puerto ayora\n",
      "City number: 86. City name: kodiak\n",
      "City number: 87. City name: vaini\n",
      "City number: 88. City name: san vicente\n",
      "City number: 89. City name: victoria\n",
      "City number: 90. City name: angoche\n",
      "City number: 91. City name: upernavik\n",
      "City number: 92. City name: tabiauea\n",
      "You have an error.\n",
      "City number: 93. City name: primorsk\n",
      "City number: 94. City name: cockburn town\n",
      "City number: 95. City name: lebyazhye\n",
      "City number: 96. City name: fomboni\n",
      "City number: 97. City name: ternate\n",
      "City number: 98. City name: mayo\n",
      "City number: 99. City name: pedasi\n",
      "City number: 100. City name: tiksi\n",
      "City number: 101. City name: asosa\n",
      "City number: 102. City name: puerto colombia\n",
      "City number: 103. City name: kidal\n",
      "City number: 104. City name: pevek\n",
      "City number: 105. City name: north platte\n",
      "City number: 106. City name: kenai\n",
      "City number: 107. City name: codrington\n",
      "City number: 108. City name: gravelbourg\n",
      "City number: 109. City name: caravelas\n",
      "City number: 110. City name: butaritari\n",
      "City number: 111. City name: hobyo\n",
      "City number: 112. City name: mineros\n",
      "City number: 113. City name: tezu\n",
      "City number: 114. City name: haines junction\n",
      "City number: 115. City name: kamaishi\n",
      "City number: 116. City name: saint-philippe\n",
      "City number: 117. City name: bosaso\n",
      "City number: 118. City name: port lincoln\n",
      "City number: 119. City name: pascagoula\n",
      "City number: 120. City name: dunedin\n",
      "City number: 121. City name: satitoa\n",
      "You have an error.\n",
      "City number: 122. City name: karasjok\n",
      "City number: 123. City name: kijang\n",
      "City number: 124. City name: hilo\n",
      "City number: 125. City name: nanortalik\n",
      "City number: 126. City name: saint anthony\n",
      "City number: 127. City name: yunjinghong\n",
      "You have an error.\n",
      "City number: 128. City name: tlanisco\n",
      "You have an error.\n",
      "City number: 129. City name: babushkin\n",
      "City number: 130. City name: jiuquan\n",
      "City number: 131. City name: miles city\n",
      "City number: 132. City name: atocha\n",
      "City number: 133. City name: bonthe\n",
      "City number: 134. City name: soyo\n",
      "City number: 135. City name: songea\n",
      "City number: 136. City name: narsaq\n",
      "City number: 137. City name: poya\n",
      "City number: 138. City name: lebu\n",
      "City number: 139. City name: ilulissat\n",
      "City number: 140. City name: pacifica\n",
      "City number: 141. City name: nizhneyansk\n",
      "You have an error.\n",
      "City number: 142. City name: comodoro rivadavia\n",
      "City number: 143. City name: tidore\n",
      "You have an error.\n",
      "City number: 144. City name: faanui\n",
      "City number: 145. City name: hobart\n",
      "City number: 146. City name: kjollefjord\n",
      "City number: 147. City name: east london\n",
      "City number: 148. City name: yumen\n",
      "City number: 149. City name: waipawa\n",
      "City number: 150. City name: bud\n",
      "City number: 151. City name: flinders\n",
      "City number: 152. City name: kokorevka\n",
      "City number: 153. City name: ust-kuyga\n",
      "City number: 154. City name: puerto escondido\n",
      "City number: 155. City name: cap malheureux\n",
      "City number: 156. City name: nyimba\n",
      "City number: 157. City name: itupiranga\n",
      "City number: 158. City name: kandrian\n",
      "City number: 159. City name: barentsburg\n",
      "You have an error.\n",
      "City number: 160. City name: illoqqortoormiut\n",
      "You have an error.\n",
      "City number: 161. City name: rabaul\n",
      "City number: 162. City name: katangli\n",
      "City number: 163. City name: rangpur\n",
      "City number: 164. City name: mys shmidta\n",
      "You have an error.\n",
      "City number: 165. City name: berlevag\n",
      "City number: 166. City name: halden\n",
      "City number: 167. City name: ribeira grande\n",
      "City number: 168. City name: masuguru\n",
      "City number: 169. City name: begoro\n",
      "City number: 170. City name: bethel\n",
      "City number: 171. City name: bontang\n",
      "City number: 172. City name: dwarka\n",
      "City number: 173. City name: jabiru\n",
      "You have an error.\n",
      "City number: 174. City name: saskylakh\n",
      "City number: 175. City name: san felipe\n",
      "City number: 176. City name: axim\n",
      "City number: 177. City name: attawapiskat\n",
      "You have an error.\n",
      "City number: 178. City name: ancud\n",
      "City number: 179. City name: tilichiki\n",
      "City number: 180. City name: baykit\n",
      "City number: 181. City name: sao filipe\n",
      "City number: 182. City name: owando\n",
      "City number: 183. City name: klaksvik\n",
      "City number: 184. City name: krasnoshchekovo\n",
      "City number: 185. City name: mecca\n",
      "City number: 186. City name: grand river south east\n",
      "You have an error.\n",
      "City number: 187. City name: shimoda\n",
      "City number: 188. City name: sisophon\n",
      "City number: 189. City name: kavieng\n",
      "City number: 190. City name: cape town\n",
      "City number: 191. City name: praia\n",
      "City number: 192. City name: thompson\n",
      "City number: 193. City name: umzimvubu\n",
      "You have an error.\n",
      "City number: 194. City name: lompoc\n",
      "City number: 195. City name: maragogi\n",
      "City number: 196. City name: asfi\n",
      "City number: 197. City name: iqaluit\n",
      "City number: 198. City name: oistins\n",
      "City number: 199. City name: sulphur\n",
      "City number: 200. City name: kokopo\n",
      "City number: 201. City name: playas\n",
      "City number: 202. City name: san quintin\n",
      "City number: 203. City name: mareeba\n",
      "City number: 204. City name: setermoen\n",
      "City number: 205. City name: port macquarie\n",
      "City number: 206. City name: eresos\n",
      "City number: 207. City name: byron bay\n",
      "City number: 208. City name: sitka\n"
     ]
    },
    {
     "name": "stdout",
     "output_type": "stream",
     "text": [
      "City number: 209. City name: barrow\n",
      "City number: 210. City name: nyrob\n",
      "City number: 211. City name: sur\n",
      "City number: 212. City name: saquena\n",
      "City number: 213. City name: martil\n",
      "City number: 214. City name: namibe\n",
      "City number: 215. City name: mananjary\n",
      "City number: 216. City name: mandalgovi\n",
      "City number: 217. City name: shillong\n",
      "City number: 218. City name: longyearbyen\n",
      "City number: 219. City name: banda aceh\n",
      "City number: 220. City name: san rafael\n",
      "City number: 221. City name: karratha\n",
      "City number: 222. City name: padang\n",
      "City number: 223. City name: sebinkarahisar\n",
      "City number: 224. City name: arlit\n",
      "City number: 225. City name: lolua\n",
      "You have an error.\n",
      "City number: 226. City name: ostrovnoy\n",
      "City number: 227. City name: tarakan\n",
      "City number: 228. City name: tsihombe\n",
      "You have an error.\n",
      "City number: 229. City name: talaya\n",
      "City number: 230. City name: gayeri\n",
      "City number: 231. City name: kikwit\n",
      "City number: 232. City name: vestmanna\n",
      "City number: 233. City name: esperance\n",
      "City number: 234. City name: komsomolskiy\n",
      "City number: 235. City name: porto santo\n",
      "City number: 236. City name: gimli\n",
      "City number: 237. City name: lalomanu\n",
      "You have an error.\n",
      "City number: 238. City name: buraydah\n",
      "City number: 239. City name: mahibadhoo\n",
      "City number: 240. City name: puliyur\n",
      "City number: 241. City name: deputatskiy\n",
      "City number: 242. City name: alugan\n",
      "City number: 243. City name: alice springs\n",
      "City number: 244. City name: biltine\n",
      "City number: 245. City name: bolungarvik\n",
      "You have an error.\n",
      "City number: 246. City name: antofagasta\n",
      "City number: 247. City name: vao\n",
      "City number: 248. City name: tessalit\n",
      "City number: 249. City name: cherskiy\n",
      "City number: 250. City name: manavalakurichi\n",
      "City number: 251. City name: talnakh\n",
      "City number: 252. City name: polovinnoye\n",
      "City number: 253. City name: kyra\n",
      "City number: 254. City name: tres lagoas\n",
      "City number: 255. City name: florence\n",
      "City number: 256. City name: ambovombe\n",
      "City number: 257. City name: mme\n",
      "You have an error.\n",
      "City number: 258. City name: samarai\n",
      "City number: 259. City name: zhongshu\n",
      "City number: 260. City name: road town\n",
      "City number: 261. City name: dikson\n",
      "City number: 262. City name: hofn\n",
      "City number: 263. City name: alamosa\n",
      "City number: 264. City name: hambantota\n",
      "City number: 265. City name: pathein\n",
      "City number: 266. City name: syriam\n",
      "City number: 267. City name: husavik\n",
      "City number: 268. City name: chokurdakh\n",
      "City number: 269. City name: severo-kurilsk\n",
      "City number: 270. City name: tuatapere\n",
      "City number: 271. City name: dharchula\n",
      "City number: 272. City name: taoudenni\n",
      "City number: 273. City name: norman wells\n",
      "City number: 274. City name: sal rei\n",
      "City number: 275. City name: namatanai\n",
      "City number: 276. City name: luchegorsk\n",
      "City number: 277. City name: ilo\n",
      "City number: 278. City name: tigil\n",
      "City number: 279. City name: vestmannaeyjar\n",
      "City number: 280. City name: tumannyy\n",
      "You have an error.\n",
      "City number: 281. City name: siljan\n",
      "City number: 282. City name: rabat\n",
      "City number: 283. City name: belyy yar\n",
      "City number: 284. City name: volary\n",
      "City number: 285. City name: monte alegre\n",
      "City number: 286. City name: geraldton\n",
      "City number: 287. City name: paamiut\n",
      "City number: 288. City name: kutum\n",
      "City number: 289. City name: salalah\n",
      "City number: 290. City name: liku\n",
      "City number: 291. City name: madras\n",
      "City number: 292. City name: tecoanapa\n",
      "City number: 293. City name: karkaralinsk\n",
      "You have an error.\n",
      "City number: 294. City name: rungata\n",
      "You have an error.\n",
      "City number: 295. City name: kirakira\n",
      "City number: 296. City name: mackay\n",
      "City number: 297. City name: huarmey\n",
      "City number: 298. City name: bengkulu\n",
      "City number: 299. City name: stoyba\n",
      "You have an error.\n",
      "City number: 300. City name: kosh-agach\n",
      "City number: 301. City name: gazanjyk\n",
      "City number: 302. City name: yar-sale\n",
      "City number: 303. City name: bayanday\n",
      "City number: 304. City name: yerbogachen\n",
      "City number: 305. City name: osvaldo cruz\n",
      "City number: 306. City name: lagoa\n",
      "City number: 307. City name: kashirskoye\n",
      "City number: 308. City name: srednekolymsk\n",
      "City number: 309. City name: rafraf\n",
      "City number: 310. City name: aklavik\n",
      "City number: 311. City name: awjilah\n",
      "City number: 312. City name: cairns\n",
      "City number: 313. City name: pastavy\n",
      "City number: 314. City name: gilgit\n",
      "City number: 315. City name: kerchevskiy\n",
      "City number: 316. City name: saldanha\n",
      "City number: 317. City name: krasnoselkup\n",
      "City number: 318. City name: samusu\n",
      "You have an error.\n",
      "City number: 319. City name: amderma\n",
      "You have an error.\n",
      "City number: 320. City name: bryan\n",
      "City number: 321. City name: shaping\n",
      "City number: 322. City name: sisimiut\n",
      "City number: 323. City name: boden\n",
      "City number: 324. City name: matara\n",
      "City number: 325. City name: marion\n",
      "City number: 326. City name: bulgan\n",
      "City number: 327. City name: san juan\n",
      "City number: 328. City name: beringovskiy\n",
      "City number: 329. City name: santa rosa\n",
      "City number: 330. City name: mandurah\n",
      "City number: 331. City name: jardim\n",
      "City number: 332. City name: etropole\n",
      "City number: 333. City name: sirsa\n",
      "City number: 334. City name: dutlwe\n",
      "City number: 335. City name: weiser\n",
      "City number: 336. City name: dawson creek\n",
      "City number: 337. City name: sam roi yot\n",
      "City number: 338. City name: guerrero negro\n",
      "City number: 339. City name: monrovia\n",
      "City number: 340. City name: moyale\n",
      "City number: 341. City name: sentyabrskiy\n",
      "You have an error.\n",
      "City number: 342. City name: ergani\n",
      "City number: 343. City name: stonewall\n",
      "City number: 344. City name: okhotsk\n",
      "City number: 345. City name: eyl\n",
      "City number: 346. City name: kindu\n",
      "City number: 347. City name: rocha\n",
      "City number: 348. City name: fortuna\n",
      "City number: 349. City name: leningradskiy\n",
      "City number: 350. City name: nanakuli\n",
      "City number: 351. City name: kudahuvadhoo\n",
      "City number: 352. City name: kulhudhuffushi\n",
      "City number: 353. City name: santa ana\n",
      "City number: 354. City name: bambous virieux\n",
      "City number: 355. City name: vila franca do campo\n",
      "City number: 356. City name: olafsvik\n",
      "City number: 357. City name: le pradet\n",
      "City number: 358. City name: bandarbeyla\n",
      "City number: 359. City name: porto seguro\n",
      "City number: 360. City name: kholm\n",
      "City number: 361. City name: viking\n",
      "City number: 362. City name: san jeronimo\n",
      "City number: 363. City name: inhambane\n",
      "City number: 364. City name: buala\n",
      "City number: 365. City name: vanimo\n",
      "City number: 366. City name: auriflama\n",
      "City number: 367. City name: stutterheim\n",
      "City number: 368. City name: bobo dioulasso\n",
      "City number: 369. City name: perth\n",
      "City number: 370. City name: katsuura\n",
      "City number: 371. City name: cassilandia\n",
      "City number: 372. City name: shenjiamen\n",
      "City number: 373. City name: placerville\n",
      "City number: 374. City name: ada\n",
      "City number: 375. City name: cidreira\n",
      "City number: 376. City name: cakovec\n",
      "City number: 377. City name: sovetskiy\n",
      "City number: 378. City name: sobolevo\n",
      "City number: 379. City name: pisco\n",
      "City number: 380. City name: mountain home\n",
      "City number: 381. City name: porgera\n",
      "City number: 382. City name: mount gambier\n",
      "City number: 383. City name: dingle\n",
      "City number: 384. City name: torit\n",
      "City number: 385. City name: ulaanbaatar\n",
      "City number: 386. City name: rio grande\n",
      "City number: 387. City name: yatou\n",
      "City number: 388. City name: svetlogorsk\n",
      "City number: 389. City name: broken hill\n",
      "City number: 390. City name: bathurst\n",
      "City number: 391. City name: rafai\n",
      "City number: 392. City name: santomera\n",
      "City number: 393. City name: champerico\n",
      "City number: 394. City name: berdigestyakh\n",
      "City number: 395. City name: holme\n",
      "City number: 396. City name: noumea\n",
      "City number: 397. City name: yanaul\n",
      "City number: 398. City name: yellowknife\n",
      "City number: 399. City name: murgab\n",
      "City number: 400. City name: grindavik\n",
      "City number: 401. City name: valleyview\n",
      "City number: 402. City name: hervey bay\n",
      "City number: 403. City name: umm lajj\n",
      "City number: 404. City name: grand-santi\n",
      "City number: 405. City name: port-gentil\n",
      "City number: 406. City name: odweyne\n",
      "City number: 407. City name: valley city\n",
      "City number: 408. City name: oga\n",
      "City number: 409. City name: rundu\n",
      "City number: 410. City name: taganak\n",
      "City number: 411. City name: kavaratti\n",
      "City number: 412. City name: bilibino\n",
      "City number: 413. City name: verkhnyaya inta\n",
      "City number: 414. City name: vagur\n",
      "City number: 415. City name: nuuk\n",
      "City number: 416. City name: shcholkine\n",
      "You have an error.\n",
      "City number: 417. City name: naze\n"
     ]
    },
    {
     "name": "stdout",
     "output_type": "stream",
     "text": [
      "City number: 418. City name: mentok\n",
      "You have an error.\n",
      "City number: 419. City name: almaznyy\n",
      "City number: 420. City name: sinkat\n",
      "You have an error.\n",
      "City number: 421. City name: greymouth\n",
      "City number: 422. City name: santa cruz\n",
      "City number: 423. City name: torrington\n",
      "City number: 424. City name: inirida\n",
      "City number: 425. City name: westerland\n",
      "City number: 426. City name: marcona\n",
      "You have an error.\n",
      "City number: 427. City name: vondrozo\n",
      "City number: 428. City name: mehamn\n",
      "City number: 429. City name: chipata\n",
      "City number: 430. City name: tarnos\n",
      "City number: 431. City name: belmonte\n",
      "City number: 432. City name: pestretsy\n",
      "City number: 433. City name: shubarkuduk\n",
      "City number: 434. City name: bac lieu\n",
      "City number: 435. City name: hithadhoo\n",
      "City number: 436. City name: chunskiy\n",
      "City number: 437. City name: sechura\n",
      "City number: 438. City name: birjand\n",
      "City number: 439. City name: sumbe\n",
      "City number: 440. City name: dianopolis\n",
      "You have an error.\n",
      "City number: 441. City name: maldonado\n",
      "City number: 442. City name: nador\n",
      "City number: 443. City name: toftir\n",
      "You have an error.\n",
      "City number: 444. City name: ust-nera\n",
      "City number: 445. City name: copenhagen\n",
      "City number: 446. City name: sakakah\n",
      "City number: 447. City name: ihosy\n",
      "City number: 448. City name: misawa\n",
      "City number: 449. City name: macomer\n",
      "City number: 450. City name: muros\n",
      "City number: 451. City name: dolni bousov\n",
      "City number: 452. City name: hyeres\n",
      "City number: 453. City name: iaciara\n",
      "City number: 454. City name: scottsburgh\n",
      "You have an error.\n",
      "City number: 455. City name: tura\n",
      "City number: 456. City name: sinamar\n",
      "City number: 457. City name: yaring\n",
      "City number: 458. City name: egvekinot\n",
      "City number: 459. City name: constitucion\n",
      "City number: 460. City name: skagen\n",
      "City number: 461. City name: brewster\n",
      "City number: 462. City name: sortland\n",
      "City number: 463. City name: moville\n",
      "City number: 464. City name: harper\n",
      "City number: 465. City name: hami\n",
      "City number: 466. City name: ngukurr\n",
      "You have an error.\n",
      "City number: 467. City name: clyde river\n",
      "City number: 468. City name: laguna\n",
      "City number: 469. City name: bemidji\n",
      "City number: 470. City name: girne\n",
      "City number: 471. City name: san-pedro\n",
      "City number: 472. City name: oriximina\n",
      "City number: 473. City name: marzuq\n",
      "City number: 474. City name: portland\n",
      "City number: 475. City name: vostok\n",
      "City number: 476. City name: coos bay\n",
      "City number: 477. City name: alofi\n",
      "City number: 478. City name: college\n",
      "City number: 479. City name: santa isabel\n",
      "City number: 480. City name: balagansk\n",
      "City number: 481. City name: tawang\n",
      "City number: 482. City name: bulaevo\n",
      "City number: 483. City name: wiang sa\n",
      "City number: 484. City name: lieksa\n",
      "City number: 485. City name: winslow\n",
      "City number: 486. City name: palauig\n",
      "City number: 487. City name: bubaque\n",
      "City number: 488. City name: labuhan\n",
      "City number: 489. City name: capreol\n",
      "City number: 490. City name: asau\n",
      "City number: 491. City name: nome\n",
      "City number: 492. City name: saleaula\n",
      "You have an error.\n",
      "City number: 493. City name: smirnykh\n",
      "City number: 494. City name: abdulino\n",
      "City number: 495. City name: ruatoria\n",
      "You have an error.\n",
      "City number: 496. City name: gizo\n",
      "City number: 497. City name: synya\n",
      "City number: 498. City name: havoysund\n",
      "City number: 499. City name: zemio\n",
      "City number: 500. City name: evanston\n",
      "City number: 501. City name: chimore\n",
      "City number: 502. City name: meyungs\n",
      "You have an error.\n",
      "City number: 503. City name: veinticinco de mayo\n",
      "City number: 504. City name: diffa\n",
      "City number: 505. City name: ishigaki\n",
      "City number: 506. City name: alta floresta\n",
      "City number: 507. City name: nishihara\n",
      "City number: 508. City name: alyangula\n",
      "City number: 509. City name: halalo\n",
      "You have an error.\n",
      "City number: 510. City name: mukhen\n",
      "City number: 511. City name: cuiluan\n",
      "City number: 512. City name: neiafu\n",
      "City number: 513. City name: corning\n",
      "City number: 514. City name: quang ngai\n",
      "City number: 515. City name: mahanoro\n",
      "City number: 516. City name: saint-augustin\n",
      "City number: 517. City name: springfield\n",
      "City number: 518. City name: agadez\n",
      "City number: 519. City name: say\n",
      "City number: 520. City name: basco\n",
      "City number: 521. City name: pemberton\n",
      "City number: 522. City name: mount isa\n",
      "City number: 523. City name: botwood\n",
      "City number: 524. City name: bundaberg\n",
      "City number: 525. City name: dzhusaly\n",
      "You have an error.\n",
      "City number: 526. City name: tongzi\n",
      "City number: 527. City name: opuwo\n",
      "City number: 528. City name: senador jose porfirio\n",
      "City number: 529. City name: dubrovka\n",
      "City number: 530. City name: moscow\n",
      "City number: 531. City name: zhangye\n",
      "City number: 532. City name: davila\n",
      "City number: 533. City name: kaitangata\n",
      "City number: 534. City name: phalodi\n",
      "City number: 535. City name: xuddur\n",
      "City number: 536. City name: swanton\n",
      "City number: 537. City name: faya\n",
      "City number: 538. City name: torbay\n",
      "City number: 539. City name: victoria point\n",
      "City number: 540. City name: avera\n",
      "City number: 541. City name: raudeberg\n",
      "City number: 542. City name: bella union\n",
      "City number: 543. City name: kruisfontein\n",
      "City number: 544. City name: amalapuram\n",
      "City number: 545. City name: kurya\n",
      "City number: 546. City name: black river\n",
      "City number: 547. City name: bairiki\n",
      "City number: 548. City name: worland\n",
      "City number: 549. City name: souillac\n",
      "City number: 550. City name: shelburne\n",
      "City number: 551. City name: bindura\n",
      "City number: 552. City name: bati\n",
      "City number: 553. City name: mashhad\n",
      "City number: 554. City name: sao joao da barra\n",
      "City number: 555. City name: olga\n",
      "City number: 556. City name: port augusta\n",
      "City number: 557. City name: kokkinon\n",
      "You have an error.\n",
      "City number: 558. City name: bumba\n",
      "City number: 559. City name: ribeirao pires\n",
      "City number: 560. City name: samoded\n",
      "City number: 561. City name: luderitz\n",
      "City number: 562. City name: felidhoo\n",
      "You have an error.\n",
      "City number: 563. City name: natchez\n",
      "City number: 564. City name: balao\n",
      "City number: 565. City name: alekseyevsk\n",
      "City number: 566. City name: gibara\n",
      "City number: 567. City name: kefamenanu\n",
      "City number: 568. City name: shchuchye\n",
      "You have an error.\n",
      "City number: 569. City name: kostino\n",
      "City number: 570. City name: san cristobal\n",
      "City number: 571. City name: lakes entrance\n",
      "City number: 572. City name: malaut\n",
      "City number: 573. City name: liverpool\n",
      "City number: 574. City name: tual\n",
      "City number: 575. City name: kitimat\n",
      "City number: 576. City name: viedma\n",
      "City number: 577. City name: nicoya\n",
      "City number: 578. City name: smithers\n",
      "City number: 579. City name: charters towers\n",
      "City number: 580. City name: ostersund\n",
      "City number: 581. City name: piacabucu\n",
      "City number: 582. City name: linjiang\n",
      "City number: 583. City name: serenje\n",
      "City number: 584. City name: yaval\n",
      "City number: 585. City name: touros\n",
      "City number: 586. City name: shingu\n",
      "City number: 587. City name: raposos\n",
      "City number: 588. City name: oksfjord\n",
      "City number: 589. City name: tabuk\n",
      "City number: 590. City name: batamshinskiy\n",
      "City number: 591. City name: itarema\n",
      "City number: 592. City name: galiwinku\n",
      "You have an error.\n",
      "City number: 593. City name: siderno\n",
      "City number: 594. City name: si sa ket\n",
      "City number: 595. City name: honiara\n",
      "City number: 596. City name: mount hagen\n",
      "City number: 597. City name: te anau\n",
      "City number: 598. City name: nuevitas\n",
      "City number: 599. City name: gazli\n",
      "City number: 600. City name: florida\n",
      "City number: 601. City name: lasa\n",
      "City number: 602. City name: williston\n",
      "City number: 603. City name: labutta\n",
      "You have an error.\n",
      "City number: 604. City name: naral\n",
      "You have an error.\n",
      "City number: 605. City name: vicksburg\n",
      "City number: 606. City name: mergui\n",
      "You have an error.\n",
      "City number: 607. City name: russell\n",
      "City number: 608. City name: norsup\n",
      "City number: 609. City name: hasaki\n",
      "City number: 610. City name: redmond\n",
      "City number: 611. City name: chagda\n",
      "You have an error.\n",
      "City number: 612. City name: jalu\n",
      "City number: 613. City name: bay roberts\n",
      "City number: 614. City name: nyurba\n",
      "City number: 615. City name: ruidoso\n",
      "City number: 616. City name: launceston\n",
      "City number: 617. City name: ngunguru\n",
      "City number: 618. City name: erie\n",
      "City number: 619. City name: oxapampa\n",
      "City number: 620. City name: batagay\n",
      "City number: 621. City name: gokak\n",
      "City number: 622. City name: zastron\n",
      "City number: 623. City name: atar\n"
     ]
    }
   ],
   "source": [
    "#creating lists with city weather data\n",
    "temperature = []\n",
    "humidity = []\n",
    "cloudiness = []\n",
    "wind_speed = []\n",
    "city_list = []\n",
    "lat_list = []\n",
    "lng_list = []\n",
    "count = 0\n",
    "\n",
    "for city in cities:\n",
    "    \n",
    "    count += 1\n",
    "    print(f'City number: {count}. City name: {city}')\n",
    "    \n",
    "    try:\n",
    "        response = requests.get(query_url + city).json()\n",
    "        temperature.append((response['main']['temp']))\n",
    "        humidity.append((response['main']['humidity']))\n",
    "        cloudiness.append((response['clouds']['all']))\n",
    "        wind_speed.append((response['wind']['speed']))\n",
    "        lat_list.append((response['coord']['lat']))\n",
    "        lng_list.append((response['coord']['lon']))\n",
    "        city_list.append(city)\n",
    "        \n",
    "    except:\n",
    "        print('You have an error.')"
   ]
  },
  {
   "cell_type": "markdown",
   "id": "bdf508a5",
   "metadata": {},
   "source": [
    "### Convert Raw Data to DataFrame\n",
    "* Export the city data into a .csv.\n",
    "* Display the DataFrame"
   ]
  },
  {
   "cell_type": "code",
   "execution_count": 5,
   "id": "dafe33e6",
   "metadata": {},
   "outputs": [
    {
     "data": {
      "text/html": [
       "<div>\n",
       "<style scoped>\n",
       "    .dataframe tbody tr th:only-of-type {\n",
       "        vertical-align: middle;\n",
       "    }\n",
       "\n",
       "    .dataframe tbody tr th {\n",
       "        vertical-align: top;\n",
       "    }\n",
       "\n",
       "    .dataframe thead th {\n",
       "        text-align: right;\n",
       "    }\n",
       "</style>\n",
       "<table border=\"1\" class=\"dataframe\">\n",
       "  <thead>\n",
       "    <tr style=\"text-align: right;\">\n",
       "      <th></th>\n",
       "      <th>City</th>\n",
       "      <th>Temperature</th>\n",
       "      <th>%Humidity</th>\n",
       "      <th>Cloudiness</th>\n",
       "      <th>Wind Speed</th>\n",
       "      <th>Latitude</th>\n",
       "      <th>Longitude</th>\n",
       "    </tr>\n",
       "  </thead>\n",
       "  <tbody>\n",
       "    <tr>\n",
       "      <th>0</th>\n",
       "      <td>mar del plata</td>\n",
       "      <td>11.10</td>\n",
       "      <td>60</td>\n",
       "      <td>100</td>\n",
       "      <td>1.79</td>\n",
       "      <td>-38.0023</td>\n",
       "      <td>-57.5575</td>\n",
       "    </tr>\n",
       "    <tr>\n",
       "      <th>1</th>\n",
       "      <td>bluff</td>\n",
       "      <td>8.78</td>\n",
       "      <td>89</td>\n",
       "      <td>100</td>\n",
       "      <td>4.79</td>\n",
       "      <td>-46.6000</td>\n",
       "      <td>168.3333</td>\n",
       "    </tr>\n",
       "    <tr>\n",
       "      <th>2</th>\n",
       "      <td>albany</td>\n",
       "      <td>23.09</td>\n",
       "      <td>57</td>\n",
       "      <td>99</td>\n",
       "      <td>0.32</td>\n",
       "      <td>42.6001</td>\n",
       "      <td>-73.9662</td>\n",
       "    </tr>\n",
       "    <tr>\n",
       "      <th>3</th>\n",
       "      <td>provideniya</td>\n",
       "      <td>7.38</td>\n",
       "      <td>78</td>\n",
       "      <td>100</td>\n",
       "      <td>2.78</td>\n",
       "      <td>64.3833</td>\n",
       "      <td>-173.3000</td>\n",
       "    </tr>\n",
       "    <tr>\n",
       "      <th>4</th>\n",
       "      <td>ilhabela</td>\n",
       "      <td>23.12</td>\n",
       "      <td>70</td>\n",
       "      <td>9</td>\n",
       "      <td>1.58</td>\n",
       "      <td>-23.7781</td>\n",
       "      <td>-45.3581</td>\n",
       "    </tr>\n",
       "    <tr>\n",
       "      <th>...</th>\n",
       "      <td>...</td>\n",
       "      <td>...</td>\n",
       "      <td>...</td>\n",
       "      <td>...</td>\n",
       "      <td>...</td>\n",
       "      <td>...</td>\n",
       "      <td>...</td>\n",
       "    </tr>\n",
       "    <tr>\n",
       "      <th>565</th>\n",
       "      <td>oxapampa</td>\n",
       "      <td>19.94</td>\n",
       "      <td>69</td>\n",
       "      <td>12</td>\n",
       "      <td>1.62</td>\n",
       "      <td>-10.5775</td>\n",
       "      <td>-75.4017</td>\n",
       "    </tr>\n",
       "    <tr>\n",
       "      <th>566</th>\n",
       "      <td>batagay</td>\n",
       "      <td>18.51</td>\n",
       "      <td>64</td>\n",
       "      <td>67</td>\n",
       "      <td>0.57</td>\n",
       "      <td>67.6333</td>\n",
       "      <td>134.6333</td>\n",
       "    </tr>\n",
       "    <tr>\n",
       "      <th>567</th>\n",
       "      <td>gokak</td>\n",
       "      <td>24.41</td>\n",
       "      <td>68</td>\n",
       "      <td>100</td>\n",
       "      <td>1.82</td>\n",
       "      <td>16.1667</td>\n",
       "      <td>74.8333</td>\n",
       "    </tr>\n",
       "    <tr>\n",
       "      <th>568</th>\n",
       "      <td>zastron</td>\n",
       "      <td>13.25</td>\n",
       "      <td>59</td>\n",
       "      <td>99</td>\n",
       "      <td>2.08</td>\n",
       "      <td>-30.3023</td>\n",
       "      <td>27.0840</td>\n",
       "    </tr>\n",
       "    <tr>\n",
       "      <th>569</th>\n",
       "      <td>atar</td>\n",
       "      <td>43.62</td>\n",
       "      <td>10</td>\n",
       "      <td>2</td>\n",
       "      <td>8.96</td>\n",
       "      <td>20.5169</td>\n",
       "      <td>-13.0499</td>\n",
       "    </tr>\n",
       "  </tbody>\n",
       "</table>\n",
       "<p>570 rows × 7 columns</p>\n",
       "</div>"
      ],
      "text/plain": [
       "              City  Temperature  %Humidity  Cloudiness  Wind Speed  Latitude  \\\n",
       "0    mar del plata        11.10         60         100        1.79  -38.0023   \n",
       "1            bluff         8.78         89         100        4.79  -46.6000   \n",
       "2           albany        23.09         57          99        0.32   42.6001   \n",
       "3      provideniya         7.38         78         100        2.78   64.3833   \n",
       "4         ilhabela        23.12         70           9        1.58  -23.7781   \n",
       "..             ...          ...        ...         ...         ...       ...   \n",
       "565       oxapampa        19.94         69          12        1.62  -10.5775   \n",
       "566        batagay        18.51         64          67        0.57   67.6333   \n",
       "567          gokak        24.41         68         100        1.82   16.1667   \n",
       "568        zastron        13.25         59          99        2.08  -30.3023   \n",
       "569           atar        43.62         10           2        8.96   20.5169   \n",
       "\n",
       "     Longitude  \n",
       "0     -57.5575  \n",
       "1     168.3333  \n",
       "2     -73.9662  \n",
       "3    -173.3000  \n",
       "4     -45.3581  \n",
       "..         ...  \n",
       "565   -75.4017  \n",
       "566   134.6333  \n",
       "567    74.8333  \n",
       "568    27.0840  \n",
       "569   -13.0499  \n",
       "\n",
       "[570 rows x 7 columns]"
      ]
     },
     "execution_count": 5,
     "metadata": {},
     "output_type": "execute_result"
    }
   ],
   "source": [
    "#create df from city weather query results\n",
    "weather_dict = {\"City\": city_list,\n",
    "               \"Temperature\": temperature,\n",
    "               \"%Humidity\": humidity,\n",
    "               \"Cloudiness\":cloudiness,\n",
    "               \"Wind Speed\": wind_speed,\n",
    "               \"Latitude\": lat_list,\n",
    "               \"Longitude\": lng_list}\n",
    "\n",
    "weather_data = pd.DataFrame(weather_dict)\n",
    "weather_data"
   ]
  },
  {
   "cell_type": "code",
   "execution_count": 6,
   "id": "83f8e171",
   "metadata": {},
   "outputs": [],
   "source": [
    "#export city data to csv\n",
    "weather_data.to_csv('weather_data.csv')"
   ]
  },
  {
   "cell_type": "markdown",
   "id": "39cff247",
   "metadata": {},
   "source": [
    "## Inspect the data and remove the cities where the humidity > 100%.\n",
    "----\n",
    "Skip this step if there are no cities that have humidity > 100%. "
   ]
  },
  {
   "cell_type": "code",
   "execution_count": 12,
   "id": "27bb9a9e",
   "metadata": {},
   "outputs": [
    {
     "data": {
      "text/html": [
       "<div>\n",
       "<style scoped>\n",
       "    .dataframe tbody tr th:only-of-type {\n",
       "        vertical-align: middle;\n",
       "    }\n",
       "\n",
       "    .dataframe tbody tr th {\n",
       "        vertical-align: top;\n",
       "    }\n",
       "\n",
       "    .dataframe thead th {\n",
       "        text-align: right;\n",
       "    }\n",
       "</style>\n",
       "<table border=\"1\" class=\"dataframe\">\n",
       "  <thead>\n",
       "    <tr style=\"text-align: right;\">\n",
       "      <th></th>\n",
       "      <th>City</th>\n",
       "      <th>Temperature</th>\n",
       "      <th>%Humidity</th>\n",
       "      <th>Cloudiness</th>\n",
       "      <th>Wind Speed</th>\n",
       "      <th>Latitude</th>\n",
       "      <th>Longitude</th>\n",
       "    </tr>\n",
       "  </thead>\n",
       "  <tbody>\n",
       "  </tbody>\n",
       "</table>\n",
       "</div>"
      ],
      "text/plain": [
       "Empty DataFrame\n",
       "Columns: [City, Temperature, %Humidity, Cloudiness, Wind Speed, Latitude, Longitude]\n",
       "Index: []"
      ]
     },
     "execution_count": 12,
     "metadata": {},
     "output_type": "execute_result"
    }
   ],
   "source": [
    "#there are no cities in this df with humidity > 100%\n",
    "weather_data.loc[weather_data['%Humidity'] > 100]"
   ]
  },
  {
   "cell_type": "markdown",
   "id": "5bab994d",
   "metadata": {},
   "source": [
    "## Plotting the Data\n",
    "* Use proper labeling of the plots using plot titles (including date of analysis) and axes labels.\n",
    "* Save the plotted figures as .pngs."
   ]
  },
  {
   "cell_type": "markdown",
   "id": "3f4737ad",
   "metadata": {},
   "source": [
    "## Latitude vs. Temperature Plot"
   ]
  },
  {
   "cell_type": "code",
   "execution_count": 13,
   "id": "0e2cdbcd",
   "metadata": {},
   "outputs": [
    {
     "data": {
      "text/html": [
       "<div>\n",
       "<style scoped>\n",
       "    .dataframe tbody tr th:only-of-type {\n",
       "        vertical-align: middle;\n",
       "    }\n",
       "\n",
       "    .dataframe tbody tr th {\n",
       "        vertical-align: top;\n",
       "    }\n",
       "\n",
       "    .dataframe thead th {\n",
       "        text-align: right;\n",
       "    }\n",
       "</style>\n",
       "<table border=\"1\" class=\"dataframe\">\n",
       "  <thead>\n",
       "    <tr style=\"text-align: right;\">\n",
       "      <th></th>\n",
       "      <th>City</th>\n",
       "      <th>Temperature</th>\n",
       "      <th>%Humidity</th>\n",
       "      <th>Cloudiness</th>\n",
       "      <th>Wind Speed</th>\n",
       "      <th>Latitude</th>\n",
       "      <th>Longitude</th>\n",
       "    </tr>\n",
       "  </thead>\n",
       "  <tbody>\n",
       "    <tr>\n",
       "      <th>0</th>\n",
       "      <td>mar del plata</td>\n",
       "      <td>11.10</td>\n",
       "      <td>60</td>\n",
       "      <td>100</td>\n",
       "      <td>1.79</td>\n",
       "      <td>-38.0023</td>\n",
       "      <td>-57.5575</td>\n",
       "    </tr>\n",
       "    <tr>\n",
       "      <th>1</th>\n",
       "      <td>bluff</td>\n",
       "      <td>8.78</td>\n",
       "      <td>89</td>\n",
       "      <td>100</td>\n",
       "      <td>4.79</td>\n",
       "      <td>-46.6000</td>\n",
       "      <td>168.3333</td>\n",
       "    </tr>\n",
       "    <tr>\n",
       "      <th>2</th>\n",
       "      <td>albany</td>\n",
       "      <td>23.09</td>\n",
       "      <td>57</td>\n",
       "      <td>99</td>\n",
       "      <td>0.32</td>\n",
       "      <td>42.6001</td>\n",
       "      <td>-73.9662</td>\n",
       "    </tr>\n",
       "    <tr>\n",
       "      <th>3</th>\n",
       "      <td>provideniya</td>\n",
       "      <td>7.38</td>\n",
       "      <td>78</td>\n",
       "      <td>100</td>\n",
       "      <td>2.78</td>\n",
       "      <td>64.3833</td>\n",
       "      <td>-173.3000</td>\n",
       "    </tr>\n",
       "    <tr>\n",
       "      <th>4</th>\n",
       "      <td>ilhabela</td>\n",
       "      <td>23.12</td>\n",
       "      <td>70</td>\n",
       "      <td>9</td>\n",
       "      <td>1.58</td>\n",
       "      <td>-23.7781</td>\n",
       "      <td>-45.3581</td>\n",
       "    </tr>\n",
       "  </tbody>\n",
       "</table>\n",
       "</div>"
      ],
      "text/plain": [
       "            City  Temperature  %Humidity  Cloudiness  Wind Speed  Latitude  \\\n",
       "0  mar del plata        11.10         60         100        1.79  -38.0023   \n",
       "1          bluff         8.78         89         100        4.79  -46.6000   \n",
       "2         albany        23.09         57          99        0.32   42.6001   \n",
       "3    provideniya         7.38         78         100        2.78   64.3833   \n",
       "4       ilhabela        23.12         70           9        1.58  -23.7781   \n",
       "\n",
       "   Longitude  \n",
       "0   -57.5575  \n",
       "1   168.3333  \n",
       "2   -73.9662  \n",
       "3  -173.3000  \n",
       "4   -45.3581  "
      ]
     },
     "execution_count": 13,
     "metadata": {},
     "output_type": "execute_result"
    }
   ],
   "source": [
    "weather_data.head()"
   ]
  },
  {
   "cell_type": "code",
   "execution_count": 22,
   "id": "19d790e4",
   "metadata": {
    "scrolled": true
   },
   "outputs": [
    {
     "data": {
      "image/png": "[encoded data removed]",
      "text/plain": [
       "<Figure size 432x288 with 1 Axes>"
      ]
     },
     "metadata": {
      "needs_background": "light"
     },
     "output_type": "display_data"
    }
   ],
   "source": [
    "plt.scatter(weather_data['Latitude'], weather_data['Temperature'])\n",
    "plt.xlabel('Latitude')\n",
    "plt.ylabel('Temperature (C)')\n",
    "plt.title('City Temperature vs Latitude')\n",
    "\n",
    "plt.show()"
   ]
  },
  {
   "cell_type": "markdown",
   "id": "0166d667",
   "metadata": {},
   "source": [
    "Explanation"
   ]
  },
  {
   "cell_type": "markdown",
   "id": "d4c92852",
   "metadata": {},
   "source": [
    "## Latitude vs. Humidity Plot"
   ]
  },
  {
   "cell_type": "code",
   "execution_count": 26,
   "id": "eed966f9",
   "metadata": {},
   "outputs": [
    {
     "data": {
      "image/png": "[encoded data removed]",
      "text/plain": [
       "<Figure size 432x288 with 1 Axes>"
      ]
     },
     "metadata": {
      "needs_background": "light"
     },
     "output_type": "display_data"
    }
   ],
   "source": [
    "plt.scatter(weather_data['Latitude'], weather_data['%Humidity'])\n",
    "plt.xlabel('Latitude')\n",
    "plt.ylabel('Humidity (%)')\n",
    "plt.title('City Humidity vs Latitude')\n",
    "\n",
    "plt.show()"
   ]
  },
  {
   "cell_type": "markdown",
   "id": "0c704ddb",
   "metadata": {},
   "source": [
    "Explanation"
   ]
  },
  {
   "cell_type": "markdown",
   "id": "407d1605",
   "metadata": {},
   "source": [
    "## Latitude vs. Cloudiness Plot"
   ]
  },
  {
   "cell_type": "code",
   "execution_count": 25,
   "id": "b6f64b85",
   "metadata": {},
   "outputs": [
    {
     "data": {
      "image/png": "[encoded data removed]",
      "text/plain": [
       "<Figure size 432x288 with 1 Axes>"
      ]
     },
     "metadata": {
      "needs_background": "light"
     },
     "output_type": "display_data"
    }
   ],
   "source": [
    "plt.scatter(weather_data['Latitude'], weather_data['Cloudiness'])\n",
    "plt.xlabel('Latitude')\n",
    "plt.ylabel('Cloudiness (%)')\n",
    "plt.title('City Cloudiness vs Latitude')\n",
    "\n",
    "plt.show()"
   ]
  },
  {
   "cell_type": "markdown",
   "id": "5ea23b3b",
   "metadata": {},
   "source": [
    "Explanation"
   ]
  },
  {
   "cell_type": "markdown",
   "id": "4aefe6a2",
   "metadata": {},
   "source": [
    "## Latitude vs. Wind Speed Plot"
   ]
  },
  {
   "cell_type": "code",
   "execution_count": 27,
   "id": "8c9f7254",
   "metadata": {},
   "outputs": [
    {
     "data": {
      "image/png": "[encoded data removed]",
      "text/plain": [
       "<Figure size 432x288 with 1 Axes>"
      ]
     },
     "metadata": {
      "needs_background": "light"
     },
     "output_type": "display_data"
    }
   ],
   "source": [
    "plt.scatter(weather_data['Latitude'], weather_data['Wind Speed'])\n",
    "plt.xlabel('Latitude')\n",
    "plt.ylabel('Wind Speed (mph)')\n",
    "plt.title('City Wind Speed vs Latitude')\n",
    "\n",
    "plt.show()"
   ]
  },
  {
   "cell_type": "markdown",
   "id": "0316b786",
   "metadata": {},
   "source": [
    "Explanation"
   ]
  },
  {
   "cell_type": "markdown",
   "id": "0f95215d",
   "metadata": {},
   "source": [
    "## Linear Regression"
   ]
  },
  {
   "cell_type": "code",
   "execution_count": 30,
   "id": "e8704024",
   "metadata": {},
   "outputs": [],
   "source": [
    "#Creating dataframes for each hemisphere\n",
    "north_data = weather_data.loc[weather_data['Latitude'] > 0]\n",
    "south_data = weather_data.loc[weather_data['Latitude'] < 0]"
   ]
  },
  {
   "cell_type": "markdown",
   "id": "1a2e75fc",
   "metadata": {},
   "source": [
    "####  Northern Hemisphere - Max Temp vs. Latitude Linear Regression"
   ]
  },
  {
   "cell_type": "code",
   "execution_count": 81,
   "id": "e5e46e7d",
   "metadata": {},
   "outputs": [
    {
     "data": {
      "image/png": "[encoded data removed]",
      "text/plain": [
       "<Figure size 432x288 with 1 Axes>"
      ]
     },
     "metadata": {
      "needs_background": "light"
     },
     "output_type": "display_data"
    },
    {
     "name": "stdout",
     "output_type": "stream",
     "text": [
      " rsquared = 0.46\n"
     ]
    }
   ],
   "source": [
    "plt.scatter(north_data['Latitude'], north_data['Temperature'])\n",
    "plt.xlabel('Latitude')\n",
    "plt.ylabel('Temperature (C)')\n",
    "plt.title('Northern Hemisphere City Temperature vs Latitude')\n",
    "\n",
    "\n",
    "(slope, intercept, rvalue, pvalue, stderr) = linregress(north_data['Latitude'], north_data['Temperature'])\n",
    "regress_values = north_data['Latitude'] * slope + intercept\n",
    "line_eq = f'y = {round(slope,2)}x + {round(intercept, 2)}'\n",
    "\n",
    "plt.plot(north_data['Latitude'], regress_values, color='red')\n",
    "plt.annotate(line_eq,(1,5), color='red', fontsize=10)\n",
    "\n",
    "plt.xlim(0, 80)\n",
    "plt.ylim(0, 50)\n",
    "\n",
    "plt.show()\n",
    "print(f' rsquared = {round(rvalue * rvalue,2)}')"
   ]
  },
  {
   "cell_type": "markdown",
   "id": "2906c677",
   "metadata": {},
   "source": [
    "####  Southern Hemisphere - Max Temp vs. Latitude Linear Regression"
   ]
  },
  {
   "cell_type": "code",
   "execution_count": 82,
   "id": "73c3b80a",
   "metadata": {},
   "outputs": [
    {
     "data": {
      "image/png": "[encoded data removed]",
      "text/plain": [
       "<Figure size 432x288 with 1 Axes>"
      ]
     },
     "metadata": {
      "needs_background": "light"
     },
     "output_type": "display_data"
    },
    {
     "name": "stdout",
     "output_type": "stream",
     "text": [
      " rsquared = 0.56\n"
     ]
    }
   ],
   "source": [
    "plt.scatter(south_data['Latitude'], south_data['Temperature'])\n",
    "plt.xlabel('Latitude')\n",
    "plt.ylabel('Temperature (C)')\n",
    "plt.title('Southern Hemisphere City Temperature vs Latitude')\n",
    "\n",
    "\n",
    "(slope, intercept, rvalue, pvalue, stderr) = linregress(south_data['Latitude'], south_data['Temperature'])\n",
    "regress_values = south_data['Latitude'] * slope + intercept\n",
    "line_eq = f'y = {round(slope,2)}x + {round(intercept, 2)}'\n",
    "\n",
    "plt.plot(south_data['Latitude'], regress_values, color='red')\n",
    "plt.annotate(line_eq,(-45,35), color='red', fontsize=10)\n",
    "\n",
    "plt.xlim(-50, 0)\n",
    "plt.ylim(0, 40)\n",
    "\n",
    "plt.show()\n",
    "print(f' rsquared = {round(rvalue * rvalue,2)}')"
   ]
  },
  {
   "cell_type": "markdown",
   "id": "e1417fd8",
   "metadata": {},
   "source": [
    "Explanation -"
   ]
  },
  {
   "cell_type": "markdown",
   "id": "3f5dd638",
   "metadata": {},
   "source": [
    "####  Northern Hemisphere - Humidity (%) vs. Latitude Linear Regression"
   ]
  },
  {
   "cell_type": "code",
   "execution_count": 83,
   "id": "3c95a3cc",
   "metadata": {},
   "outputs": [
    {
     "data": {
      "image/png": "[encoded data removed]",
      "text/plain": [
       "<Figure size 432x288 with 1 Axes>"
      ]
     },
     "metadata": {
      "needs_background": "light"
     },
     "output_type": "display_data"
    },
    {
     "name": "stdout",
     "output_type": "stream",
     "text": [
      " rsquared = 0.01\n"
     ]
    }
   ],
   "source": [
    "plt.scatter(north_data['Latitude'], north_data['%Humidity'])\n",
    "plt.xlabel('Latitude')\n",
    "plt.ylabel('Humidity (%)')\n",
    "plt.title('Northern Hemisphere City Humidity vs Latitude')\n",
    "\n",
    "\n",
    "(slope, intercept, rvalue, pvalue, stderr) = linregress(north_data['Latitude'], north_data['%Humidity'])\n",
    "regress_values = north_data['Latitude'] * slope + intercept\n",
    "line_eq = f'y = {round(slope,2)}x + {round(intercept, 2)}'\n",
    "\n",
    "plt.plot(north_data['Latitude'], regress_values, color='red')\n",
    "plt.annotate(line_eq,(55,5), color='red', fontsize=10)\n",
    "\n",
    "plt.show()\n",
    "print(f' rsquared = {round(rvalue * rvalue,2)}')"
   ]
  },
  {
   "cell_type": "markdown",
   "id": "15ea28a7",
   "metadata": {},
   "source": [
    "####  Southern Hemisphere - Humidity (%) vs. Latitude Linear Regression"
   ]
  },
  {
   "cell_type": "code",
   "execution_count": 85,
   "id": "256636cd",
   "metadata": {},
   "outputs": [
    {
     "data": {
      "image/png": "[encoded data removed]",
      "text/plain": [
       "<Figure size 432x288 with 1 Axes>"
      ]
     },
     "metadata": {
      "needs_background": "light"
     },
     "output_type": "display_data"
    },
    {
     "name": "stdout",
     "output_type": "stream",
     "text": [
      " rsquared = 0.05\n"
     ]
    }
   ],
   "source": [
    "plt.scatter(south_data['Latitude'], south_data['%Humidity'])\n",
    "plt.xlabel('Latitude')\n",
    "plt.ylabel('Humidity (%)')\n",
    "plt.title('Southern Hemisphere City Humidity vs Latitude')\n",
    "\n",
    "\n",
    "(slope, intercept, rvalue, pvalue, stderr) = linregress(south_data['Latitude'], south_data['%Humidity'])\n",
    "regress_values = south_data['Latitude'] * slope + intercept\n",
    "line_eq = f'y = {round(slope,2)}x + {round(intercept, 2)}'\n",
    "\n",
    "plt.plot(south_data['Latitude'], regress_values, color='red')\n",
    "plt.annotate(line_eq,(-45,35), color='red', fontsize=10)\n",
    "\n",
    "plt.show()\n",
    "print(f' rsquared = {round(rvalue * rvalue,2)}')"
   ]
  },
  {
   "cell_type": "code",
   "execution_count": null,
   "id": "a0903124",
   "metadata": {},
   "outputs": [],
   "source": [
    "Explanation - "
   ]
  },
  {
   "cell_type": "markdown",
   "id": "3310d155",
   "metadata": {},
   "source": [
    "####  Northern Hemisphere - Cloudiness (%) vs. Latitude Linear Regression"
   ]
  },
  {
   "cell_type": "code",
   "execution_count": 91,
   "id": "7bdb0c87",
   "metadata": {},
   "outputs": [
    {
     "data": {
      "image/png": "[encoded data removed]",
      "text/plain": [
       "<Figure size 432x288 with 1 Axes>"
      ]
     },
     "metadata": {
      "needs_background": "light"
     },
     "output_type": "display_data"
    },
    {
     "name": "stdout",
     "output_type": "stream",
     "text": [
      " rsquared = 0.0\n"
     ]
    }
   ],
   "source": [
    "plt.scatter(north_data['Latitude'], north_data['Cloudiness'])\n",
    "plt.xlabel('Latitude')\n",
    "plt.ylabel('Cloudiness (%)')\n",
    "plt.title('Northern Hemisphere City Cloudiness vs Latitude')\n",
    "\n",
    "\n",
    "(slope, intercept, rvalue, pvalue, stderr) = linregress(north_data['Latitude'], north_data['Cloudiness'])\n",
    "regress_values = north_data['Latitude'] * slope + intercept\n",
    "line_eq = f'y = {round(slope,2)}x + {round(intercept, 2)}'\n",
    "\n",
    "plt.plot(north_data['Latitude'], regress_values, color='red')\n",
    "plt.annotate(line_eq,(55,41), color='red', fontsize=12)\n",
    "\n",
    "plt.show()\n",
    "print(f' rsquared = {round(rvalue * rvalue,2)}')"
   ]
  },
  {
   "cell_type": "markdown",
   "id": "c0c4689d",
   "metadata": {},
   "source": [
    "####  Southern Hemisphere - Cloudiness (%) vs. Latitude Linear Regression"
   ]
  },
  {
   "cell_type": "code",
   "execution_count": 94,
   "id": "d555b5cc",
   "metadata": {},
   "outputs": [
    {
     "data": {
      "image/png": "[encoded data removed]",
      "text/plain": [
       "<Figure size 432x288 with 1 Axes>"
      ]
     },
     "metadata": {
      "needs_background": "light"
     },
     "output_type": "display_data"
    },
    {
     "name": "stdout",
     "output_type": "stream",
     "text": [
      " rsquared = 0.0\n"
     ]
    }
   ],
   "source": [
    "plt.scatter(south_data['Latitude'], south_data['Cloudiness'])\n",
    "plt.xlabel('Latitude')\n",
    "plt.ylabel('Cloudiness (%)')\n",
    "plt.title('Southern Hemisphere City Cloudiness vs Latitude')\n",
    "\n",
    "\n",
    "(slope, intercept, rvalue, pvalue, stderr) = linregress(south_data['Latitude'], south_data['Cloudiness'])\n",
    "regress_values = south_data['Latitude'] * slope + intercept\n",
    "line_eq = f'y = {round(slope,2)}x + {round(intercept, 2)}'\n",
    "\n",
    "plt.plot(south_data['Latitude'], regress_values, color='red')\n",
    "plt.annotate(line_eq,(-45,25\n",
    "                     ), color='red', fontsize=10)\n",
    "\n",
    "plt.show()\n",
    "print(f' rsquared = {round(rvalue * rvalue,2)}')"
   ]
  },
  {
   "cell_type": "code",
   "execution_count": null,
   "id": "b94fe56b",
   "metadata": {},
   "outputs": [],
   "source": [
    "Explanation"
   ]
  },
  {
   "cell_type": "markdown",
   "id": "4291fad4",
   "metadata": {},
   "source": [
    "####  Northern Hemisphere - Wind Speed (mph) vs. Latitude Linear Regression"
   ]
  },
  {
   "cell_type": "code",
   "execution_count": 97,
   "id": "1ed4afe4",
   "metadata": {},
   "outputs": [
    {
     "data": {
      "image/png": "[encoded data removed]",
      "text/plain": [
       "<Figure size 432x288 with 1 Axes>"
      ]
     },
     "metadata": {
      "needs_background": "light"
     },
     "output_type": "display_data"
    },
    {
     "name": "stdout",
     "output_type": "stream",
     "text": [
      " rsquared = 0.01\n"
     ]
    }
   ],
   "source": [
    "plt.scatter(north_data['Latitude'], north_data['Wind Speed'])\n",
    "plt.xlabel('Latitude')\n",
    "plt.ylabel('Wind Speed (mph)')\n",
    "plt.title('Northern Hemisphere City Wind Speed vs Latitude')\n",
    "\n",
    "\n",
    "(slope, intercept, rvalue, pvalue, stderr) = linregress(north_data['Latitude'], north_data['Wind Speed'])\n",
    "regress_values = north_data['Latitude'] * slope + intercept\n",
    "line_eq = f'y = {round(slope,2)}x + {round(intercept, 2)}'\n",
    "\n",
    "plt.plot(north_data['Latitude'], regress_values, color='red')\n",
    "plt.annotate(line_eq,(55,12), color='red', fontsize=10)\n",
    "\n",
    "plt.show()\n",
    "print(f' rsquared = {round(rvalue * rvalue,2)}')"
   ]
  },
  {
   "cell_type": "markdown",
   "id": "c60ac2f4",
   "metadata": {},
   "source": [
    "####  Southern Hemisphere - Wind Speed (mph) vs. Latitude Linear Regression"
   ]
  },
  {
   "cell_type": "code",
   "execution_count": 104,
   "id": "fb9b9a39",
   "metadata": {},
   "outputs": [
    {
     "data": {
      "image/png": "[encoded data removed]",
      "text/plain": [
       "<Figure size 432x288 with 1 Axes>"
      ]
     },
     "metadata": {
      "needs_background": "light"
     },
     "output_type": "display_data"
    },
    {
     "name": "stdout",
     "output_type": "stream",
     "text": [
      " rsquared = 0.0\n"
     ]
    }
   ],
   "source": [
    "plt.scatter(south_data['Latitude'], south_data['Wind Speed'])\n",
    "plt.xlabel('Latitude')\n",
    "plt.ylabel('Wind Speed (mph)')\n",
    "plt.title('Southern Hemisphere City Wind Speed vs Latitude')\n",
    "\n",
    "\n",
    "(slope, intercept, rvalue, pvalue, stderr) = linregress(south_data['Latitude'], south_data['Wind Speed'])\n",
    "regress_values = south_data['Latitude'] * slope + intercept\n",
    "line_eq = f'y = {round(slope,2)}x + {round(intercept, 2)}'\n",
    "\n",
    "plt.plot(south_data['Latitude'], regress_values, color='red')\n",
    "plt.annotate(line_eq,(-50,8), color='red', fontsize=15)\n",
    "\n",
    "plt.show()\n",
    "print(f' rsquared = {round(rvalue * rvalue,2)}')"
   ]
  },
  {
   "cell_type": "code",
   "execution_count": null,
   "id": "78daebc1",
   "metadata": {},
   "outputs": [],
   "source": [
    "Explanation"
   ]
  }
 ],
 "metadata": {
  "kernelspec": {
   "display_name": "Python 3 (ipykernel)",
   "language": "python",
   "name": "python3"
  },
  "language_info": {
   "codemirror_mode": {
    "name": "ipython",
    "version": 3
   },
   "file_extension": ".py",
   "mimetype": "text/x-python",
   "name": "python",
   "nbconvert_exporter": "python",
   "pygments_lexer": "ipython3",
   "version": "3.8.13"
  }
 },
 "nbformat": 4,
 "nbformat_minor": 5
}
